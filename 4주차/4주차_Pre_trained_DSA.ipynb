{
 "cells": [
  {
   "cell_type": "code",
   "execution_count": 2,
   "id": "5b39ba70",
   "metadata": {},
   "outputs": [],
   "source": [
    "import pandas as pd\n",
    "from sklearn.model_selection import StratifiedShuffleSplit\n",
    "from scipy.stats import skew\n",
    "import os\n",
    "import csv\n",
    "import pandas as pd\n",
    "from tqdm import tqdm"
   ]
  },
  {
   "cell_type": "code",
   "execution_count": 5,
   "id": "6bfd7e4f",
   "metadata": {},
   "outputs": [
    {
     "data": {
      "text/html": [
       "<div>\n",
       "<style scoped>\n",
       "    .dataframe tbody tr th:only-of-type {\n",
       "        vertical-align: middle;\n",
       "    }\n",
       "\n",
       "    .dataframe tbody tr th {\n",
       "        vertical-align: top;\n",
       "    }\n",
       "\n",
       "    .dataframe thead th {\n",
       "        text-align: right;\n",
       "    }\n",
       "</style>\n",
       "<table border=\"1\" class=\"dataframe\">\n",
       "  <thead>\n",
       "    <tr style=\"text-align: right;\">\n",
       "      <th></th>\n",
       "      <th>T_xacc_mean</th>\n",
       "      <th>T_xacc_max</th>\n",
       "      <th>T_xacc_min</th>\n",
       "      <th>T_xacc_var</th>\n",
       "      <th>T_xacc_std</th>\n",
       "      <th>T_xacc_skew</th>\n",
       "      <th>T_yacc_mean</th>\n",
       "      <th>T_yacc_max</th>\n",
       "      <th>T_yacc_min</th>\n",
       "      <th>T_yacc_var</th>\n",
       "      <th>...</th>\n",
       "      <th>LL_ymag_std</th>\n",
       "      <th>LL_ymag_skew</th>\n",
       "      <th>LL_zmag_mean</th>\n",
       "      <th>LL_zmag_max</th>\n",
       "      <th>LL_zmag_min</th>\n",
       "      <th>LL_zmag_var</th>\n",
       "      <th>LL_zmag_std</th>\n",
       "      <th>LL_zmag_skew</th>\n",
       "      <th>activity</th>\n",
       "      <th>people</th>\n",
       "    </tr>\n",
       "  </thead>\n",
       "  <tbody>\n",
       "    <tr>\n",
       "      <th>0</th>\n",
       "      <td>7.975714</td>\n",
       "      <td>8.1605</td>\n",
       "      <td>7.6823</td>\n",
       "      <td>0.014395</td>\n",
       "      <td>0.119981</td>\n",
       "      <td>-0.023319</td>\n",
       "      <td>1.083150</td>\n",
       "      <td>1.1832</td>\n",
       "      <td>0.99744</td>\n",
       "      <td>0.002208</td>\n",
       "      <td>...</td>\n",
       "      <td>0.000792</td>\n",
       "      <td>0.177075</td>\n",
       "      <td>-0.057119</td>\n",
       "      <td>-0.054963</td>\n",
       "      <td>-0.059241</td>\n",
       "      <td>6.778722e-07</td>\n",
       "      <td>0.000823</td>\n",
       "      <td>0.036729</td>\n",
       "      <td>sitting</td>\n",
       "      <td>p1</td>\n",
       "    </tr>\n",
       "    <tr>\n",
       "      <th>1</th>\n",
       "      <td>7.978250</td>\n",
       "      <td>8.1763</td>\n",
       "      <td>7.8472</td>\n",
       "      <td>0.007551</td>\n",
       "      <td>0.086896</td>\n",
       "      <td>0.552416</td>\n",
       "      <td>1.140865</td>\n",
       "      <td>1.2129</td>\n",
       "      <td>1.05810</td>\n",
       "      <td>0.000784</td>\n",
       "      <td>...</td>\n",
       "      <td>0.000860</td>\n",
       "      <td>-0.286918</td>\n",
       "      <td>-0.057268</td>\n",
       "      <td>-0.054945</td>\n",
       "      <td>-0.059589</td>\n",
       "      <td>7.032302e-07</td>\n",
       "      <td>0.000839</td>\n",
       "      <td>0.347471</td>\n",
       "      <td>sitting</td>\n",
       "      <td>p1</td>\n",
       "    </tr>\n",
       "    <tr>\n",
       "      <th>2</th>\n",
       "      <td>7.970894</td>\n",
       "      <td>8.0860</td>\n",
       "      <td>7.8470</td>\n",
       "      <td>0.003092</td>\n",
       "      <td>0.055603</td>\n",
       "      <td>0.100538</td>\n",
       "      <td>1.140962</td>\n",
       "      <td>1.2128</td>\n",
       "      <td>1.07960</td>\n",
       "      <td>0.000508</td>\n",
       "      <td>...</td>\n",
       "      <td>0.000762</td>\n",
       "      <td>-0.134430</td>\n",
       "      <td>-0.057068</td>\n",
       "      <td>-0.054711</td>\n",
       "      <td>-0.059065</td>\n",
       "      <td>6.268222e-07</td>\n",
       "      <td>0.000792</td>\n",
       "      <td>0.045579</td>\n",
       "      <td>sitting</td>\n",
       "      <td>p1</td>\n",
       "    </tr>\n",
       "    <tr>\n",
       "      <th>3</th>\n",
       "      <td>7.938412</td>\n",
       "      <td>8.1083</td>\n",
       "      <td>7.6901</td>\n",
       "      <td>0.003763</td>\n",
       "      <td>0.061343</td>\n",
       "      <td>-0.231914</td>\n",
       "      <td>1.165260</td>\n",
       "      <td>1.3170</td>\n",
       "      <td>1.07870</td>\n",
       "      <td>0.002173</td>\n",
       "      <td>...</td>\n",
       "      <td>0.000735</td>\n",
       "      <td>0.021485</td>\n",
       "      <td>-0.056422</td>\n",
       "      <td>-0.053670</td>\n",
       "      <td>-0.058310</td>\n",
       "      <td>8.011245e-07</td>\n",
       "      <td>0.000895</td>\n",
       "      <td>0.240690</td>\n",
       "      <td>sitting</td>\n",
       "      <td>p1</td>\n",
       "    </tr>\n",
       "    <tr>\n",
       "      <th>4</th>\n",
       "      <td>7.908930</td>\n",
       "      <td>8.1305</td>\n",
       "      <td>7.8322</td>\n",
       "      <td>0.001741</td>\n",
       "      <td>0.041731</td>\n",
       "      <td>2.042285</td>\n",
       "      <td>1.187504</td>\n",
       "      <td>1.2574</td>\n",
       "      <td>1.09450</td>\n",
       "      <td>0.000662</td>\n",
       "      <td>...</td>\n",
       "      <td>0.000824</td>\n",
       "      <td>-0.148229</td>\n",
       "      <td>-0.055801</td>\n",
       "      <td>-0.053313</td>\n",
       "      <td>-0.057815</td>\n",
       "      <td>6.853423e-07</td>\n",
       "      <td>0.000828</td>\n",
       "      <td>0.258429</td>\n",
       "      <td>sitting</td>\n",
       "      <td>p1</td>\n",
       "    </tr>\n",
       "    <tr>\n",
       "      <th>...</th>\n",
       "      <td>...</td>\n",
       "      <td>...</td>\n",
       "      <td>...</td>\n",
       "      <td>...</td>\n",
       "      <td>...</td>\n",
       "      <td>...</td>\n",
       "      <td>...</td>\n",
       "      <td>...</td>\n",
       "      <td>...</td>\n",
       "      <td>...</td>\n",
       "      <td>...</td>\n",
       "      <td>...</td>\n",
       "      <td>...</td>\n",
       "      <td>...</td>\n",
       "      <td>...</td>\n",
       "      <td>...</td>\n",
       "      <td>...</td>\n",
       "      <td>...</td>\n",
       "      <td>...</td>\n",
       "      <td>...</td>\n",
       "      <td>...</td>\n",
       "    </tr>\n",
       "    <tr>\n",
       "      <th>9115</th>\n",
       "      <td>8.280854</td>\n",
       "      <td>34.1980</td>\n",
       "      <td>-2.9038</td>\n",
       "      <td>28.080803</td>\n",
       "      <td>5.299132</td>\n",
       "      <td>1.350075</td>\n",
       "      <td>-1.491537</td>\n",
       "      <td>11.2240</td>\n",
       "      <td>-11.65100</td>\n",
       "      <td>14.670334</td>\n",
       "      <td>...</td>\n",
       "      <td>0.200829</td>\n",
       "      <td>-0.040701</td>\n",
       "      <td>0.297666</td>\n",
       "      <td>0.708480</td>\n",
       "      <td>-0.117430</td>\n",
       "      <td>4.135451e-02</td>\n",
       "      <td>0.203358</td>\n",
       "      <td>-0.310022</td>\n",
       "      <td>basketBall</td>\n",
       "      <td>p8</td>\n",
       "    </tr>\n",
       "    <tr>\n",
       "      <th>9116</th>\n",
       "      <td>9.591118</td>\n",
       "      <td>51.6970</td>\n",
       "      <td>-3.4129</td>\n",
       "      <td>35.722025</td>\n",
       "      <td>5.976791</td>\n",
       "      <td>2.981144</td>\n",
       "      <td>0.086304</td>\n",
       "      <td>6.9951</td>\n",
       "      <td>-11.76400</td>\n",
       "      <td>5.329897</td>\n",
       "      <td>...</td>\n",
       "      <td>0.148745</td>\n",
       "      <td>-0.266377</td>\n",
       "      <td>0.224716</td>\n",
       "      <td>0.554670</td>\n",
       "      <td>-0.250950</td>\n",
       "      <td>3.355704e-02</td>\n",
       "      <td>0.183186</td>\n",
       "      <td>-0.736410</td>\n",
       "      <td>basketBall</td>\n",
       "      <td>p8</td>\n",
       "    </tr>\n",
       "    <tr>\n",
       "      <th>9117</th>\n",
       "      <td>9.599113</td>\n",
       "      <td>27.9300</td>\n",
       "      <td>-1.0765</td>\n",
       "      <td>48.850886</td>\n",
       "      <td>6.989341</td>\n",
       "      <td>0.449237</td>\n",
       "      <td>-0.728367</td>\n",
       "      <td>3.7801</td>\n",
       "      <td>-8.36910</td>\n",
       "      <td>5.683022</td>\n",
       "      <td>...</td>\n",
       "      <td>0.310748</td>\n",
       "      <td>-0.009505</td>\n",
       "      <td>-0.237786</td>\n",
       "      <td>0.088854</td>\n",
       "      <td>-0.477260</td>\n",
       "      <td>2.026107e-02</td>\n",
       "      <td>0.142341</td>\n",
       "      <td>0.668438</td>\n",
       "      <td>basketBall</td>\n",
       "      <td>p8</td>\n",
       "    </tr>\n",
       "    <tr>\n",
       "      <th>9118</th>\n",
       "      <td>9.692482</td>\n",
       "      <td>72.7820</td>\n",
       "      <td>-2.6734</td>\n",
       "      <td>59.378336</td>\n",
       "      <td>7.705734</td>\n",
       "      <td>4.491114</td>\n",
       "      <td>-0.582724</td>\n",
       "      <td>6.1216</td>\n",
       "      <td>-8.85710</td>\n",
       "      <td>4.162963</td>\n",
       "      <td>...</td>\n",
       "      <td>0.156493</td>\n",
       "      <td>0.050624</td>\n",
       "      <td>0.533023</td>\n",
       "      <td>0.677800</td>\n",
       "      <td>0.055941</td>\n",
       "      <td>1.356379e-02</td>\n",
       "      <td>0.116464</td>\n",
       "      <td>-1.482489</td>\n",
       "      <td>basketBall</td>\n",
       "      <td>p8</td>\n",
       "    </tr>\n",
       "    <tr>\n",
       "      <th>9119</th>\n",
       "      <td>9.380641</td>\n",
       "      <td>45.0090</td>\n",
       "      <td>-3.5938</td>\n",
       "      <td>40.459334</td>\n",
       "      <td>6.360765</td>\n",
       "      <td>1.688626</td>\n",
       "      <td>-0.266325</td>\n",
       "      <td>5.8603</td>\n",
       "      <td>-6.91970</td>\n",
       "      <td>4.017098</td>\n",
       "      <td>...</td>\n",
       "      <td>0.229154</td>\n",
       "      <td>-0.342228</td>\n",
       "      <td>0.491919</td>\n",
       "      <td>0.707920</td>\n",
       "      <td>0.251280</td>\n",
       "      <td>9.358254e-03</td>\n",
       "      <td>0.096738</td>\n",
       "      <td>-0.223302</td>\n",
       "      <td>basketBall</td>\n",
       "      <td>p8</td>\n",
       "    </tr>\n",
       "  </tbody>\n",
       "</table>\n",
       "<p>9120 rows × 272 columns</p>\n",
       "</div>"
      ],
      "text/plain": [
       "      T_xacc_mean  T_xacc_max  T_xacc_min  T_xacc_var  T_xacc_std  \\\n",
       "0        7.975714      8.1605      7.6823    0.014395    0.119981   \n",
       "1        7.978250      8.1763      7.8472    0.007551    0.086896   \n",
       "2        7.970894      8.0860      7.8470    0.003092    0.055603   \n",
       "3        7.938412      8.1083      7.6901    0.003763    0.061343   \n",
       "4        7.908930      8.1305      7.8322    0.001741    0.041731   \n",
       "...           ...         ...         ...         ...         ...   \n",
       "9115     8.280854     34.1980     -2.9038   28.080803    5.299132   \n",
       "9116     9.591118     51.6970     -3.4129   35.722025    5.976791   \n",
       "9117     9.599113     27.9300     -1.0765   48.850886    6.989341   \n",
       "9118     9.692482     72.7820     -2.6734   59.378336    7.705734   \n",
       "9119     9.380641     45.0090     -3.5938   40.459334    6.360765   \n",
       "\n",
       "      T_xacc_skew  T_yacc_mean  T_yacc_max  T_yacc_min  T_yacc_var  ...  \\\n",
       "0       -0.023319     1.083150      1.1832     0.99744    0.002208  ...   \n",
       "1        0.552416     1.140865      1.2129     1.05810    0.000784  ...   \n",
       "2        0.100538     1.140962      1.2128     1.07960    0.000508  ...   \n",
       "3       -0.231914     1.165260      1.3170     1.07870    0.002173  ...   \n",
       "4        2.042285     1.187504      1.2574     1.09450    0.000662  ...   \n",
       "...           ...          ...         ...         ...         ...  ...   \n",
       "9115     1.350075    -1.491537     11.2240   -11.65100   14.670334  ...   \n",
       "9116     2.981144     0.086304      6.9951   -11.76400    5.329897  ...   \n",
       "9117     0.449237    -0.728367      3.7801    -8.36910    5.683022  ...   \n",
       "9118     4.491114    -0.582724      6.1216    -8.85710    4.162963  ...   \n",
       "9119     1.688626    -0.266325      5.8603    -6.91970    4.017098  ...   \n",
       "\n",
       "      LL_ymag_std  LL_ymag_skew  LL_zmag_mean  LL_zmag_max  LL_zmag_min  \\\n",
       "0        0.000792      0.177075     -0.057119    -0.054963    -0.059241   \n",
       "1        0.000860     -0.286918     -0.057268    -0.054945    -0.059589   \n",
       "2        0.000762     -0.134430     -0.057068    -0.054711    -0.059065   \n",
       "3        0.000735      0.021485     -0.056422    -0.053670    -0.058310   \n",
       "4        0.000824     -0.148229     -0.055801    -0.053313    -0.057815   \n",
       "...           ...           ...           ...          ...          ...   \n",
       "9115     0.200829     -0.040701      0.297666     0.708480    -0.117430   \n",
       "9116     0.148745     -0.266377      0.224716     0.554670    -0.250950   \n",
       "9117     0.310748     -0.009505     -0.237786     0.088854    -0.477260   \n",
       "9118     0.156493      0.050624      0.533023     0.677800     0.055941   \n",
       "9119     0.229154     -0.342228      0.491919     0.707920     0.251280   \n",
       "\n",
       "       LL_zmag_var  LL_zmag_std  LL_zmag_skew    activity  people  \n",
       "0     6.778722e-07     0.000823      0.036729     sitting      p1  \n",
       "1     7.032302e-07     0.000839      0.347471     sitting      p1  \n",
       "2     6.268222e-07     0.000792      0.045579     sitting      p1  \n",
       "3     8.011245e-07     0.000895      0.240690     sitting      p1  \n",
       "4     6.853423e-07     0.000828      0.258429     sitting      p1  \n",
       "...            ...          ...           ...         ...     ...  \n",
       "9115  4.135451e-02     0.203358     -0.310022  basketBall      p8  \n",
       "9116  3.355704e-02     0.183186     -0.736410  basketBall      p8  \n",
       "9117  2.026107e-02     0.142341      0.668438  basketBall      p8  \n",
       "9118  1.356379e-02     0.116464     -1.482489  basketBall      p8  \n",
       "9119  9.358254e-03     0.096738     -0.223302  basketBall      p8  \n",
       "\n",
       "[9120 rows x 272 columns]"
      ]
     },
     "execution_count": 5,
     "metadata": {},
     "output_type": "execute_result"
    }
   ],
   "source": [
    "df = pd.read_csv(\"/Users/gim-yuseong/Desktop/PycharmProjects/2024_3_2/2024_3_2_딥러닝응용/DSA_features.csv\")\n",
    "df"
   ]
  },
  {
   "cell_type": "code",
   "execution_count": 6,
   "id": "88a448fa",
   "metadata": {},
   "outputs": [
    {
     "data": {
      "text/plain": [
       "Index(['T_xacc_mean', 'T_xacc_max', 'T_xacc_min', 'T_xacc_var', 'T_xacc_std',\n",
       "       'T_xacc_skew', 'T_yacc_mean', 'T_yacc_max', 'T_yacc_min', 'T_yacc_var',\n",
       "       ...\n",
       "       'LL_ymag_std', 'LL_ymag_skew', 'LL_zmag_mean', 'LL_zmag_max',\n",
       "       'LL_zmag_min', 'LL_zmag_var', 'LL_zmag_std', 'LL_zmag_skew', 'activity',\n",
       "       'people'],\n",
       "      dtype='object', length=272)"
      ]
     },
     "execution_count": 6,
     "metadata": {},
     "output_type": "execute_result"
    }
   ],
   "source": [
    "df.columns"
   ]
  },
  {
   "cell_type": "code",
   "execution_count": 7,
   "id": "228992a8",
   "metadata": {},
   "outputs": [
    {
     "data": {
      "text/plain": [
       "sitting                    480\n",
       "walkingTreadmillIncline    480\n",
       "jumping                    480\n",
       "rowing                     480\n",
       "cyclingVertical            480\n",
       "cyclingHorizontal          480\n",
       "crossTrainer               480\n",
       "stepper                    480\n",
       "runningTreadmill           480\n",
       "walkingTreadmillFlat       480\n",
       "standing                   480\n",
       "walkingLot                 480\n",
       "movingInElevator           480\n",
       "standingInElevatorStill    480\n",
       "decendingStairs            480\n",
       "ascendingStairs            480\n",
       "lyingRigh                  480\n",
       "lyingBack                  480\n",
       "basketBall                 480\n",
       "Name: activity, dtype: int64"
      ]
     },
     "execution_count": 7,
     "metadata": {},
     "output_type": "execute_result"
    }
   ],
   "source": [
    "df['activity'].value_counts()"
   ]
  },
  {
   "cell_type": "code",
   "execution_count": 8,
   "id": "64cc3f57",
   "metadata": {},
   "outputs": [
    {
     "data": {
      "text/plain": [
       "Text(0, 0.5, 'Count')"
      ]
     },
     "execution_count": 8,
     "metadata": {},
     "output_type": "execute_result"
    },
    {
     "data": {
      "image/png": "[encoded data removed]",
      "text/plain": [
       "<Figure size 640x480 with 1 Axes>"
      ]
     },
     "metadata": {},
     "output_type": "display_data"
    }
   ],
   "source": [
    "import pandas as pd\n",
    "import matplotlib.pyplot as plt\n",
    "\n",
    "# 레이블별 갯수 확인\n",
    "label_counts = df['activity'].value_counts()\n",
    "\n",
    "# 바 그래프 그리기\n",
    "label_counts.plot(kind='bar')\n",
    "\n",
    "# 그래프 제목 및 라벨 설정\n",
    "plt.title('Label Count')\n",
    "plt.xlabel('Labels')\n",
    "plt.ylabel('Count')"
   ]
  },
  {
   "cell_type": "code",
   "execution_count": 9,
   "id": "2c5d1033",
   "metadata": {},
   "outputs": [
    {
     "name": "stdout",
     "output_type": "stream",
     "text": [
      "      RA_xacc_mean  RA_xacc_max  RA_xacc_min  RA_xacc_var  RA_xacc_std  \\\n",
      "0         0.679134      0.75930      0.58542     0.001546     0.039324   \n",
      "1         0.644964      0.73158      0.53064     0.001333     0.036508   \n",
      "2         0.608212      0.67737      0.53546     0.000637     0.025244   \n",
      "3         0.591138      0.71177      0.51524     0.001349     0.036731   \n",
      "4         0.558168      0.67190      0.50535     0.000626     0.025020   \n",
      "...            ...          ...          ...          ...          ...   \n",
      "9115      8.690373     30.46300     -4.90150    47.192912     6.869710   \n",
      "9116      6.477090     48.54700     -9.96820    44.135927     6.643488   \n",
      "9117      6.309986     27.29900     -8.43140    57.018917     7.551087   \n",
      "9118      5.020496     30.16600    -20.25100    67.001032     8.185416   \n",
      "9119      4.293377     31.57000    -22.85700   105.947639    10.293087   \n",
      "\n",
      "      RA_xacc_skew  RA_yacc_mean  RA_yacc_max  RA_yacc_min  RA_yacc_var  ...  \\\n",
      "0        -0.415694      5.713088       5.8483       5.5956     0.003779  ...   \n",
      "1         0.410625      5.795154       5.9546       5.6687     0.001132  ...   \n",
      "2         0.153302      5.833086       5.8918       5.7656     0.000488  ...   \n",
      "3         0.525019      5.863846       5.9645       5.7556     0.001423  ...   \n",
      "4         1.076782      5.884745       5.9401       5.8384     0.000471  ...   \n",
      "...            ...           ...          ...          ...          ...  ...   \n",
      "9115      0.650080      2.187710      41.3410     -10.1410    81.350613  ...   \n",
      "9116      1.675812      5.845459      33.7910     -48.3200    93.600217  ...   \n",
      "9117      0.108921      6.342772      27.0570      -6.6706    51.945094  ...   \n",
      "9118      0.157547      5.824265      27.6300     -19.8830    63.100134  ...   \n",
      "9119      0.223835      5.504619      27.3490     -13.7600    69.050466  ...   \n",
      "\n",
      "      RA_ymag_min  RA_ymag_var  RA_ymag_std  RA_ymag_skew  RA_zmag_mean  \\\n",
      "0        -0.57428     0.000012     0.003401     -0.052190     -0.211136   \n",
      "1        -0.57398     0.000005     0.002216      0.222740     -0.206431   \n",
      "2        -0.57563     0.000004     0.001954     -0.221765     -0.205648   \n",
      "3        -0.57858     0.000007     0.002688      0.075011     -0.203739   \n",
      "4        -0.57996     0.000005     0.002278     -0.219440     -0.203684   \n",
      "...           ...          ...          ...           ...           ...   \n",
      "9115     -0.89670     0.177217     0.420971      1.232819     -0.120793   \n",
      "9116     -0.85305     0.158099     0.397617      1.560701     -0.133269   \n",
      "9117     -0.83512     0.126188     0.355229      1.598340     -0.567238   \n",
      "9118     -0.87361     0.174494     0.417725      0.758435      0.211566   \n",
      "9119     -0.88818     0.144466     0.380087      0.359933      0.146602   \n",
      "\n",
      "      RA_zmag_max  RA_zmag_min  RA_zmag_var  RA_zmag_std  RA_zmag_skew  \n",
      "0        -0.18401     -0.24523     0.000044     0.006638     -1.153902  \n",
      "1        -0.18054     -0.23624     0.000032     0.005660      0.458427  \n",
      "2        -0.18342     -0.22933     0.000024     0.004868     -0.984915  \n",
      "3        -0.17999     -0.22958     0.000026     0.005099      0.185634  \n",
      "4        -0.17904     -0.22924     0.000027     0.005175     -0.820907  \n",
      "...           ...          ...          ...          ...           ...  \n",
      "9115      0.58641     -0.61373     0.077901     0.279107      0.611462  \n",
      "9116      0.51707     -0.52776     0.058400     0.241661      0.574120  \n",
      "9117     -0.14483     -0.82409     0.023408     0.152998      0.598665  \n",
      "9118      0.67931     -0.22328     0.060114     0.245181      0.316989  \n",
      "9119      0.62601     -0.28631     0.055074     0.234679      0.123701  \n",
      "\n",
      "[9120 rows x 54 columns]       LA_xacc_mean  LA_xacc_max  LA_xacc_min  LA_xacc_var  LA_xacc_std  \\\n",
      "0         3.403317       3.4875       3.2682     0.001583     0.039790   \n",
      "1         3.427302       3.6630       3.3168     0.004305     0.065614   \n",
      "2         3.400870       3.5168       3.3315     0.001007     0.031732   \n",
      "3         3.391002       3.5311       3.2608     0.001792     0.042328   \n",
      "4         3.359974       3.4434       3.3069     0.000633     0.025160   \n",
      "...            ...          ...          ...          ...          ...   \n",
      "9115      8.834459      40.1640     -15.3980   140.063928    11.834861   \n",
      "9116      6.647402      43.9160     -22.3060    65.655140     8.102786   \n",
      "9117      3.108810      40.2770     -10.9500    84.701543     9.203344   \n",
      "9118      5.141190      68.5920     -43.1120   137.860050    11.741382   \n",
      "9119      3.479606      65.9370     -36.2990   181.700701    13.479640   \n",
      "\n",
      "      LA_xacc_skew  LA_yacc_mean  LA_yacc_max  LA_yacc_min  LA_yacc_var  ...  \\\n",
      "0        -0.744647     -8.375713      -8.2927      -8.4821     0.001178  ...   \n",
      "1         1.000107     -8.397591      -8.3118      -8.5017     0.001098  ...   \n",
      "2         0.978319     -8.439138      -8.3599      -8.5204     0.000684  ...   \n",
      "3         0.117935     -8.441421      -8.3207      -8.5446     0.001862  ...   \n",
      "4         1.051627     -8.454854      -8.3202      -8.5561     0.001061  ...   \n",
      "...            ...           ...          ...          ...          ...  ...   \n",
      "9115      0.486128     -3.441297      39.7590     -53.6520   142.221816  ...   \n",
      "9116      0.067916     -5.140474      26.7770     -41.9160    57.947729  ...   \n",
      "9117      1.178224     -4.881662      43.4020     -27.3490    76.687479  ...   \n",
      "9118      1.219670     -3.365847      23.6960     -34.5820    62.714997  ...   \n",
      "9119      1.245403     -3.535975      43.4110     -28.5330    94.840253  ...   \n",
      "\n",
      "      LA_ymag_min  LA_ymag_var  LA_ymag_std  LA_ymag_skew  LA_zmag_mean  \\\n",
      "0         0.33748     0.000003     0.001810     -0.215069      0.072273   \n",
      "1         0.33000     0.000017     0.004159     -0.611251      0.074557   \n",
      "2         0.33307     0.000002     0.001316     -0.506255      0.075852   \n",
      "3         0.33431     0.000002     0.001395      0.155251      0.074878   \n",
      "4         0.33631     0.000001     0.001005     -0.299017      0.073398   \n",
      "...           ...          ...          ...           ...           ...   \n",
      "9115     -0.87575     0.210911     0.459250     -0.421162     -0.529403   \n",
      "9116     -0.77618     0.143162     0.378368     -1.307983     -0.466066   \n",
      "9117      0.16648     0.035696     0.188933     -0.736037     -0.286489   \n",
      "9118     -0.85130     0.205452     0.453268      0.171353     -0.567578   \n",
      "9119     -0.84444     0.273957     0.523409      0.275649     -0.415991   \n",
      "\n",
      "      LA_zmag_max  LA_zmag_min  LA_zmag_var  LA_zmag_std  LA_zmag_skew  \n",
      "0        0.076374     0.067940     0.000004     0.001910     -0.166015  \n",
      "1        0.085184     0.068169     0.000022     0.004643      0.717286  \n",
      "2        0.083227     0.072507     0.000004     0.002106      1.043919  \n",
      "3        0.080059     0.069942     0.000006     0.002414      0.242524  \n",
      "4        0.077461     0.070175     0.000002     0.001482      0.606258  \n",
      "...           ...          ...          ...          ...           ...  \n",
      "9115     0.653000    -0.879310     0.123917     0.352018      1.813520  \n",
      "9116     0.659650    -0.835960     0.167255     0.408968      1.483683  \n",
      "9117     0.632420    -0.837640     0.109532     0.330956      0.502392  \n",
      "9118     0.264780    -0.854420     0.059971     0.244890      1.467799  \n",
      "9119     0.267410    -0.849240     0.076105     0.275871      0.349721  \n",
      "\n",
      "[9120 rows x 54 columns]\n"
     ]
    }
   ],
   "source": [
    "df_RA = df.filter(regex='RA_') \n",
    "df_LA = df.filter(regex='LA_')\n",
    "\n",
    "print(df_RA,df_LA)"
   ]
  },
  {
   "cell_type": "code",
   "execution_count": 10,
   "id": "69a704f6",
   "metadata": {},
   "outputs": [],
   "source": [
    "df_RA.insert(3, 'activity', df['activity'])"
   ]
  },
  {
   "cell_type": "code",
   "execution_count": 11,
   "id": "27ad6cd2",
   "metadata": {},
   "outputs": [],
   "source": [
    "df_LA.insert(3, 'activity', df['activity'])"
   ]
  },
  {
   "cell_type": "code",
   "execution_count": 12,
   "id": "75dc125d",
   "metadata": {},
   "outputs": [
    {
     "data": {
      "text/html": [
       "<div>\n",
       "<style scoped>\n",
       "    .dataframe tbody tr th:only-of-type {\n",
       "        vertical-align: middle;\n",
       "    }\n",
       "\n",
       "    .dataframe tbody tr th {\n",
       "        vertical-align: top;\n",
       "    }\n",
       "\n",
       "    .dataframe thead th {\n",
       "        text-align: right;\n",
       "    }\n",
       "</style>\n",
       "<table border=\"1\" class=\"dataframe\">\n",
       "  <thead>\n",
       "    <tr style=\"text-align: right;\">\n",
       "      <th></th>\n",
       "      <th>RA_xacc_mean</th>\n",
       "      <th>RA_xacc_max</th>\n",
       "      <th>RA_xacc_min</th>\n",
       "      <th>activity</th>\n",
       "      <th>RA_xacc_var</th>\n",
       "      <th>RA_xacc_std</th>\n",
       "      <th>RA_xacc_skew</th>\n",
       "      <th>RA_yacc_mean</th>\n",
       "      <th>RA_yacc_max</th>\n",
       "      <th>RA_yacc_min</th>\n",
       "      <th>...</th>\n",
       "      <th>RA_ymag_min</th>\n",
       "      <th>RA_ymag_var</th>\n",
       "      <th>RA_ymag_std</th>\n",
       "      <th>RA_ymag_skew</th>\n",
       "      <th>RA_zmag_mean</th>\n",
       "      <th>RA_zmag_max</th>\n",
       "      <th>RA_zmag_min</th>\n",
       "      <th>RA_zmag_var</th>\n",
       "      <th>RA_zmag_std</th>\n",
       "      <th>RA_zmag_skew</th>\n",
       "    </tr>\n",
       "  </thead>\n",
       "  <tbody>\n",
       "    <tr>\n",
       "      <th>0</th>\n",
       "      <td>0.679134</td>\n",
       "      <td>0.75930</td>\n",
       "      <td>0.58542</td>\n",
       "      <td>sitting</td>\n",
       "      <td>0.001546</td>\n",
       "      <td>0.039324</td>\n",
       "      <td>-0.415694</td>\n",
       "      <td>5.713088</td>\n",
       "      <td>5.8483</td>\n",
       "      <td>5.5956</td>\n",
       "      <td>...</td>\n",
       "      <td>-0.57428</td>\n",
       "      <td>0.000012</td>\n",
       "      <td>0.003401</td>\n",
       "      <td>-0.052190</td>\n",
       "      <td>-0.211136</td>\n",
       "      <td>-0.18401</td>\n",
       "      <td>-0.24523</td>\n",
       "      <td>0.000044</td>\n",
       "      <td>0.006638</td>\n",
       "      <td>-1.153902</td>\n",
       "    </tr>\n",
       "    <tr>\n",
       "      <th>1</th>\n",
       "      <td>0.644964</td>\n",
       "      <td>0.73158</td>\n",
       "      <td>0.53064</td>\n",
       "      <td>sitting</td>\n",
       "      <td>0.001333</td>\n",
       "      <td>0.036508</td>\n",
       "      <td>0.410625</td>\n",
       "      <td>5.795154</td>\n",
       "      <td>5.9546</td>\n",
       "      <td>5.6687</td>\n",
       "      <td>...</td>\n",
       "      <td>-0.57398</td>\n",
       "      <td>0.000005</td>\n",
       "      <td>0.002216</td>\n",
       "      <td>0.222740</td>\n",
       "      <td>-0.206431</td>\n",
       "      <td>-0.18054</td>\n",
       "      <td>-0.23624</td>\n",
       "      <td>0.000032</td>\n",
       "      <td>0.005660</td>\n",
       "      <td>0.458427</td>\n",
       "    </tr>\n",
       "    <tr>\n",
       "      <th>2</th>\n",
       "      <td>0.608212</td>\n",
       "      <td>0.67737</td>\n",
       "      <td>0.53546</td>\n",
       "      <td>sitting</td>\n",
       "      <td>0.000637</td>\n",
       "      <td>0.025244</td>\n",
       "      <td>0.153302</td>\n",
       "      <td>5.833086</td>\n",
       "      <td>5.8918</td>\n",
       "      <td>5.7656</td>\n",
       "      <td>...</td>\n",
       "      <td>-0.57563</td>\n",
       "      <td>0.000004</td>\n",
       "      <td>0.001954</td>\n",
       "      <td>-0.221765</td>\n",
       "      <td>-0.205648</td>\n",
       "      <td>-0.18342</td>\n",
       "      <td>-0.22933</td>\n",
       "      <td>0.000024</td>\n",
       "      <td>0.004868</td>\n",
       "      <td>-0.984915</td>\n",
       "    </tr>\n",
       "    <tr>\n",
       "      <th>3</th>\n",
       "      <td>0.591138</td>\n",
       "      <td>0.71177</td>\n",
       "      <td>0.51524</td>\n",
       "      <td>sitting</td>\n",
       "      <td>0.001349</td>\n",
       "      <td>0.036731</td>\n",
       "      <td>0.525019</td>\n",
       "      <td>5.863846</td>\n",
       "      <td>5.9645</td>\n",
       "      <td>5.7556</td>\n",
       "      <td>...</td>\n",
       "      <td>-0.57858</td>\n",
       "      <td>0.000007</td>\n",
       "      <td>0.002688</td>\n",
       "      <td>0.075011</td>\n",
       "      <td>-0.203739</td>\n",
       "      <td>-0.17999</td>\n",
       "      <td>-0.22958</td>\n",
       "      <td>0.000026</td>\n",
       "      <td>0.005099</td>\n",
       "      <td>0.185634</td>\n",
       "    </tr>\n",
       "    <tr>\n",
       "      <th>4</th>\n",
       "      <td>0.558168</td>\n",
       "      <td>0.67190</td>\n",
       "      <td>0.50535</td>\n",
       "      <td>sitting</td>\n",
       "      <td>0.000626</td>\n",
       "      <td>0.025020</td>\n",
       "      <td>1.076782</td>\n",
       "      <td>5.884745</td>\n",
       "      <td>5.9401</td>\n",
       "      <td>5.8384</td>\n",
       "      <td>...</td>\n",
       "      <td>-0.57996</td>\n",
       "      <td>0.000005</td>\n",
       "      <td>0.002278</td>\n",
       "      <td>-0.219440</td>\n",
       "      <td>-0.203684</td>\n",
       "      <td>-0.17904</td>\n",
       "      <td>-0.22924</td>\n",
       "      <td>0.000027</td>\n",
       "      <td>0.005175</td>\n",
       "      <td>-0.820907</td>\n",
       "    </tr>\n",
       "    <tr>\n",
       "      <th>...</th>\n",
       "      <td>...</td>\n",
       "      <td>...</td>\n",
       "      <td>...</td>\n",
       "      <td>...</td>\n",
       "      <td>...</td>\n",
       "      <td>...</td>\n",
       "      <td>...</td>\n",
       "      <td>...</td>\n",
       "      <td>...</td>\n",
       "      <td>...</td>\n",
       "      <td>...</td>\n",
       "      <td>...</td>\n",
       "      <td>...</td>\n",
       "      <td>...</td>\n",
       "      <td>...</td>\n",
       "      <td>...</td>\n",
       "      <td>...</td>\n",
       "      <td>...</td>\n",
       "      <td>...</td>\n",
       "      <td>...</td>\n",
       "      <td>...</td>\n",
       "    </tr>\n",
       "    <tr>\n",
       "      <th>9115</th>\n",
       "      <td>8.690373</td>\n",
       "      <td>30.46300</td>\n",
       "      <td>-4.90150</td>\n",
       "      <td>basketBall</td>\n",
       "      <td>47.192912</td>\n",
       "      <td>6.869710</td>\n",
       "      <td>0.650080</td>\n",
       "      <td>2.187710</td>\n",
       "      <td>41.3410</td>\n",
       "      <td>-10.1410</td>\n",
       "      <td>...</td>\n",
       "      <td>-0.89670</td>\n",
       "      <td>0.177217</td>\n",
       "      <td>0.420971</td>\n",
       "      <td>1.232819</td>\n",
       "      <td>-0.120793</td>\n",
       "      <td>0.58641</td>\n",
       "      <td>-0.61373</td>\n",
       "      <td>0.077901</td>\n",
       "      <td>0.279107</td>\n",
       "      <td>0.611462</td>\n",
       "    </tr>\n",
       "    <tr>\n",
       "      <th>9116</th>\n",
       "      <td>6.477090</td>\n",
       "      <td>48.54700</td>\n",
       "      <td>-9.96820</td>\n",
       "      <td>basketBall</td>\n",
       "      <td>44.135927</td>\n",
       "      <td>6.643488</td>\n",
       "      <td>1.675812</td>\n",
       "      <td>5.845459</td>\n",
       "      <td>33.7910</td>\n",
       "      <td>-48.3200</td>\n",
       "      <td>...</td>\n",
       "      <td>-0.85305</td>\n",
       "      <td>0.158099</td>\n",
       "      <td>0.397617</td>\n",
       "      <td>1.560701</td>\n",
       "      <td>-0.133269</td>\n",
       "      <td>0.51707</td>\n",
       "      <td>-0.52776</td>\n",
       "      <td>0.058400</td>\n",
       "      <td>0.241661</td>\n",
       "      <td>0.574120</td>\n",
       "    </tr>\n",
       "    <tr>\n",
       "      <th>9117</th>\n",
       "      <td>6.309986</td>\n",
       "      <td>27.29900</td>\n",
       "      <td>-8.43140</td>\n",
       "      <td>basketBall</td>\n",
       "      <td>57.018917</td>\n",
       "      <td>7.551087</td>\n",
       "      <td>0.108921</td>\n",
       "      <td>6.342772</td>\n",
       "      <td>27.0570</td>\n",
       "      <td>-6.6706</td>\n",
       "      <td>...</td>\n",
       "      <td>-0.83512</td>\n",
       "      <td>0.126188</td>\n",
       "      <td>0.355229</td>\n",
       "      <td>1.598340</td>\n",
       "      <td>-0.567238</td>\n",
       "      <td>-0.14483</td>\n",
       "      <td>-0.82409</td>\n",
       "      <td>0.023408</td>\n",
       "      <td>0.152998</td>\n",
       "      <td>0.598665</td>\n",
       "    </tr>\n",
       "    <tr>\n",
       "      <th>9118</th>\n",
       "      <td>5.020496</td>\n",
       "      <td>30.16600</td>\n",
       "      <td>-20.25100</td>\n",
       "      <td>basketBall</td>\n",
       "      <td>67.001032</td>\n",
       "      <td>8.185416</td>\n",
       "      <td>0.157547</td>\n",
       "      <td>5.824265</td>\n",
       "      <td>27.6300</td>\n",
       "      <td>-19.8830</td>\n",
       "      <td>...</td>\n",
       "      <td>-0.87361</td>\n",
       "      <td>0.174494</td>\n",
       "      <td>0.417725</td>\n",
       "      <td>0.758435</td>\n",
       "      <td>0.211566</td>\n",
       "      <td>0.67931</td>\n",
       "      <td>-0.22328</td>\n",
       "      <td>0.060114</td>\n",
       "      <td>0.245181</td>\n",
       "      <td>0.316989</td>\n",
       "    </tr>\n",
       "    <tr>\n",
       "      <th>9119</th>\n",
       "      <td>4.293377</td>\n",
       "      <td>31.57000</td>\n",
       "      <td>-22.85700</td>\n",
       "      <td>basketBall</td>\n",
       "      <td>105.947639</td>\n",
       "      <td>10.293087</td>\n",
       "      <td>0.223835</td>\n",
       "      <td>5.504619</td>\n",
       "      <td>27.3490</td>\n",
       "      <td>-13.7600</td>\n",
       "      <td>...</td>\n",
       "      <td>-0.88818</td>\n",
       "      <td>0.144466</td>\n",
       "      <td>0.380087</td>\n",
       "      <td>0.359933</td>\n",
       "      <td>0.146602</td>\n",
       "      <td>0.62601</td>\n",
       "      <td>-0.28631</td>\n",
       "      <td>0.055074</td>\n",
       "      <td>0.234679</td>\n",
       "      <td>0.123701</td>\n",
       "    </tr>\n",
       "  </tbody>\n",
       "</table>\n",
       "<p>9120 rows × 55 columns</p>\n",
       "</div>"
      ],
      "text/plain": [
       "      RA_xacc_mean  RA_xacc_max  RA_xacc_min    activity  RA_xacc_var  \\\n",
       "0         0.679134      0.75930      0.58542     sitting     0.001546   \n",
       "1         0.644964      0.73158      0.53064     sitting     0.001333   \n",
       "2         0.608212      0.67737      0.53546     sitting     0.000637   \n",
       "3         0.591138      0.71177      0.51524     sitting     0.001349   \n",
       "4         0.558168      0.67190      0.50535     sitting     0.000626   \n",
       "...            ...          ...          ...         ...          ...   \n",
       "9115      8.690373     30.46300     -4.90150  basketBall    47.192912   \n",
       "9116      6.477090     48.54700     -9.96820  basketBall    44.135927   \n",
       "9117      6.309986     27.29900     -8.43140  basketBall    57.018917   \n",
       "9118      5.020496     30.16600    -20.25100  basketBall    67.001032   \n",
       "9119      4.293377     31.57000    -22.85700  basketBall   105.947639   \n",
       "\n",
       "      RA_xacc_std  RA_xacc_skew  RA_yacc_mean  RA_yacc_max  RA_yacc_min  ...  \\\n",
       "0        0.039324     -0.415694      5.713088       5.8483       5.5956  ...   \n",
       "1        0.036508      0.410625      5.795154       5.9546       5.6687  ...   \n",
       "2        0.025244      0.153302      5.833086       5.8918       5.7656  ...   \n",
       "3        0.036731      0.525019      5.863846       5.9645       5.7556  ...   \n",
       "4        0.025020      1.076782      5.884745       5.9401       5.8384  ...   \n",
       "...           ...           ...           ...          ...          ...  ...   \n",
       "9115     6.869710      0.650080      2.187710      41.3410     -10.1410  ...   \n",
       "9116     6.643488      1.675812      5.845459      33.7910     -48.3200  ...   \n",
       "9117     7.551087      0.108921      6.342772      27.0570      -6.6706  ...   \n",
       "9118     8.185416      0.157547      5.824265      27.6300     -19.8830  ...   \n",
       "9119    10.293087      0.223835      5.504619      27.3490     -13.7600  ...   \n",
       "\n",
       "      RA_ymag_min  RA_ymag_var  RA_ymag_std  RA_ymag_skew  RA_zmag_mean  \\\n",
       "0        -0.57428     0.000012     0.003401     -0.052190     -0.211136   \n",
       "1        -0.57398     0.000005     0.002216      0.222740     -0.206431   \n",
       "2        -0.57563     0.000004     0.001954     -0.221765     -0.205648   \n",
       "3        -0.57858     0.000007     0.002688      0.075011     -0.203739   \n",
       "4        -0.57996     0.000005     0.002278     -0.219440     -0.203684   \n",
       "...           ...          ...          ...           ...           ...   \n",
       "9115     -0.89670     0.177217     0.420971      1.232819     -0.120793   \n",
       "9116     -0.85305     0.158099     0.397617      1.560701     -0.133269   \n",
       "9117     -0.83512     0.126188     0.355229      1.598340     -0.567238   \n",
       "9118     -0.87361     0.174494     0.417725      0.758435      0.211566   \n",
       "9119     -0.88818     0.144466     0.380087      0.359933      0.146602   \n",
       "\n",
       "      RA_zmag_max  RA_zmag_min  RA_zmag_var  RA_zmag_std  RA_zmag_skew  \n",
       "0        -0.18401     -0.24523     0.000044     0.006638     -1.153902  \n",
       "1        -0.18054     -0.23624     0.000032     0.005660      0.458427  \n",
       "2        -0.18342     -0.22933     0.000024     0.004868     -0.984915  \n",
       "3        -0.17999     -0.22958     0.000026     0.005099      0.185634  \n",
       "4        -0.17904     -0.22924     0.000027     0.005175     -0.820907  \n",
       "...           ...          ...          ...          ...           ...  \n",
       "9115      0.58641     -0.61373     0.077901     0.279107      0.611462  \n",
       "9116      0.51707     -0.52776     0.058400     0.241661      0.574120  \n",
       "9117     -0.14483     -0.82409     0.023408     0.152998      0.598665  \n",
       "9118      0.67931     -0.22328     0.060114     0.245181      0.316989  \n",
       "9119      0.62601     -0.28631     0.055074     0.234679      0.123701  \n",
       "\n",
       "[9120 rows x 55 columns]"
      ]
     },
     "execution_count": 12,
     "metadata": {},
     "output_type": "execute_result"
    }
   ],
   "source": [
    "df_RA"
   ]
  },
  {
   "cell_type": "code",
   "execution_count": 13,
   "id": "f0ee9783",
   "metadata": {},
   "outputs": [
    {
     "data": {
      "text/html": [
       "<div>\n",
       "<style scoped>\n",
       "    .dataframe tbody tr th:only-of-type {\n",
       "        vertical-align: middle;\n",
       "    }\n",
       "\n",
       "    .dataframe tbody tr th {\n",
       "        vertical-align: top;\n",
       "    }\n",
       "\n",
       "    .dataframe thead th {\n",
       "        text-align: right;\n",
       "    }\n",
       "</style>\n",
       "<table border=\"1\" class=\"dataframe\">\n",
       "  <thead>\n",
       "    <tr style=\"text-align: right;\">\n",
       "      <th></th>\n",
       "      <th>LA_xacc_mean</th>\n",
       "      <th>LA_xacc_max</th>\n",
       "      <th>LA_xacc_min</th>\n",
       "      <th>activity</th>\n",
       "      <th>LA_xacc_var</th>\n",
       "      <th>LA_xacc_std</th>\n",
       "      <th>LA_xacc_skew</th>\n",
       "      <th>LA_yacc_mean</th>\n",
       "      <th>LA_yacc_max</th>\n",
       "      <th>LA_yacc_min</th>\n",
       "      <th>...</th>\n",
       "      <th>LA_ymag_min</th>\n",
       "      <th>LA_ymag_var</th>\n",
       "      <th>LA_ymag_std</th>\n",
       "      <th>LA_ymag_skew</th>\n",
       "      <th>LA_zmag_mean</th>\n",
       "      <th>LA_zmag_max</th>\n",
       "      <th>LA_zmag_min</th>\n",
       "      <th>LA_zmag_var</th>\n",
       "      <th>LA_zmag_std</th>\n",
       "      <th>LA_zmag_skew</th>\n",
       "    </tr>\n",
       "  </thead>\n",
       "  <tbody>\n",
       "    <tr>\n",
       "      <th>0</th>\n",
       "      <td>3.403317</td>\n",
       "      <td>3.4875</td>\n",
       "      <td>3.2682</td>\n",
       "      <td>sitting</td>\n",
       "      <td>0.001583</td>\n",
       "      <td>0.039790</td>\n",
       "      <td>-0.744647</td>\n",
       "      <td>-8.375713</td>\n",
       "      <td>-8.2927</td>\n",
       "      <td>-8.4821</td>\n",
       "      <td>...</td>\n",
       "      <td>0.33748</td>\n",
       "      <td>0.000003</td>\n",
       "      <td>0.001810</td>\n",
       "      <td>-0.215069</td>\n",
       "      <td>0.072273</td>\n",
       "      <td>0.076374</td>\n",
       "      <td>0.067940</td>\n",
       "      <td>0.000004</td>\n",
       "      <td>0.001910</td>\n",
       "      <td>-0.166015</td>\n",
       "    </tr>\n",
       "    <tr>\n",
       "      <th>1</th>\n",
       "      <td>3.427302</td>\n",
       "      <td>3.6630</td>\n",
       "      <td>3.3168</td>\n",
       "      <td>sitting</td>\n",
       "      <td>0.004305</td>\n",
       "      <td>0.065614</td>\n",
       "      <td>1.000107</td>\n",
       "      <td>-8.397591</td>\n",
       "      <td>-8.3118</td>\n",
       "      <td>-8.5017</td>\n",
       "      <td>...</td>\n",
       "      <td>0.33000</td>\n",
       "      <td>0.000017</td>\n",
       "      <td>0.004159</td>\n",
       "      <td>-0.611251</td>\n",
       "      <td>0.074557</td>\n",
       "      <td>0.085184</td>\n",
       "      <td>0.068169</td>\n",
       "      <td>0.000022</td>\n",
       "      <td>0.004643</td>\n",
       "      <td>0.717286</td>\n",
       "    </tr>\n",
       "    <tr>\n",
       "      <th>2</th>\n",
       "      <td>3.400870</td>\n",
       "      <td>3.5168</td>\n",
       "      <td>3.3315</td>\n",
       "      <td>sitting</td>\n",
       "      <td>0.001007</td>\n",
       "      <td>0.031732</td>\n",
       "      <td>0.978319</td>\n",
       "      <td>-8.439138</td>\n",
       "      <td>-8.3599</td>\n",
       "      <td>-8.5204</td>\n",
       "      <td>...</td>\n",
       "      <td>0.33307</td>\n",
       "      <td>0.000002</td>\n",
       "      <td>0.001316</td>\n",
       "      <td>-0.506255</td>\n",
       "      <td>0.075852</td>\n",
       "      <td>0.083227</td>\n",
       "      <td>0.072507</td>\n",
       "      <td>0.000004</td>\n",
       "      <td>0.002106</td>\n",
       "      <td>1.043919</td>\n",
       "    </tr>\n",
       "    <tr>\n",
       "      <th>3</th>\n",
       "      <td>3.391002</td>\n",
       "      <td>3.5311</td>\n",
       "      <td>3.2608</td>\n",
       "      <td>sitting</td>\n",
       "      <td>0.001792</td>\n",
       "      <td>0.042328</td>\n",
       "      <td>0.117935</td>\n",
       "      <td>-8.441421</td>\n",
       "      <td>-8.3207</td>\n",
       "      <td>-8.5446</td>\n",
       "      <td>...</td>\n",
       "      <td>0.33431</td>\n",
       "      <td>0.000002</td>\n",
       "      <td>0.001395</td>\n",
       "      <td>0.155251</td>\n",
       "      <td>0.074878</td>\n",
       "      <td>0.080059</td>\n",
       "      <td>0.069942</td>\n",
       "      <td>0.000006</td>\n",
       "      <td>0.002414</td>\n",
       "      <td>0.242524</td>\n",
       "    </tr>\n",
       "    <tr>\n",
       "      <th>4</th>\n",
       "      <td>3.359974</td>\n",
       "      <td>3.4434</td>\n",
       "      <td>3.3069</td>\n",
       "      <td>sitting</td>\n",
       "      <td>0.000633</td>\n",
       "      <td>0.025160</td>\n",
       "      <td>1.051627</td>\n",
       "      <td>-8.454854</td>\n",
       "      <td>-8.3202</td>\n",
       "      <td>-8.5561</td>\n",
       "      <td>...</td>\n",
       "      <td>0.33631</td>\n",
       "      <td>0.000001</td>\n",
       "      <td>0.001005</td>\n",
       "      <td>-0.299017</td>\n",
       "      <td>0.073398</td>\n",
       "      <td>0.077461</td>\n",
       "      <td>0.070175</td>\n",
       "      <td>0.000002</td>\n",
       "      <td>0.001482</td>\n",
       "      <td>0.606258</td>\n",
       "    </tr>\n",
       "    <tr>\n",
       "      <th>...</th>\n",
       "      <td>...</td>\n",
       "      <td>...</td>\n",
       "      <td>...</td>\n",
       "      <td>...</td>\n",
       "      <td>...</td>\n",
       "      <td>...</td>\n",
       "      <td>...</td>\n",
       "      <td>...</td>\n",
       "      <td>...</td>\n",
       "      <td>...</td>\n",
       "      <td>...</td>\n",
       "      <td>...</td>\n",
       "      <td>...</td>\n",
       "      <td>...</td>\n",
       "      <td>...</td>\n",
       "      <td>...</td>\n",
       "      <td>...</td>\n",
       "      <td>...</td>\n",
       "      <td>...</td>\n",
       "      <td>...</td>\n",
       "      <td>...</td>\n",
       "    </tr>\n",
       "    <tr>\n",
       "      <th>9115</th>\n",
       "      <td>8.834459</td>\n",
       "      <td>40.1640</td>\n",
       "      <td>-15.3980</td>\n",
       "      <td>basketBall</td>\n",
       "      <td>140.063928</td>\n",
       "      <td>11.834861</td>\n",
       "      <td>0.486128</td>\n",
       "      <td>-3.441297</td>\n",
       "      <td>39.7590</td>\n",
       "      <td>-53.6520</td>\n",
       "      <td>...</td>\n",
       "      <td>-0.87575</td>\n",
       "      <td>0.210911</td>\n",
       "      <td>0.459250</td>\n",
       "      <td>-0.421162</td>\n",
       "      <td>-0.529403</td>\n",
       "      <td>0.653000</td>\n",
       "      <td>-0.879310</td>\n",
       "      <td>0.123917</td>\n",
       "      <td>0.352018</td>\n",
       "      <td>1.813520</td>\n",
       "    </tr>\n",
       "    <tr>\n",
       "      <th>9116</th>\n",
       "      <td>6.647402</td>\n",
       "      <td>43.9160</td>\n",
       "      <td>-22.3060</td>\n",
       "      <td>basketBall</td>\n",
       "      <td>65.655140</td>\n",
       "      <td>8.102786</td>\n",
       "      <td>0.067916</td>\n",
       "      <td>-5.140474</td>\n",
       "      <td>26.7770</td>\n",
       "      <td>-41.9160</td>\n",
       "      <td>...</td>\n",
       "      <td>-0.77618</td>\n",
       "      <td>0.143162</td>\n",
       "      <td>0.378368</td>\n",
       "      <td>-1.307983</td>\n",
       "      <td>-0.466066</td>\n",
       "      <td>0.659650</td>\n",
       "      <td>-0.835960</td>\n",
       "      <td>0.167255</td>\n",
       "      <td>0.408968</td>\n",
       "      <td>1.483683</td>\n",
       "    </tr>\n",
       "    <tr>\n",
       "      <th>9117</th>\n",
       "      <td>3.108810</td>\n",
       "      <td>40.2770</td>\n",
       "      <td>-10.9500</td>\n",
       "      <td>basketBall</td>\n",
       "      <td>84.701543</td>\n",
       "      <td>9.203344</td>\n",
       "      <td>1.178224</td>\n",
       "      <td>-4.881662</td>\n",
       "      <td>43.4020</td>\n",
       "      <td>-27.3490</td>\n",
       "      <td>...</td>\n",
       "      <td>0.16648</td>\n",
       "      <td>0.035696</td>\n",
       "      <td>0.188933</td>\n",
       "      <td>-0.736037</td>\n",
       "      <td>-0.286489</td>\n",
       "      <td>0.632420</td>\n",
       "      <td>-0.837640</td>\n",
       "      <td>0.109532</td>\n",
       "      <td>0.330956</td>\n",
       "      <td>0.502392</td>\n",
       "    </tr>\n",
       "    <tr>\n",
       "      <th>9118</th>\n",
       "      <td>5.141190</td>\n",
       "      <td>68.5920</td>\n",
       "      <td>-43.1120</td>\n",
       "      <td>basketBall</td>\n",
       "      <td>137.860050</td>\n",
       "      <td>11.741382</td>\n",
       "      <td>1.219670</td>\n",
       "      <td>-3.365847</td>\n",
       "      <td>23.6960</td>\n",
       "      <td>-34.5820</td>\n",
       "      <td>...</td>\n",
       "      <td>-0.85130</td>\n",
       "      <td>0.205452</td>\n",
       "      <td>0.453268</td>\n",
       "      <td>0.171353</td>\n",
       "      <td>-0.567578</td>\n",
       "      <td>0.264780</td>\n",
       "      <td>-0.854420</td>\n",
       "      <td>0.059971</td>\n",
       "      <td>0.244890</td>\n",
       "      <td>1.467799</td>\n",
       "    </tr>\n",
       "    <tr>\n",
       "      <th>9119</th>\n",
       "      <td>3.479606</td>\n",
       "      <td>65.9370</td>\n",
       "      <td>-36.2990</td>\n",
       "      <td>basketBall</td>\n",
       "      <td>181.700701</td>\n",
       "      <td>13.479640</td>\n",
       "      <td>1.245403</td>\n",
       "      <td>-3.535975</td>\n",
       "      <td>43.4110</td>\n",
       "      <td>-28.5330</td>\n",
       "      <td>...</td>\n",
       "      <td>-0.84444</td>\n",
       "      <td>0.273957</td>\n",
       "      <td>0.523409</td>\n",
       "      <td>0.275649</td>\n",
       "      <td>-0.415991</td>\n",
       "      <td>0.267410</td>\n",
       "      <td>-0.849240</td>\n",
       "      <td>0.076105</td>\n",
       "      <td>0.275871</td>\n",
       "      <td>0.349721</td>\n",
       "    </tr>\n",
       "  </tbody>\n",
       "</table>\n",
       "<p>9120 rows × 55 columns</p>\n",
       "</div>"
      ],
      "text/plain": [
       "      LA_xacc_mean  LA_xacc_max  LA_xacc_min    activity  LA_xacc_var  \\\n",
       "0         3.403317       3.4875       3.2682     sitting     0.001583   \n",
       "1         3.427302       3.6630       3.3168     sitting     0.004305   \n",
       "2         3.400870       3.5168       3.3315     sitting     0.001007   \n",
       "3         3.391002       3.5311       3.2608     sitting     0.001792   \n",
       "4         3.359974       3.4434       3.3069     sitting     0.000633   \n",
       "...            ...          ...          ...         ...          ...   \n",
       "9115      8.834459      40.1640     -15.3980  basketBall   140.063928   \n",
       "9116      6.647402      43.9160     -22.3060  basketBall    65.655140   \n",
       "9117      3.108810      40.2770     -10.9500  basketBall    84.701543   \n",
       "9118      5.141190      68.5920     -43.1120  basketBall   137.860050   \n",
       "9119      3.479606      65.9370     -36.2990  basketBall   181.700701   \n",
       "\n",
       "      LA_xacc_std  LA_xacc_skew  LA_yacc_mean  LA_yacc_max  LA_yacc_min  ...  \\\n",
       "0        0.039790     -0.744647     -8.375713      -8.2927      -8.4821  ...   \n",
       "1        0.065614      1.000107     -8.397591      -8.3118      -8.5017  ...   \n",
       "2        0.031732      0.978319     -8.439138      -8.3599      -8.5204  ...   \n",
       "3        0.042328      0.117935     -8.441421      -8.3207      -8.5446  ...   \n",
       "4        0.025160      1.051627     -8.454854      -8.3202      -8.5561  ...   \n",
       "...           ...           ...           ...          ...          ...  ...   \n",
       "9115    11.834861      0.486128     -3.441297      39.7590     -53.6520  ...   \n",
       "9116     8.102786      0.067916     -5.140474      26.7770     -41.9160  ...   \n",
       "9117     9.203344      1.178224     -4.881662      43.4020     -27.3490  ...   \n",
       "9118    11.741382      1.219670     -3.365847      23.6960     -34.5820  ...   \n",
       "9119    13.479640      1.245403     -3.535975      43.4110     -28.5330  ...   \n",
       "\n",
       "      LA_ymag_min  LA_ymag_var  LA_ymag_std  LA_ymag_skew  LA_zmag_mean  \\\n",
       "0         0.33748     0.000003     0.001810     -0.215069      0.072273   \n",
       "1         0.33000     0.000017     0.004159     -0.611251      0.074557   \n",
       "2         0.33307     0.000002     0.001316     -0.506255      0.075852   \n",
       "3         0.33431     0.000002     0.001395      0.155251      0.074878   \n",
       "4         0.33631     0.000001     0.001005     -0.299017      0.073398   \n",
       "...           ...          ...          ...           ...           ...   \n",
       "9115     -0.87575     0.210911     0.459250     -0.421162     -0.529403   \n",
       "9116     -0.77618     0.143162     0.378368     -1.307983     -0.466066   \n",
       "9117      0.16648     0.035696     0.188933     -0.736037     -0.286489   \n",
       "9118     -0.85130     0.205452     0.453268      0.171353     -0.567578   \n",
       "9119     -0.84444     0.273957     0.523409      0.275649     -0.415991   \n",
       "\n",
       "      LA_zmag_max  LA_zmag_min  LA_zmag_var  LA_zmag_std  LA_zmag_skew  \n",
       "0        0.076374     0.067940     0.000004     0.001910     -0.166015  \n",
       "1        0.085184     0.068169     0.000022     0.004643      0.717286  \n",
       "2        0.083227     0.072507     0.000004     0.002106      1.043919  \n",
       "3        0.080059     0.069942     0.000006     0.002414      0.242524  \n",
       "4        0.077461     0.070175     0.000002     0.001482      0.606258  \n",
       "...           ...          ...          ...          ...           ...  \n",
       "9115     0.653000    -0.879310     0.123917     0.352018      1.813520  \n",
       "9116     0.659650    -0.835960     0.167255     0.408968      1.483683  \n",
       "9117     0.632420    -0.837640     0.109532     0.330956      0.502392  \n",
       "9118     0.264780    -0.854420     0.059971     0.244890      1.467799  \n",
       "9119     0.267410    -0.849240     0.076105     0.275871      0.349721  \n",
       "\n",
       "[9120 rows x 55 columns]"
      ]
     },
     "execution_count": 13,
     "metadata": {},
     "output_type": "execute_result"
    }
   ],
   "source": [
    "df_LA"
   ]
  },
  {
   "cell_type": "code",
   "execution_count": 14,
   "id": "e69d0758",
   "metadata": {},
   "outputs": [
    {
     "data": {
      "text/plain": [
       "sitting                    480\n",
       "walkingTreadmillIncline    480\n",
       "jumping                    480\n",
       "rowing                     480\n",
       "cyclingVertical            480\n",
       "cyclingHorizontal          480\n",
       "crossTrainer               480\n",
       "stepper                    480\n",
       "runningTreadmill           480\n",
       "walkingTreadmillFlat       480\n",
       "standing                   480\n",
       "walkingLot                 480\n",
       "movingInElevator           480\n",
       "standingInElevatorStill    480\n",
       "decendingStairs            480\n",
       "ascendingStairs            480\n",
       "lyingRigh                  480\n",
       "lyingBack                  480\n",
       "basketBall                 480\n",
       "Name: activity, dtype: int64"
      ]
     },
     "execution_count": 14,
     "metadata": {},
     "output_type": "execute_result"
    }
   ],
   "source": [
    "df_LA['activity'].value_counts()"
   ]
  },
  {
   "cell_type": "code",
   "execution_count": 15,
   "id": "46af065b",
   "metadata": {},
   "outputs": [
    {
     "data": {
      "text/plain": [
       "sitting                    480\n",
       "walkingTreadmillIncline    480\n",
       "jumping                    480\n",
       "rowing                     480\n",
       "cyclingVertical            480\n",
       "cyclingHorizontal          480\n",
       "crossTrainer               480\n",
       "stepper                    480\n",
       "runningTreadmill           480\n",
       "walkingTreadmillFlat       480\n",
       "standing                   480\n",
       "walkingLot                 480\n",
       "movingInElevator           480\n",
       "standingInElevatorStill    480\n",
       "decendingStairs            480\n",
       "ascendingStairs            480\n",
       "lyingRigh                  480\n",
       "lyingBack                  480\n",
       "basketBall                 480\n",
       "Name: activity, dtype: int64"
      ]
     },
     "execution_count": 15,
     "metadata": {},
     "output_type": "execute_result"
    }
   ],
   "source": [
    "df_RA['activity'].value_counts()"
   ]
  },
  {
   "cell_type": "code",
   "execution_count": 16,
   "id": "92c00063",
   "metadata": {},
   "outputs": [
    {
     "name": "stderr",
     "output_type": "stream",
     "text": [
      "/var/folders/2d/pz01mw0j6xgf58tm1h8b8w5m0000gn/T/ipykernel_60998/3441972880.py:7: SettingWithCopyWarning: \n",
      "A value is trying to be set on a copy of a slice from a DataFrame.\n",
      "Try using .loc[row_indexer,col_indexer] = value instead\n",
      "\n",
      "See the caveats in the documentation: https://pandas.pydata.org/pandas-docs/stable/user_guide/indexing.html#returning-a-view-versus-a-copy\n",
      "  df_RA['activity'] = label_encoder.fit_transform(df_RA['activity'])\n",
      "/var/folders/2d/pz01mw0j6xgf58tm1h8b8w5m0000gn/T/ipykernel_60998/3441972880.py:12: SettingWithCopyWarning: \n",
      "A value is trying to be set on a copy of a slice from a DataFrame.\n",
      "Try using .loc[row_indexer,col_indexer] = value instead\n",
      "\n",
      "See the caveats in the documentation: https://pandas.pydata.org/pandas-docs/stable/user_guide/indexing.html#returning-a-view-versus-a-copy\n",
      "  df_LA['activity'] = label_encoder.fit_transform(df_LA['activity'])\n"
     ]
    }
   ],
   "source": [
    "from sklearn.preprocessing import LabelEncoder\n",
    "\n",
    "# LabelEncoder 객체 생성\n",
    "label_encoder = LabelEncoder()\n",
    "\n",
    "# 'label' 컬럼을 숫자로 변환\n",
    "df_RA['activity'] = label_encoder.fit_transform(df_RA['activity'])\n",
    "\n",
    "# LabelEncoder 객체 생성\n",
    "label_encoder = LabelEncoder()\n",
    "# 'label' 컬럼을 숫자로 변환\n",
    "df_LA['activity'] = label_encoder.fit_transform(df_LA['activity'])"
   ]
  },
  {
   "cell_type": "code",
   "execution_count": 17,
   "id": "7b45941c",
   "metadata": {},
   "outputs": [
    {
     "data": {
      "text/plain": [
       "12    480\n",
       "18    480\n",
       "6     480\n",
       "10    480\n",
       "4     480\n",
       "3     480\n",
       "2     480\n",
       "15    480\n",
       "11    480\n",
       "17    480\n",
       "13    480\n",
       "16    480\n",
       "9     480\n",
       "14    480\n",
       "5     480\n",
       "0     480\n",
       "8     480\n",
       "7     480\n",
       "1     480\n",
       "Name: activity, dtype: int64"
      ]
     },
     "execution_count": 17,
     "metadata": {},
     "output_type": "execute_result"
    }
   ],
   "source": [
    "df_LA['activity'].value_counts()"
   ]
  },
  {
   "cell_type": "code",
   "execution_count": 18,
   "id": "6e24fd5f",
   "metadata": {},
   "outputs": [
    {
     "data": {
      "text/plain": [
       "12    480\n",
       "18    480\n",
       "6     480\n",
       "10    480\n",
       "4     480\n",
       "3     480\n",
       "2     480\n",
       "15    480\n",
       "11    480\n",
       "17    480\n",
       "13    480\n",
       "16    480\n",
       "9     480\n",
       "14    480\n",
       "5     480\n",
       "0     480\n",
       "8     480\n",
       "7     480\n",
       "1     480\n",
       "Name: activity, dtype: int64"
      ]
     },
     "execution_count": 18,
     "metadata": {},
     "output_type": "execute_result"
    }
   ],
   "source": [
    "df_RA['activity'].value_counts()"
   ]
  },
  {
   "cell_type": "code",
   "execution_count": 19,
   "id": "4227f189",
   "metadata": {},
   "outputs": [],
   "source": [
    "df_RA_Y=df_RA['activity']"
   ]
  },
  {
   "cell_type": "code",
   "execution_count": 20,
   "id": "1e58121b",
   "metadata": {},
   "outputs": [
    {
     "data": {
      "text/html": [
       "<div>\n",
       "<style scoped>\n",
       "    .dataframe tbody tr th:only-of-type {\n",
       "        vertical-align: middle;\n",
       "    }\n",
       "\n",
       "    .dataframe tbody tr th {\n",
       "        vertical-align: top;\n",
       "    }\n",
       "\n",
       "    .dataframe thead th {\n",
       "        text-align: right;\n",
       "    }\n",
       "</style>\n",
       "<table border=\"1\" class=\"dataframe\">\n",
       "  <thead>\n",
       "    <tr style=\"text-align: right;\">\n",
       "      <th></th>\n",
       "      <th>RA_xacc_mean</th>\n",
       "      <th>RA_xacc_max</th>\n",
       "      <th>RA_xacc_min</th>\n",
       "      <th>RA_xacc_var</th>\n",
       "      <th>RA_xacc_std</th>\n",
       "      <th>RA_xacc_skew</th>\n",
       "      <th>RA_yacc_mean</th>\n",
       "      <th>RA_yacc_max</th>\n",
       "      <th>RA_yacc_min</th>\n",
       "      <th>RA_yacc_var</th>\n",
       "      <th>...</th>\n",
       "      <th>RA_ymag_min</th>\n",
       "      <th>RA_ymag_var</th>\n",
       "      <th>RA_ymag_std</th>\n",
       "      <th>RA_ymag_skew</th>\n",
       "      <th>RA_zmag_mean</th>\n",
       "      <th>RA_zmag_max</th>\n",
       "      <th>RA_zmag_min</th>\n",
       "      <th>RA_zmag_var</th>\n",
       "      <th>RA_zmag_std</th>\n",
       "      <th>RA_zmag_skew</th>\n",
       "    </tr>\n",
       "  </thead>\n",
       "  <tbody>\n",
       "    <tr>\n",
       "      <th>0</th>\n",
       "      <td>0.679134</td>\n",
       "      <td>0.75930</td>\n",
       "      <td>0.58542</td>\n",
       "      <td>0.001546</td>\n",
       "      <td>0.039324</td>\n",
       "      <td>-0.415694</td>\n",
       "      <td>5.713088</td>\n",
       "      <td>5.8483</td>\n",
       "      <td>5.5956</td>\n",
       "      <td>0.003779</td>\n",
       "      <td>...</td>\n",
       "      <td>-0.57428</td>\n",
       "      <td>0.000012</td>\n",
       "      <td>0.003401</td>\n",
       "      <td>-0.052190</td>\n",
       "      <td>-0.211136</td>\n",
       "      <td>-0.18401</td>\n",
       "      <td>-0.24523</td>\n",
       "      <td>0.000044</td>\n",
       "      <td>0.006638</td>\n",
       "      <td>-1.153902</td>\n",
       "    </tr>\n",
       "    <tr>\n",
       "      <th>1</th>\n",
       "      <td>0.644964</td>\n",
       "      <td>0.73158</td>\n",
       "      <td>0.53064</td>\n",
       "      <td>0.001333</td>\n",
       "      <td>0.036508</td>\n",
       "      <td>0.410625</td>\n",
       "      <td>5.795154</td>\n",
       "      <td>5.9546</td>\n",
       "      <td>5.6687</td>\n",
       "      <td>0.001132</td>\n",
       "      <td>...</td>\n",
       "      <td>-0.57398</td>\n",
       "      <td>0.000005</td>\n",
       "      <td>0.002216</td>\n",
       "      <td>0.222740</td>\n",
       "      <td>-0.206431</td>\n",
       "      <td>-0.18054</td>\n",
       "      <td>-0.23624</td>\n",
       "      <td>0.000032</td>\n",
       "      <td>0.005660</td>\n",
       "      <td>0.458427</td>\n",
       "    </tr>\n",
       "    <tr>\n",
       "      <th>2</th>\n",
       "      <td>0.608212</td>\n",
       "      <td>0.67737</td>\n",
       "      <td>0.53546</td>\n",
       "      <td>0.000637</td>\n",
       "      <td>0.025244</td>\n",
       "      <td>0.153302</td>\n",
       "      <td>5.833086</td>\n",
       "      <td>5.8918</td>\n",
       "      <td>5.7656</td>\n",
       "      <td>0.000488</td>\n",
       "      <td>...</td>\n",
       "      <td>-0.57563</td>\n",
       "      <td>0.000004</td>\n",
       "      <td>0.001954</td>\n",
       "      <td>-0.221765</td>\n",
       "      <td>-0.205648</td>\n",
       "      <td>-0.18342</td>\n",
       "      <td>-0.22933</td>\n",
       "      <td>0.000024</td>\n",
       "      <td>0.004868</td>\n",
       "      <td>-0.984915</td>\n",
       "    </tr>\n",
       "    <tr>\n",
       "      <th>3</th>\n",
       "      <td>0.591138</td>\n",
       "      <td>0.71177</td>\n",
       "      <td>0.51524</td>\n",
       "      <td>0.001349</td>\n",
       "      <td>0.036731</td>\n",
       "      <td>0.525019</td>\n",
       "      <td>5.863846</td>\n",
       "      <td>5.9645</td>\n",
       "      <td>5.7556</td>\n",
       "      <td>0.001423</td>\n",
       "      <td>...</td>\n",
       "      <td>-0.57858</td>\n",
       "      <td>0.000007</td>\n",
       "      <td>0.002688</td>\n",
       "      <td>0.075011</td>\n",
       "      <td>-0.203739</td>\n",
       "      <td>-0.17999</td>\n",
       "      <td>-0.22958</td>\n",
       "      <td>0.000026</td>\n",
       "      <td>0.005099</td>\n",
       "      <td>0.185634</td>\n",
       "    </tr>\n",
       "    <tr>\n",
       "      <th>4</th>\n",
       "      <td>0.558168</td>\n",
       "      <td>0.67190</td>\n",
       "      <td>0.50535</td>\n",
       "      <td>0.000626</td>\n",
       "      <td>0.025020</td>\n",
       "      <td>1.076782</td>\n",
       "      <td>5.884745</td>\n",
       "      <td>5.9401</td>\n",
       "      <td>5.8384</td>\n",
       "      <td>0.000471</td>\n",
       "      <td>...</td>\n",
       "      <td>-0.57996</td>\n",
       "      <td>0.000005</td>\n",
       "      <td>0.002278</td>\n",
       "      <td>-0.219440</td>\n",
       "      <td>-0.203684</td>\n",
       "      <td>-0.17904</td>\n",
       "      <td>-0.22924</td>\n",
       "      <td>0.000027</td>\n",
       "      <td>0.005175</td>\n",
       "      <td>-0.820907</td>\n",
       "    </tr>\n",
       "  </tbody>\n",
       "</table>\n",
       "<p>5 rows × 54 columns</p>\n",
       "</div>"
      ],
      "text/plain": [
       "   RA_xacc_mean  RA_xacc_max  RA_xacc_min  RA_xacc_var  RA_xacc_std  \\\n",
       "0      0.679134      0.75930      0.58542     0.001546     0.039324   \n",
       "1      0.644964      0.73158      0.53064     0.001333     0.036508   \n",
       "2      0.608212      0.67737      0.53546     0.000637     0.025244   \n",
       "3      0.591138      0.71177      0.51524     0.001349     0.036731   \n",
       "4      0.558168      0.67190      0.50535     0.000626     0.025020   \n",
       "\n",
       "   RA_xacc_skew  RA_yacc_mean  RA_yacc_max  RA_yacc_min  RA_yacc_var  ...  \\\n",
       "0     -0.415694      5.713088       5.8483       5.5956     0.003779  ...   \n",
       "1      0.410625      5.795154       5.9546       5.6687     0.001132  ...   \n",
       "2      0.153302      5.833086       5.8918       5.7656     0.000488  ...   \n",
       "3      0.525019      5.863846       5.9645       5.7556     0.001423  ...   \n",
       "4      1.076782      5.884745       5.9401       5.8384     0.000471  ...   \n",
       "\n",
       "   RA_ymag_min  RA_ymag_var  RA_ymag_std  RA_ymag_skew  RA_zmag_mean  \\\n",
       "0     -0.57428     0.000012     0.003401     -0.052190     -0.211136   \n",
       "1     -0.57398     0.000005     0.002216      0.222740     -0.206431   \n",
       "2     -0.57563     0.000004     0.001954     -0.221765     -0.205648   \n",
       "3     -0.57858     0.000007     0.002688      0.075011     -0.203739   \n",
       "4     -0.57996     0.000005     0.002278     -0.219440     -0.203684   \n",
       "\n",
       "   RA_zmag_max  RA_zmag_min  RA_zmag_var  RA_zmag_std  RA_zmag_skew  \n",
       "0     -0.18401     -0.24523     0.000044     0.006638     -1.153902  \n",
       "1     -0.18054     -0.23624     0.000032     0.005660      0.458427  \n",
       "2     -0.18342     -0.22933     0.000024     0.004868     -0.984915  \n",
       "3     -0.17999     -0.22958     0.000026     0.005099      0.185634  \n",
       "4     -0.17904     -0.22924     0.000027     0.005175     -0.820907  \n",
       "\n",
       "[5 rows x 54 columns]"
      ]
     },
     "execution_count": 20,
     "metadata": {},
     "output_type": "execute_result"
    }
   ],
   "source": [
    "df_RA_X=df_RA.drop('activity',axis=1)\n",
    "df_RA_X.head()"
   ]
  },
  {
   "cell_type": "code",
   "execution_count": 21,
   "id": "d39dffcd",
   "metadata": {},
   "outputs": [],
   "source": [
    "from sklearn.model_selection import train_test_split\n",
    "\n",
    "X_train_RA, X_test_RA, y_train_RA, y_test_RA = train_test_split(df_RA_X, \n",
    "                                                    df_RA_Y,\n",
    "                                                    test_size = 0.25, \n",
    "                                                    random_state = 21)"
   ]
  },
  {
   "cell_type": "code",
   "execution_count": 22,
   "id": "cc652164",
   "metadata": {},
   "outputs": [
    {
     "data": {
      "text/plain": [
       "0    12\n",
       "1    12\n",
       "2    12\n",
       "3    12\n",
       "4    12\n",
       "Name: activity, dtype: int64"
      ]
     },
     "execution_count": 22,
     "metadata": {},
     "output_type": "execute_result"
    }
   ],
   "source": [
    "df_LA_Y = df_LA['activity']\n",
    "df_LA_Y.head()"
   ]
  },
  {
   "cell_type": "code",
   "execution_count": 23,
   "id": "44bd3f71",
   "metadata": {},
   "outputs": [
    {
     "data": {
      "text/html": [
       "<div>\n",
       "<style scoped>\n",
       "    .dataframe tbody tr th:only-of-type {\n",
       "        vertical-align: middle;\n",
       "    }\n",
       "\n",
       "    .dataframe tbody tr th {\n",
       "        vertical-align: top;\n",
       "    }\n",
       "\n",
       "    .dataframe thead th {\n",
       "        text-align: right;\n",
       "    }\n",
       "</style>\n",
       "<table border=\"1\" class=\"dataframe\">\n",
       "  <thead>\n",
       "    <tr style=\"text-align: right;\">\n",
       "      <th></th>\n",
       "      <th>LA_xacc_mean</th>\n",
       "      <th>LA_xacc_max</th>\n",
       "      <th>LA_xacc_min</th>\n",
       "      <th>LA_xacc_var</th>\n",
       "      <th>LA_xacc_std</th>\n",
       "      <th>LA_xacc_skew</th>\n",
       "      <th>LA_yacc_mean</th>\n",
       "      <th>LA_yacc_max</th>\n",
       "      <th>LA_yacc_min</th>\n",
       "      <th>LA_yacc_var</th>\n",
       "      <th>...</th>\n",
       "      <th>LA_ymag_min</th>\n",
       "      <th>LA_ymag_var</th>\n",
       "      <th>LA_ymag_std</th>\n",
       "      <th>LA_ymag_skew</th>\n",
       "      <th>LA_zmag_mean</th>\n",
       "      <th>LA_zmag_max</th>\n",
       "      <th>LA_zmag_min</th>\n",
       "      <th>LA_zmag_var</th>\n",
       "      <th>LA_zmag_std</th>\n",
       "      <th>LA_zmag_skew</th>\n",
       "    </tr>\n",
       "  </thead>\n",
       "  <tbody>\n",
       "    <tr>\n",
       "      <th>0</th>\n",
       "      <td>3.403317</td>\n",
       "      <td>3.4875</td>\n",
       "      <td>3.2682</td>\n",
       "      <td>0.001583</td>\n",
       "      <td>0.039790</td>\n",
       "      <td>-0.744647</td>\n",
       "      <td>-8.375713</td>\n",
       "      <td>-8.2927</td>\n",
       "      <td>-8.4821</td>\n",
       "      <td>0.001178</td>\n",
       "      <td>...</td>\n",
       "      <td>0.33748</td>\n",
       "      <td>0.000003</td>\n",
       "      <td>0.001810</td>\n",
       "      <td>-0.215069</td>\n",
       "      <td>0.072273</td>\n",
       "      <td>0.076374</td>\n",
       "      <td>0.067940</td>\n",
       "      <td>0.000004</td>\n",
       "      <td>0.001910</td>\n",
       "      <td>-0.166015</td>\n",
       "    </tr>\n",
       "    <tr>\n",
       "      <th>1</th>\n",
       "      <td>3.427302</td>\n",
       "      <td>3.6630</td>\n",
       "      <td>3.3168</td>\n",
       "      <td>0.004305</td>\n",
       "      <td>0.065614</td>\n",
       "      <td>1.000107</td>\n",
       "      <td>-8.397591</td>\n",
       "      <td>-8.3118</td>\n",
       "      <td>-8.5017</td>\n",
       "      <td>0.001098</td>\n",
       "      <td>...</td>\n",
       "      <td>0.33000</td>\n",
       "      <td>0.000017</td>\n",
       "      <td>0.004159</td>\n",
       "      <td>-0.611251</td>\n",
       "      <td>0.074557</td>\n",
       "      <td>0.085184</td>\n",
       "      <td>0.068169</td>\n",
       "      <td>0.000022</td>\n",
       "      <td>0.004643</td>\n",
       "      <td>0.717286</td>\n",
       "    </tr>\n",
       "    <tr>\n",
       "      <th>2</th>\n",
       "      <td>3.400870</td>\n",
       "      <td>3.5168</td>\n",
       "      <td>3.3315</td>\n",
       "      <td>0.001007</td>\n",
       "      <td>0.031732</td>\n",
       "      <td>0.978319</td>\n",
       "      <td>-8.439138</td>\n",
       "      <td>-8.3599</td>\n",
       "      <td>-8.5204</td>\n",
       "      <td>0.000684</td>\n",
       "      <td>...</td>\n",
       "      <td>0.33307</td>\n",
       "      <td>0.000002</td>\n",
       "      <td>0.001316</td>\n",
       "      <td>-0.506255</td>\n",
       "      <td>0.075852</td>\n",
       "      <td>0.083227</td>\n",
       "      <td>0.072507</td>\n",
       "      <td>0.000004</td>\n",
       "      <td>0.002106</td>\n",
       "      <td>1.043919</td>\n",
       "    </tr>\n",
       "    <tr>\n",
       "      <th>3</th>\n",
       "      <td>3.391002</td>\n",
       "      <td>3.5311</td>\n",
       "      <td>3.2608</td>\n",
       "      <td>0.001792</td>\n",
       "      <td>0.042328</td>\n",
       "      <td>0.117935</td>\n",
       "      <td>-8.441421</td>\n",
       "      <td>-8.3207</td>\n",
       "      <td>-8.5446</td>\n",
       "      <td>0.001862</td>\n",
       "      <td>...</td>\n",
       "      <td>0.33431</td>\n",
       "      <td>0.000002</td>\n",
       "      <td>0.001395</td>\n",
       "      <td>0.155251</td>\n",
       "      <td>0.074878</td>\n",
       "      <td>0.080059</td>\n",
       "      <td>0.069942</td>\n",
       "      <td>0.000006</td>\n",
       "      <td>0.002414</td>\n",
       "      <td>0.242524</td>\n",
       "    </tr>\n",
       "    <tr>\n",
       "      <th>4</th>\n",
       "      <td>3.359974</td>\n",
       "      <td>3.4434</td>\n",
       "      <td>3.3069</td>\n",
       "      <td>0.000633</td>\n",
       "      <td>0.025160</td>\n",
       "      <td>1.051627</td>\n",
       "      <td>-8.454854</td>\n",
       "      <td>-8.3202</td>\n",
       "      <td>-8.5561</td>\n",
       "      <td>0.001061</td>\n",
       "      <td>...</td>\n",
       "      <td>0.33631</td>\n",
       "      <td>0.000001</td>\n",
       "      <td>0.001005</td>\n",
       "      <td>-0.299017</td>\n",
       "      <td>0.073398</td>\n",
       "      <td>0.077461</td>\n",
       "      <td>0.070175</td>\n",
       "      <td>0.000002</td>\n",
       "      <td>0.001482</td>\n",
       "      <td>0.606258</td>\n",
       "    </tr>\n",
       "  </tbody>\n",
       "</table>\n",
       "<p>5 rows × 54 columns</p>\n",
       "</div>"
      ],
      "text/plain": [
       "   LA_xacc_mean  LA_xacc_max  LA_xacc_min  LA_xacc_var  LA_xacc_std  \\\n",
       "0      3.403317       3.4875       3.2682     0.001583     0.039790   \n",
       "1      3.427302       3.6630       3.3168     0.004305     0.065614   \n",
       "2      3.400870       3.5168       3.3315     0.001007     0.031732   \n",
       "3      3.391002       3.5311       3.2608     0.001792     0.042328   \n",
       "4      3.359974       3.4434       3.3069     0.000633     0.025160   \n",
       "\n",
       "   LA_xacc_skew  LA_yacc_mean  LA_yacc_max  LA_yacc_min  LA_yacc_var  ...  \\\n",
       "0     -0.744647     -8.375713      -8.2927      -8.4821     0.001178  ...   \n",
       "1      1.000107     -8.397591      -8.3118      -8.5017     0.001098  ...   \n",
       "2      0.978319     -8.439138      -8.3599      -8.5204     0.000684  ...   \n",
       "3      0.117935     -8.441421      -8.3207      -8.5446     0.001862  ...   \n",
       "4      1.051627     -8.454854      -8.3202      -8.5561     0.001061  ...   \n",
       "\n",
       "   LA_ymag_min  LA_ymag_var  LA_ymag_std  LA_ymag_skew  LA_zmag_mean  \\\n",
       "0      0.33748     0.000003     0.001810     -0.215069      0.072273   \n",
       "1      0.33000     0.000017     0.004159     -0.611251      0.074557   \n",
       "2      0.33307     0.000002     0.001316     -0.506255      0.075852   \n",
       "3      0.33431     0.000002     0.001395      0.155251      0.074878   \n",
       "4      0.33631     0.000001     0.001005     -0.299017      0.073398   \n",
       "\n",
       "   LA_zmag_max  LA_zmag_min  LA_zmag_var  LA_zmag_std  LA_zmag_skew  \n",
       "0     0.076374     0.067940     0.000004     0.001910     -0.166015  \n",
       "1     0.085184     0.068169     0.000022     0.004643      0.717286  \n",
       "2     0.083227     0.072507     0.000004     0.002106      1.043919  \n",
       "3     0.080059     0.069942     0.000006     0.002414      0.242524  \n",
       "4     0.077461     0.070175     0.000002     0.001482      0.606258  \n",
       "\n",
       "[5 rows x 54 columns]"
      ]
     },
     "execution_count": 23,
     "metadata": {},
     "output_type": "execute_result"
    }
   ],
   "source": [
    "df_LA_X=df_LA.drop('activity',axis=1)\n",
    "df_LA_X.head()"
   ]
  },
  {
   "cell_type": "code",
   "execution_count": 24,
   "id": "bcf41233",
   "metadata": {},
   "outputs": [],
   "source": [
    "from sklearn.model_selection import train_test_split\n",
    "\n",
    "X_train_LA, X_test_LA, y_train_LA, y_test_LA = train_test_split(df_LA_X, \n",
    "                                                    df_LA_Y,\n",
    "                                                    test_size = 0.25, \n",
    "                                                    random_state = 21)"
   ]
  },
  {
   "cell_type": "code",
   "execution_count": 25,
   "id": "61de018a",
   "metadata": {},
   "outputs": [
    {
     "data": {
      "text/plain": [
       "((6840, 54), (2280, 54), (6840,), (2280,))"
      ]
     },
     "execution_count": 25,
     "metadata": {},
     "output_type": "execute_result"
    }
   ],
   "source": [
    "X_train_RA.shape, X_test_RA.shape, y_train_RA.shape, y_test_RA.shape"
   ]
  },
  {
   "cell_type": "code",
   "execution_count": 26,
   "id": "c97decae",
   "metadata": {},
   "outputs": [
    {
     "data": {
      "text/plain": [
       "((6840, 54), (2280, 54), (6840,), (2280,))"
      ]
     },
     "execution_count": 26,
     "metadata": {},
     "output_type": "execute_result"
    }
   ],
   "source": [
    "X_train_LA.shape, X_test_LA.shape, y_train_LA.shape, y_test_LA.shape"
   ]
  },
  {
   "cell_type": "code",
   "execution_count": 27,
   "id": "758430ce",
   "metadata": {},
   "outputs": [],
   "source": [
    "from collections import Counter\n",
    "import numpy as np\n",
    "\n",
    "def split_sequences(sequences, n_steps):\n",
    "    X, y = list(), list()  # 빈 리스트를 생성하여 시퀀스 데이터와 레이블을 담을 공간을 만듦\n",
    "    for i in range(len(sequences)):  # 전체 시퀀스 데이터를 순회\n",
    "        # find the end of this pattern\n",
    "        end_ix = i + n_steps  # 현재 인덱스(i)에서 n_steps만큼 떨어진 시퀀스의 끝을 계산\n",
    "        # check if we are beyond the dataset\n",
    "        if end_ix > len(sequences):  # 시퀀스 끝이 데이터의 범위를 넘어서는지 확인\n",
    "            break  # 범위를 넘으면 루프 종료\n",
    "        # gather input (X) and output parts (y)\n",
    "        seq_x = sequences[i:end_ix, :-1]  # 입력 데이터 (특징 데이터)\n",
    "        seq_y_values = sequences[i:end_ix, -1]  # 시퀀스 동안의 출력 데이터 (레이블들)\n",
    "        \n",
    "        # 가장 빈번하게 나온 레이블 찾기\n",
    "        most_common_label = Counter(seq_y_values).most_common(1)[0][0]\n",
    "        \n",
    "        X.append(seq_x)  # 입력 데이터 추가\n",
    "        y.append(most_common_label)  # 가장 많이 나온 레이블 추가\n",
    "    \n",
    "    return np.array(X), np.array(y)  # 리스트를 numpy 배열로 변환하여 반환"
   ]
  },
  {
   "cell_type": "code",
   "execution_count": 28,
   "id": "c09bdbdf",
   "metadata": {},
   "outputs": [],
   "source": [
    "# Merge train and test X/y data to apply sequence transformation function\n",
    "y_train_array_RA = np.array(y_train_RA)\n",
    "train_set_RA = np.c_[X_train_RA, y_train_array_RA]\n",
    "\n",
    "y_test_array_RA = np.array(y_test_RA)\n",
    "test_set_RA = np.c_[X_test_RA, y_test_array_RA]"
   ]
  },
  {
   "cell_type": "code",
   "execution_count": 29,
   "id": "fb44c997",
   "metadata": {},
   "outputs": [
    {
     "name": "stdout",
     "output_type": "stream",
     "text": [
      "(6838, 3, 54) (6838,)\n",
      "(2278, 3, 54) (2278,)\n"
     ]
    }
   ],
   "source": [
    "n_step = 3 \n",
    "\n",
    "X_train_seq_RA, y_train_seq_RA = split_sequences(train_set_RA, n_step)\n",
    "print(X_train_seq_RA.shape, y_train_seq_RA.shape)\n",
    "\n",
    "X_test_seq_RA, y_test_seq_RA = split_sequences(test_set_RA, n_step)\n",
    "print(X_test_seq_RA.shape, y_test_seq_RA.shape)"
   ]
  },
  {
   "cell_type": "code",
   "execution_count": 30,
   "id": "cc258094",
   "metadata": {},
   "outputs": [],
   "source": [
    "# Merge train and test X/y data to apply sequence transformation function\n",
    "y_train_array_LA = np.array(y_train_LA)\n",
    "train_set_LA = np.c_[X_train_LA, y_train_array_LA]\n",
    "\n",
    "y_test_array_LA = np.array(y_test_LA)\n",
    "test_set_LA = np.c_[X_test_LA, y_test_array_LA]"
   ]
  },
  {
   "cell_type": "code",
   "execution_count": 31,
   "id": "b8d1cded",
   "metadata": {},
   "outputs": [
    {
     "name": "stdout",
     "output_type": "stream",
     "text": [
      "(6838, 3, 54) (6838,)\n",
      "(2278, 3, 54) (2278,)\n"
     ]
    }
   ],
   "source": [
    "n_step = 3 \n",
    "\n",
    "X_train_seq_LA, y_train_seq_LA = split_sequences(train_set_LA, n_step)\n",
    "print(X_train_seq_LA.shape, y_train_seq_LA.shape)\n",
    "\n",
    "X_test_seq_LA, y_test_seq_LA = split_sequences(test_set_LA, n_step)\n",
    "print(X_test_seq_LA.shape, y_test_seq_LA.shape)"
   ]
  },
  {
   "cell_type": "code",
   "execution_count": 32,
   "id": "6e65f518",
   "metadata": {},
   "outputs": [
    {
     "name": "stdout",
     "output_type": "stream",
     "text": [
      "(6838, 19)\n",
      "(2278, 19)\n"
     ]
    }
   ],
   "source": [
    "from keras.utils import to_categorical\n",
    "\n",
    "# Convert output variables to categorical for CNN\n",
    "y_train_seq_RA = to_categorical(y_train_seq_RA)\n",
    "print(y_train_seq_RA.shape)\n",
    "\n",
    "y_test_seq_RA = to_categorical(y_test_seq_RA)\n",
    "print(y_test_seq_RA.shape)"
   ]
  },
  {
   "cell_type": "code",
   "execution_count": 33,
   "id": "9dad98c5",
   "metadata": {},
   "outputs": [
    {
     "name": "stdout",
     "output_type": "stream",
     "text": [
      "(6838, 19)\n",
      "(2278, 19)\n"
     ]
    }
   ],
   "source": [
    "# Convert output variables to categorical for CNN\n",
    "y_train_seq_LA = to_categorical(y_train_seq_LA)\n",
    "print(y_train_seq_LA.shape)\n",
    "\n",
    "y_test_seq_LA = to_categorical(y_test_seq_LA)\n",
    "print(y_test_seq_LA.shape)"
   ]
  },
  {
   "cell_type": "code",
   "execution_count": 34,
   "id": "4c6736a1",
   "metadata": {},
   "outputs": [
    {
     "name": "stdout",
     "output_type": "stream",
     "text": [
      "3 54 19\n"
     ]
    }
   ],
   "source": [
    "# Produce variables for CNN input/output shape\n",
    "n_timesteps, n_features, n_outputs = X_train_seq_RA.shape[1], X_train_seq_RA.shape[2], y_train_seq_RA.shape[1]\n",
    "print(n_timesteps, n_features, n_outputs)"
   ]
  },
  {
   "cell_type": "code",
   "execution_count": 35,
   "id": "68fb8ac5",
   "metadata": {},
   "outputs": [],
   "source": [
    "import tensorflow as tf\n",
    "from tensorflow import keras\n",
    "from tensorflow.keras import layers\n",
    "\n",
    "# cnn model vary kernel size\n",
    "from numpy import mean\n",
    "from numpy import std\n",
    "from numpy import dstack\n",
    "from pandas import read_csv\n",
    "from matplotlib import pyplot\n",
    "from tensorflow.keras.models import Sequential\n",
    "from tensorflow.keras.layers import Dense\n",
    "from tensorflow.keras.layers import Flatten\n",
    "from tensorflow.keras.layers import Dropout\n",
    "from keras.utils import to_categorical\n",
    "\n",
    "import tensorflow.keras\n",
    "from tensorflow.keras.models import Sequential\n",
    "from tensorflow.keras.layers import Dense, Dropout, Flatten, Reshape, LSTM, Conv1D, MaxPooling1D\n",
    "from tensorflow.keras.layers import TimeDistributed, Conv1D, MaxPooling1D"
   ]
  },
  {
   "cell_type": "code",
   "execution_count": 36,
   "id": "b4ca9989",
   "metadata": {},
   "outputs": [
    {
     "name": "stderr",
     "output_type": "stream",
     "text": [
      "/opt/anaconda3/lib/python3.11/site-packages/keras/src/layers/rnn/rnn.py:204: UserWarning: Do not pass an `input_shape`/`input_dim` argument to a layer. When using Sequential models, prefer using an `Input(shape)` object as the first layer in the model instead.\n",
      "  super().__init__(**kwargs)\n"
     ]
    }
   ],
   "source": [
    "# Sequential model type\n",
    "model = Sequential()\n",
    "model.add(LSTM(units=128, input_shape = (n_timesteps,n_features)))\n",
    "model.add(Dense(128, activation='relu'))\n",
    "model.add(Dense(n_outputs, activation='softmax'))\n",
    "model.compile(optimizer='adam', metrics=['accuracy'], loss='categorical_crossentropy')"
   ]
  },
  {
   "cell_type": "code",
   "execution_count": 37,
   "id": "693c4fb6",
   "metadata": {},
   "outputs": [
    {
     "data": {
      "text/html": [
       "<pre style=\"white-space:pre;overflow-x:auto;line-height:normal;font-family:Menlo,'DejaVu Sans Mono',consolas,'Courier New',monospace\"><span style=\"font-weight: bold\">Model: \"sequential\"</span>\n",
       "</pre>\n"
      ],
      "text/plain": [
       "\u001b[1mModel: \"sequential\"\u001b[0m\n"
      ]
     },
     "metadata": {},
     "output_type": "display_data"
    },
    {
     "data": {
      "text/html": [
       "<pre style=\"white-space:pre;overflow-x:auto;line-height:normal;font-family:Menlo,'DejaVu Sans Mono',consolas,'Courier New',monospace\">┏━━━━━━━━━━━━━━━━━━━━━━━━━━━━━━━━━┳━━━━━━━━━━━━━━━━━━━━━━━━┳━━━━━━━━━━━━━━━┓\n",
       "┃<span style=\"font-weight: bold\"> Layer (type)                    </span>┃<span style=\"font-weight: bold\"> Output Shape           </span>┃<span style=\"font-weight: bold\">       Param # </span>┃\n",
       "┡━━━━━━━━━━━━━━━━━━━━━━━━━━━━━━━━━╇━━━━━━━━━━━━━━━━━━━━━━━━╇━━━━━━━━━━━━━━━┩\n",
       "│ lstm (<span style=\"color: #0087ff; text-decoration-color: #0087ff\">LSTM</span>)                     │ (<span style=\"color: #00d7ff; text-decoration-color: #00d7ff\">None</span>, <span style=\"color: #00af00; text-decoration-color: #00af00\">128</span>)            │        <span style=\"color: #00af00; text-decoration-color: #00af00\">93,696</span> │\n",
       "├─────────────────────────────────┼────────────────────────┼───────────────┤\n",
       "│ dense (<span style=\"color: #0087ff; text-decoration-color: #0087ff\">Dense</span>)                   │ (<span style=\"color: #00d7ff; text-decoration-color: #00d7ff\">None</span>, <span style=\"color: #00af00; text-decoration-color: #00af00\">128</span>)            │        <span style=\"color: #00af00; text-decoration-color: #00af00\">16,512</span> │\n",
       "├─────────────────────────────────┼────────────────────────┼───────────────┤\n",
       "│ dense_1 (<span style=\"color: #0087ff; text-decoration-color: #0087ff\">Dense</span>)                 │ (<span style=\"color: #00d7ff; text-decoration-color: #00d7ff\">None</span>, <span style=\"color: #00af00; text-decoration-color: #00af00\">19</span>)             │         <span style=\"color: #00af00; text-decoration-color: #00af00\">2,451</span> │\n",
       "└─────────────────────────────────┴────────────────────────┴───────────────┘\n",
       "</pre>\n"
      ],
      "text/plain": [
       "┏━━━━━━━━━━━━━━━━━━━━━━━━━━━━━━━━━┳━━━━━━━━━━━━━━━━━━━━━━━━┳━━━━━━━━━━━━━━━┓\n",
       "┃\u001b[1m \u001b[0m\u001b[1mLayer (type)                   \u001b[0m\u001b[1m \u001b[0m┃\u001b[1m \u001b[0m\u001b[1mOutput Shape          \u001b[0m\u001b[1m \u001b[0m┃\u001b[1m \u001b[0m\u001b[1m      Param #\u001b[0m\u001b[1m \u001b[0m┃\n",
       "┡━━━━━━━━━━━━━━━━━━━━━━━━━━━━━━━━━╇━━━━━━━━━━━━━━━━━━━━━━━━╇━━━━━━━━━━━━━━━┩\n",
       "│ lstm (\u001b[38;5;33mLSTM\u001b[0m)                     │ (\u001b[38;5;45mNone\u001b[0m, \u001b[38;5;34m128\u001b[0m)            │        \u001b[38;5;34m93,696\u001b[0m │\n",
       "├─────────────────────────────────┼────────────────────────┼───────────────┤\n",
       "│ dense (\u001b[38;5;33mDense\u001b[0m)                   │ (\u001b[38;5;45mNone\u001b[0m, \u001b[38;5;34m128\u001b[0m)            │        \u001b[38;5;34m16,512\u001b[0m │\n",
       "├─────────────────────────────────┼────────────────────────┼───────────────┤\n",
       "│ dense_1 (\u001b[38;5;33mDense\u001b[0m)                 │ (\u001b[38;5;45mNone\u001b[0m, \u001b[38;5;34m19\u001b[0m)             │         \u001b[38;5;34m2,451\u001b[0m │\n",
       "└─────────────────────────────────┴────────────────────────┴───────────────┘\n"
      ]
     },
     "metadata": {},
     "output_type": "display_data"
    },
    {
     "data": {
      "text/html": [
       "<pre style=\"white-space:pre;overflow-x:auto;line-height:normal;font-family:Menlo,'DejaVu Sans Mono',consolas,'Courier New',monospace\"><span style=\"font-weight: bold\"> Total params: </span><span style=\"color: #00af00; text-decoration-color: #00af00\">112,659</span> (440.07 KB)\n",
       "</pre>\n"
      ],
      "text/plain": [
       "\u001b[1m Total params: \u001b[0m\u001b[38;5;34m112,659\u001b[0m (440.07 KB)\n"
      ]
     },
     "metadata": {},
     "output_type": "display_data"
    },
    {
     "data": {
      "text/html": [
       "<pre style=\"white-space:pre;overflow-x:auto;line-height:normal;font-family:Menlo,'DejaVu Sans Mono',consolas,'Courier New',monospace\"><span style=\"font-weight: bold\"> Trainable params: </span><span style=\"color: #00af00; text-decoration-color: #00af00\">112,659</span> (440.07 KB)\n",
       "</pre>\n"
      ],
      "text/plain": [
       "\u001b[1m Trainable params: \u001b[0m\u001b[38;5;34m112,659\u001b[0m (440.07 KB)\n"
      ]
     },
     "metadata": {},
     "output_type": "display_data"
    },
    {
     "data": {
      "text/html": [
       "<pre style=\"white-space:pre;overflow-x:auto;line-height:normal;font-family:Menlo,'DejaVu Sans Mono',consolas,'Courier New',monospace\"><span style=\"font-weight: bold\"> Non-trainable params: </span><span style=\"color: #00af00; text-decoration-color: #00af00\">0</span> (0.00 B)\n",
       "</pre>\n"
      ],
      "text/plain": [
       "\u001b[1m Non-trainable params: \u001b[0m\u001b[38;5;34m0\u001b[0m (0.00 B)\n"
      ]
     },
     "metadata": {},
     "output_type": "display_data"
    }
   ],
   "source": [
    "model.summary()"
   ]
  },
  {
   "cell_type": "code",
   "execution_count": 38,
   "id": "9637c756",
   "metadata": {},
   "outputs": [
    {
     "name": "stdout",
     "output_type": "stream",
     "text": [
      "Epoch 1/20\n",
      "\u001b[1m193/193\u001b[0m \u001b[32m━━━━━━━━━━━━━━━━━━━━\u001b[0m\u001b[37m\u001b[0m \u001b[1m1s\u001b[0m 3ms/step - accuracy: 0.2018 - loss: 2.5652 - val_accuracy: 0.5307 - val_loss: 1.4394\n",
      "Epoch 2/20\n",
      "\u001b[1m193/193\u001b[0m \u001b[32m━━━━━━━━━━━━━━━━━━━━\u001b[0m\u001b[37m\u001b[0m \u001b[1m0s\u001b[0m 2ms/step - accuracy: 0.6205 - loss: 1.1846 - val_accuracy: 0.7149 - val_loss: 0.9958\n",
      "Epoch 3/20\n",
      "\u001b[1m193/193\u001b[0m \u001b[32m━━━━━━━━━━━━━━━━━━━━\u001b[0m\u001b[37m\u001b[0m \u001b[1m0s\u001b[0m 2ms/step - accuracy: 0.7589 - loss: 0.8014 - val_accuracy: 0.7895 - val_loss: 0.7878\n",
      "Epoch 4/20\n",
      "\u001b[1m193/193\u001b[0m \u001b[32m━━━━━━━━━━━━━━━━━━━━\u001b[0m\u001b[37m\u001b[0m \u001b[1m0s\u001b[0m 2ms/step - accuracy: 0.8371 - loss: 0.5726 - val_accuracy: 0.8129 - val_loss: 0.7438\n",
      "Epoch 5/20\n",
      "\u001b[1m193/193\u001b[0m \u001b[32m━━━━━━━━━━━━━━━━━━━━\u001b[0m\u001b[37m\u001b[0m \u001b[1m0s\u001b[0m 2ms/step - accuracy: 0.8653 - loss: 0.4765 - val_accuracy: 0.8246 - val_loss: 0.6713\n",
      "Epoch 6/20\n",
      "\u001b[1m193/193\u001b[0m \u001b[32m━━━━━━━━━━━━━━━━━━━━\u001b[0m\u001b[37m\u001b[0m \u001b[1m0s\u001b[0m 2ms/step - accuracy: 0.8994 - loss: 0.3769 - val_accuracy: 0.8304 - val_loss: 0.6307\n",
      "Epoch 7/20\n",
      "\u001b[1m193/193\u001b[0m \u001b[32m━━━━━━━━━━━━━━━━━━━━\u001b[0m\u001b[37m\u001b[0m \u001b[1m0s\u001b[0m 2ms/step - accuracy: 0.9068 - loss: 0.3267 - val_accuracy: 0.8363 - val_loss: 0.6408\n",
      "Epoch 8/20\n",
      "\u001b[1m193/193\u001b[0m \u001b[32m━━━━━━━━━━━━━━━━━━━━\u001b[0m\u001b[37m\u001b[0m \u001b[1m0s\u001b[0m 2ms/step - accuracy: 0.9232 - loss: 0.2741 - val_accuracy: 0.8333 - val_loss: 0.6475\n",
      "Epoch 9/20\n",
      "\u001b[1m193/193\u001b[0m \u001b[32m━━━━━━━━━━━━━━━━━━━━\u001b[0m\u001b[37m\u001b[0m \u001b[1m0s\u001b[0m 2ms/step - accuracy: 0.9421 - loss: 0.2155 - val_accuracy: 0.8348 - val_loss: 0.6351\n",
      "Epoch 10/20\n",
      "\u001b[1m193/193\u001b[0m \u001b[32m━━━━━━━━━━━━━━━━━━━━\u001b[0m\u001b[37m\u001b[0m \u001b[1m0s\u001b[0m 2ms/step - accuracy: 0.9499 - loss: 0.1765 - val_accuracy: 0.8392 - val_loss: 0.6057\n",
      "Epoch 11/20\n",
      "\u001b[1m193/193\u001b[0m \u001b[32m━━━━━━━━━━━━━━━━━━━━\u001b[0m\u001b[37m\u001b[0m \u001b[1m0s\u001b[0m 2ms/step - accuracy: 0.9651 - loss: 0.1453 - val_accuracy: 0.8509 - val_loss: 0.6277\n",
      "Epoch 12/20\n",
      "\u001b[1m193/193\u001b[0m \u001b[32m━━━━━━━━━━━━━━━━━━━━\u001b[0m\u001b[37m\u001b[0m \u001b[1m0s\u001b[0m 2ms/step - accuracy: 0.9654 - loss: 0.1334 - val_accuracy: 0.8480 - val_loss: 0.6506\n",
      "Epoch 13/20\n",
      "\u001b[1m193/193\u001b[0m \u001b[32m━━━━━━━━━━━━━━━━━━━━\u001b[0m\u001b[37m\u001b[0m \u001b[1m0s\u001b[0m 2ms/step - accuracy: 0.9771 - loss: 0.0939 - val_accuracy: 0.8567 - val_loss: 0.6641\n",
      "Epoch 14/20\n",
      "\u001b[1m193/193\u001b[0m \u001b[32m━━━━━━━━━━━━━━━━━━━━\u001b[0m\u001b[37m\u001b[0m \u001b[1m0s\u001b[0m 2ms/step - accuracy: 0.9774 - loss: 0.0864 - val_accuracy: 0.8480 - val_loss: 0.6804\n",
      "Epoch 15/20\n",
      "\u001b[1m193/193\u001b[0m \u001b[32m━━━━━━━━━━━━━━━━━━━━\u001b[0m\u001b[37m\u001b[0m \u001b[1m0s\u001b[0m 2ms/step - accuracy: 0.9898 - loss: 0.0554 - val_accuracy: 0.8596 - val_loss: 0.6756\n",
      "Epoch 16/20\n",
      "\u001b[1m193/193\u001b[0m \u001b[32m━━━━━━━━━━━━━━━━━━━━\u001b[0m\u001b[37m\u001b[0m \u001b[1m0s\u001b[0m 2ms/step - accuracy: 0.9918 - loss: 0.0448 - val_accuracy: 0.8582 - val_loss: 0.6954\n",
      "Epoch 17/20\n",
      "\u001b[1m193/193\u001b[0m \u001b[32m━━━━━━━━━━━━━━━━━━━━\u001b[0m\u001b[37m\u001b[0m \u001b[1m0s\u001b[0m 2ms/step - accuracy: 0.9928 - loss: 0.0429 - val_accuracy: 0.8494 - val_loss: 0.7029\n",
      "Epoch 18/20\n",
      "\u001b[1m193/193\u001b[0m \u001b[32m━━━━━━━━━━━━━━━━━━━━\u001b[0m\u001b[37m\u001b[0m \u001b[1m0s\u001b[0m 2ms/step - accuracy: 0.9931 - loss: 0.0384 - val_accuracy: 0.8494 - val_loss: 0.7476\n",
      "Epoch 19/20\n",
      "\u001b[1m193/193\u001b[0m \u001b[32m━━━━━━━━━━━━━━━━━━━━\u001b[0m\u001b[37m\u001b[0m \u001b[1m0s\u001b[0m 2ms/step - accuracy: 0.9875 - loss: 0.0420 - val_accuracy: 0.8377 - val_loss: 0.7869\n",
      "Epoch 20/20\n",
      "\u001b[1m193/193\u001b[0m \u001b[32m━━━━━━━━━━━━━━━━━━━━\u001b[0m\u001b[37m\u001b[0m \u001b[1m0s\u001b[0m 2ms/step - accuracy: 0.9861 - loss: 0.0476 - val_accuracy: 0.8377 - val_loss: 0.8194\n"
     ]
    }
   ],
   "source": [
    "history = model.fit(X_train_seq_RA, y_train_seq_RA, epochs = 20, batch_size = 32, validation_split = 0.1, shuffle = True)"
   ]
  },
  {
   "cell_type": "code",
   "execution_count": 39,
   "id": "d3de25e3",
   "metadata": {},
   "outputs": [
    {
     "data": {
      "text/plain": [
       "<matplotlib.legend.Legend at 0x3216f30d0>"
      ]
     },
     "execution_count": 39,
     "metadata": {},
     "output_type": "execute_result"
    },
    {
     "data": {
      "image/png": "[encoded data removed]",
      "text/plain": [
       "<Figure size 640x480 with 1 Axes>"
      ]
     },
     "metadata": {},
     "output_type": "display_data"
    }
   ],
   "source": [
    "plt.plot(history.history[\"loss\"], label = \"train\")\n",
    "plt.plot(history.history[\"val_loss\"], label = \"test\")\n",
    "plt.legend()"
   ]
  },
  {
   "cell_type": "code",
   "execution_count": 40,
   "id": "8bc8deb2",
   "metadata": {},
   "outputs": [
    {
     "name": "stdout",
     "output_type": "stream",
     "text": [
      "\u001b[1m214/214\u001b[0m \u001b[32m━━━━━━━━━━━━━━━━━━━━\u001b[0m\u001b[37m\u001b[0m \u001b[1m0s\u001b[0m 649us/step - accuracy: 0.9884 - loss: 0.0470\n"
     ]
    },
    {
     "data": {
      "text/plain": [
       "[0.12061260640621185, 0.9744077324867249]"
      ]
     },
     "execution_count": 40,
     "metadata": {},
     "output_type": "execute_result"
    }
   ],
   "source": [
    "model.evaluate(X_train_seq_RA, y_train_seq_RA)"
   ]
  },
  {
   "cell_type": "code",
   "execution_count": 41,
   "id": "57bf2b6b",
   "metadata": {},
   "outputs": [
    {
     "name": "stdout",
     "output_type": "stream",
     "text": [
      "\u001b[1m72/72\u001b[0m \u001b[32m━━━━━━━━━━━━━━━━━━━━\u001b[0m\u001b[37m\u001b[0m \u001b[1m0s\u001b[0m 726us/step - accuracy: 0.8500 - loss: 0.7309\n"
     ]
    },
    {
     "data": {
      "text/plain": [
       "[0.6954575181007385, 0.854258120059967]"
      ]
     },
     "execution_count": 41,
     "metadata": {},
     "output_type": "execute_result"
    }
   ],
   "source": [
    "model.evaluate(X_test_seq_RA, y_test_seq_RA)"
   ]
  },
  {
   "cell_type": "code",
   "execution_count": 42,
   "id": "a8b59729",
   "metadata": {},
   "outputs": [
    {
     "name": "stdout",
     "output_type": "stream",
     "text": [
      "\u001b[1m72/72\u001b[0m \u001b[32m━━━━━━━━━━━━━━━━━━━━\u001b[0m\u001b[37m\u001b[0m \u001b[1m0s\u001b[0m 3ms/step\n",
      "Confusion Matrix\n"
     ]
    },
    {
     "data": {
      "image/png": "[encoded data removed]",
      "text/plain": [
       "<Figure size 800x600 with 2 Axes>"
      ]
     },
     "metadata": {},
     "output_type": "display_data"
    }
   ],
   "source": [
    "import matplotlib.pyplot as plt\n",
    "import seaborn as sns\n",
    "from sklearn.metrics import confusion_matrix\n",
    "\n",
    "from sklearn.metrics import confusion_matrix,classification_report,accuracy_score\n",
    "\n",
    "y_test_arg=np.argmax(y_test_seq_RA, axis=1)\n",
    "Y_pred = np.argmax(model.predict(X_test_seq_RA),axis=1)\n",
    "print('Confusion Matrix')\n",
    "cm = confusion_matrix(y_test_arg, Y_pred)\n",
    "# 시각화\n",
    "plt.figure(figsize=(8, 6))  # 그래프 크기 조절 (너비 8, 높이 6)\n",
    "sns.heatmap(cm, annot=True, fmt=\"d\", cmap=\"Blues\")\n",
    "\n",
    "# 그래프 표시\n",
    "plt.show()"
   ]
  },
  {
   "cell_type": "code",
   "execution_count": 43,
   "id": "0a04aa00",
   "metadata": {},
   "outputs": [
    {
     "name": "stdout",
     "output_type": "stream",
     "text": [
      "\u001b[1m72/72\u001b[0m \u001b[32m━━━━━━━━━━━━━━━━━━━━\u001b[0m\u001b[37m\u001b[0m \u001b[1m0s\u001b[0m 656us/step - accuracy: 0.8500 - loss: 0.7309\n"
     ]
    },
    {
     "name": "stderr",
     "output_type": "stream",
     "text": [
      "WARNING:absl:You are saving your model as an HDF5 file via `model.save()` or `keras.saving.save_model(model)`. This file format is considered legacy. We recommend using instead the native Keras format, e.g. `model.save('my_model.keras')` or `keras.saving.save_model(model, 'my_model.keras')`. \n"
     ]
    },
    {
     "name": "stdout",
     "output_type": "stream",
     "text": [
      "model saved at  C:/Users/user/Desktop/2024 2학기/딥러닝 응용/4주차/RA_model.h5\n",
      "Accuracy >85.425812\n",
      "Base Loss >0.70\n"
     ]
    }
   ],
   "source": [
    "base_loss,base_accuracy=model.evaluate(X_test_seq_RA, y_test_seq_RA)\n",
    "\n",
    "model_file=\"C:/Users/user/Desktop/2024 2학기/딥러닝 응용/4주차/RA_model.h5\"\n",
    "  \n",
    "tf.keras.models.save_model(model, model_file, include_optimizer=False)\n",
    "print('model saved at ', model_file)\n",
    "#score,keras_file=evaluate_model(trainX,trainy,testX,testy)\n",
    "score=base_accuracy*100\n",
    "print('Accuracy >{:f}'.format(score))\n",
    "print('Base Loss >{:.2f}'.format(base_loss))"
   ]
  },
  {
   "cell_type": "code",
   "execution_count": 44,
   "id": "0a1dcfab",
   "metadata": {},
   "outputs": [
    {
     "name": "stderr",
     "output_type": "stream",
     "text": [
      "/opt/anaconda3/lib/python3.11/site-packages/keras/src/layers/rnn/rnn.py:204: UserWarning: Do not pass an `input_shape`/`input_dim` argument to a layer. When using Sequential models, prefer using an `Input(shape)` object as the first layer in the model instead.\n",
      "  super().__init__(**kwargs)\n"
     ]
    }
   ],
   "source": [
    "# Sequential model type\n",
    "model2 = Sequential()\n",
    "model2.add(LSTM(units=128, input_shape = (n_timesteps,n_features)))\n",
    "model2.add(Dense(128, activation='relu'))\n",
    "model2.add(Dense(n_outputs, activation='softmax'))\n",
    "model2.compile(optimizer='adam', metrics=['accuracy'], loss='categorical_crossentropy')"
   ]
  },
  {
   "cell_type": "code",
   "execution_count": 45,
   "id": "feb9b225",
   "metadata": {},
   "outputs": [
    {
     "data": {
      "text/html": [
       "<pre style=\"white-space:pre;overflow-x:auto;line-height:normal;font-family:Menlo,'DejaVu Sans Mono',consolas,'Courier New',monospace\"><span style=\"font-weight: bold\">Model: \"sequential_1\"</span>\n",
       "</pre>\n"
      ],
      "text/plain": [
       "\u001b[1mModel: \"sequential_1\"\u001b[0m\n"
      ]
     },
     "metadata": {},
     "output_type": "display_data"
    },
    {
     "data": {
      "text/html": [
       "<pre style=\"white-space:pre;overflow-x:auto;line-height:normal;font-family:Menlo,'DejaVu Sans Mono',consolas,'Courier New',monospace\">┏━━━━━━━━━━━━━━━━━━━━━━━━━━━━━━━━━┳━━━━━━━━━━━━━━━━━━━━━━━━┳━━━━━━━━━━━━━━━┓\n",
       "┃<span style=\"font-weight: bold\"> Layer (type)                    </span>┃<span style=\"font-weight: bold\"> Output Shape           </span>┃<span style=\"font-weight: bold\">       Param # </span>┃\n",
       "┡━━━━━━━━━━━━━━━━━━━━━━━━━━━━━━━━━╇━━━━━━━━━━━━━━━━━━━━━━━━╇━━━━━━━━━━━━━━━┩\n",
       "│ lstm_1 (<span style=\"color: #0087ff; text-decoration-color: #0087ff\">LSTM</span>)                   │ (<span style=\"color: #00d7ff; text-decoration-color: #00d7ff\">None</span>, <span style=\"color: #00af00; text-decoration-color: #00af00\">128</span>)            │        <span style=\"color: #00af00; text-decoration-color: #00af00\">93,696</span> │\n",
       "├─────────────────────────────────┼────────────────────────┼───────────────┤\n",
       "│ dense_2 (<span style=\"color: #0087ff; text-decoration-color: #0087ff\">Dense</span>)                 │ (<span style=\"color: #00d7ff; text-decoration-color: #00d7ff\">None</span>, <span style=\"color: #00af00; text-decoration-color: #00af00\">128</span>)            │        <span style=\"color: #00af00; text-decoration-color: #00af00\">16,512</span> │\n",
       "├─────────────────────────────────┼────────────────────────┼───────────────┤\n",
       "│ dense_3 (<span style=\"color: #0087ff; text-decoration-color: #0087ff\">Dense</span>)                 │ (<span style=\"color: #00d7ff; text-decoration-color: #00d7ff\">None</span>, <span style=\"color: #00af00; text-decoration-color: #00af00\">19</span>)             │         <span style=\"color: #00af00; text-decoration-color: #00af00\">2,451</span> │\n",
       "└─────────────────────────────────┴────────────────────────┴───────────────┘\n",
       "</pre>\n"
      ],
      "text/plain": [
       "┏━━━━━━━━━━━━━━━━━━━━━━━━━━━━━━━━━┳━━━━━━━━━━━━━━━━━━━━━━━━┳━━━━━━━━━━━━━━━┓\n",
       "┃\u001b[1m \u001b[0m\u001b[1mLayer (type)                   \u001b[0m\u001b[1m \u001b[0m┃\u001b[1m \u001b[0m\u001b[1mOutput Shape          \u001b[0m\u001b[1m \u001b[0m┃\u001b[1m \u001b[0m\u001b[1m      Param #\u001b[0m\u001b[1m \u001b[0m┃\n",
       "┡━━━━━━━━━━━━━━━━━━━━━━━━━━━━━━━━━╇━━━━━━━━━━━━━━━━━━━━━━━━╇━━━━━━━━━━━━━━━┩\n",
       "│ lstm_1 (\u001b[38;5;33mLSTM\u001b[0m)                   │ (\u001b[38;5;45mNone\u001b[0m, \u001b[38;5;34m128\u001b[0m)            │        \u001b[38;5;34m93,696\u001b[0m │\n",
       "├─────────────────────────────────┼────────────────────────┼───────────────┤\n",
       "│ dense_2 (\u001b[38;5;33mDense\u001b[0m)                 │ (\u001b[38;5;45mNone\u001b[0m, \u001b[38;5;34m128\u001b[0m)            │        \u001b[38;5;34m16,512\u001b[0m │\n",
       "├─────────────────────────────────┼────────────────────────┼───────────────┤\n",
       "│ dense_3 (\u001b[38;5;33mDense\u001b[0m)                 │ (\u001b[38;5;45mNone\u001b[0m, \u001b[38;5;34m19\u001b[0m)             │         \u001b[38;5;34m2,451\u001b[0m │\n",
       "└─────────────────────────────────┴────────────────────────┴───────────────┘\n"
      ]
     },
     "metadata": {},
     "output_type": "display_data"
    },
    {
     "data": {
      "text/html": [
       "<pre style=\"white-space:pre;overflow-x:auto;line-height:normal;font-family:Menlo,'DejaVu Sans Mono',consolas,'Courier New',monospace\"><span style=\"font-weight: bold\"> Total params: </span><span style=\"color: #00af00; text-decoration-color: #00af00\">112,659</span> (440.07 KB)\n",
       "</pre>\n"
      ],
      "text/plain": [
       "\u001b[1m Total params: \u001b[0m\u001b[38;5;34m112,659\u001b[0m (440.07 KB)\n"
      ]
     },
     "metadata": {},
     "output_type": "display_data"
    },
    {
     "data": {
      "text/html": [
       "<pre style=\"white-space:pre;overflow-x:auto;line-height:normal;font-family:Menlo,'DejaVu Sans Mono',consolas,'Courier New',monospace\"><span style=\"font-weight: bold\"> Trainable params: </span><span style=\"color: #00af00; text-decoration-color: #00af00\">112,659</span> (440.07 KB)\n",
       "</pre>\n"
      ],
      "text/plain": [
       "\u001b[1m Trainable params: \u001b[0m\u001b[38;5;34m112,659\u001b[0m (440.07 KB)\n"
      ]
     },
     "metadata": {},
     "output_type": "display_data"
    },
    {
     "data": {
      "text/html": [
       "<pre style=\"white-space:pre;overflow-x:auto;line-height:normal;font-family:Menlo,'DejaVu Sans Mono',consolas,'Courier New',monospace\"><span style=\"font-weight: bold\"> Non-trainable params: </span><span style=\"color: #00af00; text-decoration-color: #00af00\">0</span> (0.00 B)\n",
       "</pre>\n"
      ],
      "text/plain": [
       "\u001b[1m Non-trainable params: \u001b[0m\u001b[38;5;34m0\u001b[0m (0.00 B)\n"
      ]
     },
     "metadata": {},
     "output_type": "display_data"
    }
   ],
   "source": [
    "model2.summary()"
   ]
  },
  {
   "cell_type": "code",
   "execution_count": 46,
   "id": "fcb5980b",
   "metadata": {},
   "outputs": [
    {
     "name": "stdout",
     "output_type": "stream",
     "text": [
      "Epoch 1/20\n",
      "\u001b[1m193/193\u001b[0m \u001b[32m━━━━━━━━━━━━━━━━━━━━\u001b[0m\u001b[37m\u001b[0m \u001b[1m1s\u001b[0m 3ms/step - accuracy: 0.2205 - loss: 2.5129 - val_accuracy: 0.5453 - val_loss: 1.2955\n",
      "Epoch 2/20\n",
      "\u001b[1m193/193\u001b[0m \u001b[32m━━━━━━━━━━━━━━━━━━━━\u001b[0m\u001b[37m\u001b[0m \u001b[1m0s\u001b[0m 2ms/step - accuracy: 0.6466 - loss: 1.0954 - val_accuracy: 0.7281 - val_loss: 0.8919\n",
      "Epoch 3/20\n",
      "\u001b[1m193/193\u001b[0m \u001b[32m━━━━━━━━━━━━━━━━━━━━\u001b[0m\u001b[37m\u001b[0m \u001b[1m0s\u001b[0m 2ms/step - accuracy: 0.7831 - loss: 0.7146 - val_accuracy: 0.8070 - val_loss: 0.7002\n",
      "Epoch 4/20\n",
      "\u001b[1m193/193\u001b[0m \u001b[32m━━━━━━━━━━━━━━━━━━━━\u001b[0m\u001b[37m\u001b[0m \u001b[1m0s\u001b[0m 2ms/step - accuracy: 0.8435 - loss: 0.5292 - val_accuracy: 0.8523 - val_loss: 0.6304\n",
      "Epoch 5/20\n",
      "\u001b[1m193/193\u001b[0m \u001b[32m━━━━━━━━━━━━━━━━━━━━\u001b[0m\u001b[37m\u001b[0m \u001b[1m0s\u001b[0m 2ms/step - accuracy: 0.8830 - loss: 0.4128 - val_accuracy: 0.8480 - val_loss: 0.5888\n",
      "Epoch 6/20\n",
      "\u001b[1m193/193\u001b[0m \u001b[32m━━━━━━━━━━━━━━━━━━━━\u001b[0m\u001b[37m\u001b[0m \u001b[1m0s\u001b[0m 2ms/step - accuracy: 0.9076 - loss: 0.3301 - val_accuracy: 0.8480 - val_loss: 0.5994\n",
      "Epoch 7/20\n",
      "\u001b[1m193/193\u001b[0m \u001b[32m━━━━━━━━━━━━━━━━━━━━\u001b[0m\u001b[37m\u001b[0m \u001b[1m0s\u001b[0m 2ms/step - accuracy: 0.9161 - loss: 0.2911 - val_accuracy: 0.8509 - val_loss: 0.5754\n",
      "Epoch 8/20\n",
      "\u001b[1m193/193\u001b[0m \u001b[32m━━━━━━━━━━━━━━━━━━━━\u001b[0m\u001b[37m\u001b[0m \u001b[1m0s\u001b[0m 2ms/step - accuracy: 0.9363 - loss: 0.2241 - val_accuracy: 0.8480 - val_loss: 0.5719\n",
      "Epoch 9/20\n",
      "\u001b[1m193/193\u001b[0m \u001b[32m━━━━━━━━━━━━━━━━━━━━\u001b[0m\u001b[37m\u001b[0m \u001b[1m0s\u001b[0m 2ms/step - accuracy: 0.9472 - loss: 0.1807 - val_accuracy: 0.8626 - val_loss: 0.5465\n",
      "Epoch 10/20\n",
      "\u001b[1m193/193\u001b[0m \u001b[32m━━━━━━━━━━━━━━━━━━━━\u001b[0m\u001b[37m\u001b[0m \u001b[1m0s\u001b[0m 2ms/step - accuracy: 0.9546 - loss: 0.1583 - val_accuracy: 0.8699 - val_loss: 0.5578\n",
      "Epoch 11/20\n",
      "\u001b[1m193/193\u001b[0m \u001b[32m━━━━━━━━━━━━━━━━━━━━\u001b[0m\u001b[37m\u001b[0m \u001b[1m0s\u001b[0m 2ms/step - accuracy: 0.9641 - loss: 0.1337 - val_accuracy: 0.8523 - val_loss: 0.5927\n",
      "Epoch 12/20\n",
      "\u001b[1m193/193\u001b[0m \u001b[32m━━━━━━━━━━━━━━━━━━━━\u001b[0m\u001b[37m\u001b[0m \u001b[1m0s\u001b[0m 2ms/step - accuracy: 0.9731 - loss: 0.1113 - val_accuracy: 0.8787 - val_loss: 0.5904\n",
      "Epoch 13/20\n",
      "\u001b[1m193/193\u001b[0m \u001b[32m━━━━━━━━━━━━━━━━━━━━\u001b[0m\u001b[37m\u001b[0m \u001b[1m0s\u001b[0m 2ms/step - accuracy: 0.9807 - loss: 0.0792 - val_accuracy: 0.8670 - val_loss: 0.5859\n",
      "Epoch 14/20\n",
      "\u001b[1m193/193\u001b[0m \u001b[32m━━━━━━━━━━━━━━━━━━━━\u001b[0m\u001b[37m\u001b[0m \u001b[1m0s\u001b[0m 2ms/step - accuracy: 0.9851 - loss: 0.0594 - val_accuracy: 0.8655 - val_loss: 0.6304\n",
      "Epoch 15/20\n",
      "\u001b[1m193/193\u001b[0m \u001b[32m━━━━━━━━━━━━━━━━━━━━\u001b[0m\u001b[37m\u001b[0m \u001b[1m0s\u001b[0m 2ms/step - accuracy: 0.9873 - loss: 0.0534 - val_accuracy: 0.8655 - val_loss: 0.6109\n",
      "Epoch 16/20\n",
      "\u001b[1m193/193\u001b[0m \u001b[32m━━━━━━━━━━━━━━━━━━━━\u001b[0m\u001b[37m\u001b[0m \u001b[1m0s\u001b[0m 2ms/step - accuracy: 0.9864 - loss: 0.0532 - val_accuracy: 0.8713 - val_loss: 0.6443\n",
      "Epoch 17/20\n",
      "\u001b[1m193/193\u001b[0m \u001b[32m━━━━━━━━━━━━━━━━━━━━\u001b[0m\u001b[37m\u001b[0m \u001b[1m0s\u001b[0m 2ms/step - accuracy: 0.9923 - loss: 0.0351 - val_accuracy: 0.8801 - val_loss: 0.6399\n",
      "Epoch 18/20\n",
      "\u001b[1m193/193\u001b[0m \u001b[32m━━━━━━━━━━━━━━━━━━━━\u001b[0m\u001b[37m\u001b[0m \u001b[1m0s\u001b[0m 2ms/step - accuracy: 0.9962 - loss: 0.0252 - val_accuracy: 0.8743 - val_loss: 0.6512\n",
      "Epoch 19/20\n",
      "\u001b[1m193/193\u001b[0m \u001b[32m━━━━━━━━━━━━━━━━━━━━\u001b[0m\u001b[37m\u001b[0m \u001b[1m0s\u001b[0m 2ms/step - accuracy: 0.9986 - loss: 0.0166 - val_accuracy: 0.8801 - val_loss: 0.6896\n",
      "Epoch 20/20\n",
      "\u001b[1m193/193\u001b[0m \u001b[32m━━━━━━━━━━━━━━━━━━━━\u001b[0m\u001b[37m\u001b[0m \u001b[1m0s\u001b[0m 2ms/step - accuracy: 0.9993 - loss: 0.0128 - val_accuracy: 0.8640 - val_loss: 0.6971\n"
     ]
    }
   ],
   "source": [
    "history2 = model2.fit(X_train_seq_LA, y_train_seq_LA, epochs = 20, batch_size = 32, validation_split = 0.1, shuffle = True)"
   ]
  },
  {
   "cell_type": "code",
   "execution_count": 47,
   "id": "656d4767",
   "metadata": {},
   "outputs": [
    {
     "data": {
      "text/plain": [
       "<matplotlib.legend.Legend at 0x321c4b210>"
      ]
     },
     "execution_count": 47,
     "metadata": {},
     "output_type": "execute_result"
    },
    {
     "data": {
      "image/png": "[encoded data removed]",
      "text/plain": [
       "<Figure size 640x480 with 1 Axes>"
      ]
     },
     "metadata": {},
     "output_type": "display_data"
    }
   ],
   "source": [
    "plt.plot(history2.history[\"loss\"], label = \"train\")\n",
    "plt.plot(history2.history[\"val_loss\"], label = \"test\")\n",
    "plt.legend()"
   ]
  },
  {
   "cell_type": "code",
   "execution_count": 48,
   "id": "153a104c",
   "metadata": {},
   "outputs": [
    {
     "name": "stdout",
     "output_type": "stream",
     "text": [
      "\u001b[1m214/214\u001b[0m \u001b[32m━━━━━━━━━━━━━━━━━━━━\u001b[0m\u001b[37m\u001b[0m \u001b[1m0s\u001b[0m 675us/step - accuracy: 0.9962 - loss: 0.0211\n"
     ]
    },
    {
     "data": {
      "text/plain": [
       "[0.08459985256195068, 0.9837672114372253]"
      ]
     },
     "execution_count": 48,
     "metadata": {},
     "output_type": "execute_result"
    }
   ],
   "source": [
    "model2.evaluate(X_train_seq_LA, y_train_seq_LA)"
   ]
  },
  {
   "cell_type": "code",
   "execution_count": 49,
   "id": "4d268b42",
   "metadata": {},
   "outputs": [
    {
     "name": "stdout",
     "output_type": "stream",
     "text": [
      "\u001b[1m72/72\u001b[0m \u001b[32m━━━━━━━━━━━━━━━━━━━━\u001b[0m\u001b[37m\u001b[0m \u001b[1m0s\u001b[0m 705us/step - accuracy: 0.8836 - loss: 0.6090\n"
     ]
    },
    {
     "data": {
      "text/plain": [
       "[0.6197930574417114, 0.880158007144928]"
      ]
     },
     "execution_count": 49,
     "metadata": {},
     "output_type": "execute_result"
    }
   ],
   "source": [
    "model2.evaluate(X_test_seq_LA, y_test_seq_LA)"
   ]
  },
  {
   "cell_type": "code",
   "execution_count": 50,
   "id": "1f3fa27a",
   "metadata": {},
   "outputs": [
    {
     "name": "stdout",
     "output_type": "stream",
     "text": [
      "\u001b[1m72/72\u001b[0m \u001b[32m━━━━━━━━━━━━━━━━━━━━\u001b[0m\u001b[37m\u001b[0m \u001b[1m0s\u001b[0m 2ms/step\n",
      "Confusion Matrix\n"
     ]
    },
    {
     "data": {
      "image/png": "[encoded data removed]",
      "text/plain": [
       "<Figure size 800x600 with 2 Axes>"
      ]
     },
     "metadata": {},
     "output_type": "display_data"
    }
   ],
   "source": [
    "import matplotlib.pyplot as plt\n",
    "import seaborn as sns\n",
    "from sklearn.metrics import confusion_matrix\n",
    "\n",
    "from sklearn.metrics import confusion_matrix,classification_report,accuracy_score\n",
    "\n",
    "y_test_arg=np.argmax(y_test_seq_LA, axis=1)\n",
    "Y_pred = np.argmax(model2.predict(X_test_seq_LA),axis=1)\n",
    "print('Confusion Matrix')\n",
    "cm = confusion_matrix(y_test_arg, Y_pred)\n",
    "# 시각화\n",
    "plt.figure(figsize=(8, 6))  # 그래프 크기 조절 (너비 8, 높이 6)\n",
    "sns.heatmap(cm, annot=True, fmt=\"d\", cmap=\"Greens\")\n",
    "\n",
    "# 그래프 표시\n",
    "plt.show()"
   ]
  },
  {
   "cell_type": "code",
   "execution_count": 51,
   "id": "d30ff6d6",
   "metadata": {},
   "outputs": [
    {
     "name": "stdout",
     "output_type": "stream",
     "text": [
      "\u001b[1m72/72\u001b[0m \u001b[32m━━━━━━━━━━━━━━━━━━━━\u001b[0m\u001b[37m\u001b[0m \u001b[1m0s\u001b[0m 695us/step - accuracy: 0.8836 - loss: 0.6090\n"
     ]
    },
    {
     "name": "stderr",
     "output_type": "stream",
     "text": [
      "WARNING:absl:You are saving your model as an HDF5 file via `model.save()` or `keras.saving.save_model(model)`. This file format is considered legacy. We recommend using instead the native Keras format, e.g. `model.save('my_model.keras')` or `keras.saving.save_model(model, 'my_model.keras')`. \n"
     ]
    },
    {
     "name": "stdout",
     "output_type": "stream",
     "text": [
      "model saved at  C:/Users/user/Desktop/2024 2학기/딥러닝 응용/4주차/LA_Model.h5\n",
      "Accuracy >88.015801\n",
      "Base Loss >0.62\n"
     ]
    }
   ],
   "source": [
    "base_loss,base_accuracy=model2.evaluate(X_test_seq_LA, y_test_seq_LA)\n",
    "\n",
    "model_file2=\"C:/Users/user/Desktop/2024 2학기/딥러닝 응용/4주차/LA_Model.h5\"\n",
    "  \n",
    "tf.keras.models.save_model(model2, model_file2, include_optimizer=False)\n",
    "print('model saved at ', model_file2)\n",
    "score=base_accuracy*100\n",
    "print('Accuracy >{:f}'.format(score))\n",
    "print('Base Loss >{:.2f}'.format(base_loss))"
   ]
  },
  {
   "cell_type": "markdown",
   "id": "3fd0bc05",
   "metadata": {},
   "source": [
    "# 전이 학습 및 미세 조정 \n",
    "# -기존에 학습된 모델(보통 대규모 데이터셋에서 학습된 모델)을 가져와 새로운 작업에 사용하는 방식입니다."
   ]
  },
  {
   "cell_type": "code",
   "execution_count": 53,
   "id": "6e77d481",
   "metadata": {},
   "outputs": [
    {
     "name": "stderr",
     "output_type": "stream",
     "text": [
      "WARNING:absl:No training configuration found in the save file, so the model was *not* compiled. Compile it manually.\n"
     ]
    }
   ],
   "source": [
    "# Base 모델을 로드 (LA_Model.h5)\n",
    "from tensorflow.keras.models import load_model\n",
    "\n",
    "base_model = load_model(model_file2)"
   ]
  },
  {
   "cell_type": "code",
   "execution_count": 54,
   "id": "92e27a6d",
   "metadata": {},
   "outputs": [
    {
     "name": "stdout",
     "output_type": "stream",
     "text": [
      "\u001b[1m72/72\u001b[0m \u001b[32m━━━━━━━━━━━━━━━━━━━━\u001b[0m\u001b[37m\u001b[0m \u001b[1m0s\u001b[0m 707us/step - accuracy: 0.8836 - loss: 0.6090 \n"
     ]
    },
    {
     "data": {
      "text/plain": [
       "[0.6197930574417114, 0.880158007144928]"
      ]
     },
     "execution_count": 54,
     "metadata": {},
     "output_type": "execute_result"
    }
   ],
   "source": [
    "base_model.compile(optimizer='adam', metrics=['accuracy'], loss='categorical_crossentropy')\n",
    "base_model.evaluate(X_test_seq_LA, y_test_seq_LA)"
   ]
  },
  {
   "cell_type": "code",
   "execution_count": 55,
   "id": "76c182a8",
   "metadata": {},
   "outputs": [
    {
     "name": "stdout",
     "output_type": "stream",
     "text": [
      "\u001b[1m72/72\u001b[0m \u001b[32m━━━━━━━━━━━━━━━━━━━━\u001b[0m\u001b[37m\u001b[0m \u001b[1m0s\u001b[0m 725us/step - accuracy: 0.2187 - loss: 5.6436\n"
     ]
    },
    {
     "data": {
      "text/plain": [
       "[5.473695278167725, 0.23705004155635834]"
      ]
     },
     "execution_count": 55,
     "metadata": {},
     "output_type": "execute_result"
    }
   ],
   "source": [
    "base_model.evaluate(X_test_seq_RA, y_test_seq_RA)"
   ]
  },
  {
   "cell_type": "code",
   "execution_count": 56,
   "id": "13522e5c",
   "metadata": {},
   "outputs": [
    {
     "name": "stdout",
     "output_type": "stream",
     "text": [
      "Number of layers in the base model:  3\n"
     ]
    }
   ],
   "source": [
    "print(\"Number of layers in the base model: \", len(base_model.layers))"
   ]
  },
  {
   "cell_type": "markdown",
   "id": "b3dc1fd3",
   "metadata": {},
   "source": [
    "# 기존의 출력층을 빼고 새로운 모델에 해당 레이어들 추가\n",
    "# 새로운 작업에서는 기존 모델의 가중치를 그대로 고정하고(trainable = False), 마지막 층(또는 몇몇 층)을 새로운 데이터셋에 맞게 교체하여 학습합니다."
   ]
  },
  {
   "cell_type": "code",
   "execution_count": 57,
   "id": "7217e12f",
   "metadata": {},
   "outputs": [
    {
     "data": {
      "text/html": [
       "<pre style=\"white-space:pre;overflow-x:auto;line-height:normal;font-family:Menlo,'DejaVu Sans Mono',consolas,'Courier New',monospace\"><span style=\"font-weight: bold\">Model: \"sequential_2\"</span>\n",
       "</pre>\n"
      ],
      "text/plain": [
       "\u001b[1mModel: \"sequential_2\"\u001b[0m\n"
      ]
     },
     "metadata": {},
     "output_type": "display_data"
    },
    {
     "data": {
      "text/html": [
       "<pre style=\"white-space:pre;overflow-x:auto;line-height:normal;font-family:Menlo,'DejaVu Sans Mono',consolas,'Courier New',monospace\">┏━━━━━━━━━━━━━━━━━━━━━━━━━━━━━━━━━┳━━━━━━━━━━━━━━━━━━━━━━━━┳━━━━━━━━━━━━━━━┓\n",
       "┃<span style=\"font-weight: bold\"> Layer (type)                    </span>┃<span style=\"font-weight: bold\"> Output Shape           </span>┃<span style=\"font-weight: bold\">       Param # </span>┃\n",
       "┡━━━━━━━━━━━━━━━━━━━━━━━━━━━━━━━━━╇━━━━━━━━━━━━━━━━━━━━━━━━╇━━━━━━━━━━━━━━━┩\n",
       "│ lstm_1 (<span style=\"color: #0087ff; text-decoration-color: #0087ff\">LSTM</span>)                   │ (<span style=\"color: #00d7ff; text-decoration-color: #00d7ff\">None</span>, <span style=\"color: #00af00; text-decoration-color: #00af00\">128</span>)            │        <span style=\"color: #00af00; text-decoration-color: #00af00\">93,696</span> │\n",
       "├─────────────────────────────────┼────────────────────────┼───────────────┤\n",
       "│ dense_2 (<span style=\"color: #0087ff; text-decoration-color: #0087ff\">Dense</span>)                 │ (<span style=\"color: #00d7ff; text-decoration-color: #00d7ff\">None</span>, <span style=\"color: #00af00; text-decoration-color: #00af00\">128</span>)            │        <span style=\"color: #00af00; text-decoration-color: #00af00\">16,512</span> │\n",
       "├─────────────────────────────────┼────────────────────────┼───────────────┤\n",
       "│ dense_4 (<span style=\"color: #0087ff; text-decoration-color: #0087ff\">Dense</span>)                 │ ?                      │   <span style=\"color: #00af00; text-decoration-color: #00af00\">0</span> (unbuilt) │\n",
       "├─────────────────────────────────┼────────────────────────┼───────────────┤\n",
       "│ dense_5 (<span style=\"color: #0087ff; text-decoration-color: #0087ff\">Dense</span>)                 │ ?                      │   <span style=\"color: #00af00; text-decoration-color: #00af00\">0</span> (unbuilt) │\n",
       "└─────────────────────────────────┴────────────────────────┴───────────────┘\n",
       "</pre>\n"
      ],
      "text/plain": [
       "┏━━━━━━━━━━━━━━━━━━━━━━━━━━━━━━━━━┳━━━━━━━━━━━━━━━━━━━━━━━━┳━━━━━━━━━━━━━━━┓\n",
       "┃\u001b[1m \u001b[0m\u001b[1mLayer (type)                   \u001b[0m\u001b[1m \u001b[0m┃\u001b[1m \u001b[0m\u001b[1mOutput Shape          \u001b[0m\u001b[1m \u001b[0m┃\u001b[1m \u001b[0m\u001b[1m      Param #\u001b[0m\u001b[1m \u001b[0m┃\n",
       "┡━━━━━━━━━━━━━━━━━━━━━━━━━━━━━━━━━╇━━━━━━━━━━━━━━━━━━━━━━━━╇━━━━━━━━━━━━━━━┩\n",
       "│ lstm_1 (\u001b[38;5;33mLSTM\u001b[0m)                   │ (\u001b[38;5;45mNone\u001b[0m, \u001b[38;5;34m128\u001b[0m)            │        \u001b[38;5;34m93,696\u001b[0m │\n",
       "├─────────────────────────────────┼────────────────────────┼───────────────┤\n",
       "│ dense_2 (\u001b[38;5;33mDense\u001b[0m)                 │ (\u001b[38;5;45mNone\u001b[0m, \u001b[38;5;34m128\u001b[0m)            │        \u001b[38;5;34m16,512\u001b[0m │\n",
       "├─────────────────────────────────┼────────────────────────┼───────────────┤\n",
       "│ dense_4 (\u001b[38;5;33mDense\u001b[0m)                 │ ?                      │   \u001b[38;5;34m0\u001b[0m (unbuilt) │\n",
       "├─────────────────────────────────┼────────────────────────┼───────────────┤\n",
       "│ dense_5 (\u001b[38;5;33mDense\u001b[0m)                 │ ?                      │   \u001b[38;5;34m0\u001b[0m (unbuilt) │\n",
       "└─────────────────────────────────┴────────────────────────┴───────────────┘\n"
      ]
     },
     "metadata": {},
     "output_type": "display_data"
    },
    {
     "data": {
      "text/html": [
       "<pre style=\"white-space:pre;overflow-x:auto;line-height:normal;font-family:Menlo,'DejaVu Sans Mono',consolas,'Courier New',monospace\"><span style=\"font-weight: bold\"> Total params: </span><span style=\"color: #00af00; text-decoration-color: #00af00\">110,208</span> (430.50 KB)\n",
       "</pre>\n"
      ],
      "text/plain": [
       "\u001b[1m Total params: \u001b[0m\u001b[38;5;34m110,208\u001b[0m (430.50 KB)\n"
      ]
     },
     "metadata": {},
     "output_type": "display_data"
    },
    {
     "data": {
      "text/html": [
       "<pre style=\"white-space:pre;overflow-x:auto;line-height:normal;font-family:Menlo,'DejaVu Sans Mono',consolas,'Courier New',monospace\"><span style=\"font-weight: bold\"> Trainable params: </span><span style=\"color: #00af00; text-decoration-color: #00af00\">0</span> (0.00 B)\n",
       "</pre>\n"
      ],
      "text/plain": [
       "\u001b[1m Trainable params: \u001b[0m\u001b[38;5;34m0\u001b[0m (0.00 B)\n"
      ]
     },
     "metadata": {},
     "output_type": "display_data"
    },
    {
     "data": {
      "text/html": [
       "<pre style=\"white-space:pre;overflow-x:auto;line-height:normal;font-family:Menlo,'DejaVu Sans Mono',consolas,'Courier New',monospace\"><span style=\"font-weight: bold\"> Non-trainable params: </span><span style=\"color: #00af00; text-decoration-color: #00af00\">110,208</span> (430.50 KB)\n",
       "</pre>\n"
      ],
      "text/plain": [
       "\u001b[1m Non-trainable params: \u001b[0m\u001b[38;5;34m110,208\u001b[0m (430.50 KB)\n"
      ]
     },
     "metadata": {},
     "output_type": "display_data"
    }
   ],
   "source": [
    "# 기존 모델의 층을 동결 (학습되지 않도록 설정)\n",
    "base_model.trainable = False\n",
    "\n",
    "from tensorflow.keras.applications import VGG16\n",
    "from tensorflow.keras import layers, models\n",
    "\n",
    "def remove_last_layers(model, num_layers_to_remove):\n",
    "    # 모델의 레이어를 하나씩 슬라이스해서 앞의 레이어만 가져옴\n",
    "    model_layers = model.layers[:-num_layers_to_remove]  # 마지막 레이어부터 지정된 갯수만큼 제외\n",
    "    new_model = models.Sequential(model_layers)  # 새로운 모델에 해당 레이어들만 추가\n",
    "    return new_model\n",
    "\n",
    "\n",
    "# 출력층부터 1개의 레이어를 삭제\n",
    "new_model = remove_last_layers(base_model, 1)\n",
    "\n",
    "# 새로운 출력층 추가\n",
    "new_model.add(layers.Dense(256, activation='relu'))\n",
    "new_model.add(layers.Dense(19, activation='softmax'))  # 예: 10개의 클래스\n",
    "new_model.compile(optimizer='adam', metrics=['accuracy'], loss='categorical_crossentropy')\n",
    "\n",
    "# 모델 요약 출력\n",
    "new_model.summary()"
   ]
  },
  {
   "cell_type": "code",
   "execution_count": 58,
   "id": "f3c1237f",
   "metadata": {},
   "outputs": [
    {
     "data": {
      "text/html": [
       "<div>\n",
       "<style scoped>\n",
       "    .dataframe tbody tr th:only-of-type {\n",
       "        vertical-align: middle;\n",
       "    }\n",
       "\n",
       "    .dataframe tbody tr th {\n",
       "        vertical-align: top;\n",
       "    }\n",
       "\n",
       "    .dataframe thead th {\n",
       "        text-align: right;\n",
       "    }\n",
       "</style>\n",
       "<table border=\"1\" class=\"dataframe\">\n",
       "  <thead>\n",
       "    <tr style=\"text-align: right;\">\n",
       "      <th></th>\n",
       "      <th>Layer Type</th>\n",
       "      <th>Layer Name</th>\n",
       "      <th>Layer Trainable</th>\n",
       "    </tr>\n",
       "  </thead>\n",
       "  <tbody>\n",
       "    <tr>\n",
       "      <th>0</th>\n",
       "      <td>&lt;LSTM name=lstm_1, built=True&gt;</td>\n",
       "      <td>lstm_1</td>\n",
       "      <td>False</td>\n",
       "    </tr>\n",
       "    <tr>\n",
       "      <th>1</th>\n",
       "      <td>&lt;Dense name=dense_2, built=True&gt;</td>\n",
       "      <td>dense_2</td>\n",
       "      <td>False</td>\n",
       "    </tr>\n",
       "    <tr>\n",
       "      <th>2</th>\n",
       "      <td>&lt;Dense name=dense_4, built=False&gt;</td>\n",
       "      <td>dense_4</td>\n",
       "      <td>True</td>\n",
       "    </tr>\n",
       "    <tr>\n",
       "      <th>3</th>\n",
       "      <td>&lt;Dense name=dense_5, built=False&gt;</td>\n",
       "      <td>dense_5</td>\n",
       "      <td>True</td>\n",
       "    </tr>\n",
       "  </tbody>\n",
       "</table>\n",
       "</div>"
      ],
      "text/plain": [
       "                          Layer Type Layer Name  Layer Trainable\n",
       "0     <LSTM name=lstm_1, built=True>     lstm_1            False\n",
       "1   <Dense name=dense_2, built=True>    dense_2            False\n",
       "2  <Dense name=dense_4, built=False>    dense_4             True\n",
       "3  <Dense name=dense_5, built=False>    dense_5             True"
      ]
     },
     "execution_count": 58,
     "metadata": {},
     "output_type": "execute_result"
    }
   ],
   "source": [
    "import pandas as pd\n",
    "display_layers = [(layer, layer.name, layer.trainable) for layer in new_model.layers]\n",
    "pd.DataFrame(display_layers, columns=['Layer Type', 'Layer Name', 'Layer Trainable'])"
   ]
  },
  {
   "cell_type": "code",
   "execution_count": 59,
   "id": "0e5bdc92",
   "metadata": {},
   "outputs": [
    {
     "name": "stdout",
     "output_type": "stream",
     "text": [
      "Epoch 1/20\n",
      "\u001b[1m193/193\u001b[0m \u001b[32m━━━━━━━━━━━━━━━━━━━━\u001b[0m\u001b[37m\u001b[0m \u001b[1m1s\u001b[0m 2ms/step - accuracy: 0.3494 - loss: 2.1908 - val_accuracy: 0.5015 - val_loss: 1.5342\n",
      "Epoch 2/20\n",
      "\u001b[1m193/193\u001b[0m \u001b[32m━━━━━━━━━━━━━━━━━━━━\u001b[0m\u001b[37m\u001b[0m \u001b[1m0s\u001b[0m 1ms/step - accuracy: 0.5279 - loss: 1.4919 - val_accuracy: 0.5468 - val_loss: 1.4293\n",
      "Epoch 3/20\n",
      "\u001b[1m193/193\u001b[0m \u001b[32m━━━━━━━━━━━━━━━━━━━━\u001b[0m\u001b[37m\u001b[0m \u001b[1m0s\u001b[0m 1ms/step - accuracy: 0.5883 - loss: 1.3317 - val_accuracy: 0.5921 - val_loss: 1.3329\n",
      "Epoch 4/20\n",
      "\u001b[1m193/193\u001b[0m \u001b[32m━━━━━━━━━━━━━━━━━━━━\u001b[0m\u001b[37m\u001b[0m \u001b[1m0s\u001b[0m 1ms/step - accuracy: 0.6002 - loss: 1.2584 - val_accuracy: 0.5892 - val_loss: 1.2791\n",
      "Epoch 5/20\n",
      "\u001b[1m193/193\u001b[0m \u001b[32m━━━━━━━━━━━━━━━━━━━━\u001b[0m\u001b[37m\u001b[0m \u001b[1m0s\u001b[0m 1ms/step - accuracy: 0.6262 - loss: 1.1876 - val_accuracy: 0.5994 - val_loss: 1.2864\n",
      "Epoch 6/20\n",
      "\u001b[1m193/193\u001b[0m \u001b[32m━━━━━━━━━━━━━━━━━━━━\u001b[0m\u001b[37m\u001b[0m \u001b[1m0s\u001b[0m 1ms/step - accuracy: 0.6363 - loss: 1.1488 - val_accuracy: 0.6023 - val_loss: 1.2490\n",
      "Epoch 7/20\n",
      "\u001b[1m193/193\u001b[0m \u001b[32m━━━━━━━━━━━━━━━━━━━━\u001b[0m\u001b[37m\u001b[0m \u001b[1m0s\u001b[0m 1ms/step - accuracy: 0.6491 - loss: 1.0889 - val_accuracy: 0.6155 - val_loss: 1.2296\n",
      "Epoch 8/20\n",
      "\u001b[1m193/193\u001b[0m \u001b[32m━━━━━━━━━━━━━━━━━━━━\u001b[0m\u001b[37m\u001b[0m \u001b[1m0s\u001b[0m 1ms/step - accuracy: 0.6793 - loss: 1.0306 - val_accuracy: 0.5965 - val_loss: 1.2405\n",
      "Epoch 9/20\n",
      "\u001b[1m193/193\u001b[0m \u001b[32m━━━━━━━━━━━━━━━━━━━━\u001b[0m\u001b[37m\u001b[0m \u001b[1m0s\u001b[0m 1ms/step - accuracy: 0.6738 - loss: 1.0098 - val_accuracy: 0.6067 - val_loss: 1.2056\n",
      "Epoch 10/20\n",
      "\u001b[1m193/193\u001b[0m \u001b[32m━━━━━━━━━━━━━━━━━━━━\u001b[0m\u001b[37m\u001b[0m \u001b[1m0s\u001b[0m 1ms/step - accuracy: 0.6919 - loss: 0.9697 - val_accuracy: 0.6316 - val_loss: 1.2022\n",
      "Epoch 11/20\n",
      "\u001b[1m193/193\u001b[0m \u001b[32m━━━━━━━━━━━━━━━━━━━━\u001b[0m\u001b[37m\u001b[0m \u001b[1m0s\u001b[0m 1ms/step - accuracy: 0.6998 - loss: 0.9389 - val_accuracy: 0.6272 - val_loss: 1.1843\n",
      "Epoch 12/20\n",
      "\u001b[1m193/193\u001b[0m \u001b[32m━━━━━━━━━━━━━━━━━━━━\u001b[0m\u001b[37m\u001b[0m \u001b[1m0s\u001b[0m 1ms/step - accuracy: 0.7150 - loss: 0.8947 - val_accuracy: 0.6082 - val_loss: 1.2252\n",
      "Epoch 13/20\n",
      "\u001b[1m193/193\u001b[0m \u001b[32m━━━━━━━━━━━━━━━━━━━━\u001b[0m\u001b[37m\u001b[0m \u001b[1m0s\u001b[0m 1ms/step - accuracy: 0.7220 - loss: 0.8952 - val_accuracy: 0.6360 - val_loss: 1.2011\n",
      "Epoch 14/20\n",
      "\u001b[1m193/193\u001b[0m \u001b[32m━━━━━━━━━━━━━━━━━━━━\u001b[0m\u001b[37m\u001b[0m \u001b[1m0s\u001b[0m 1ms/step - accuracy: 0.7246 - loss: 0.8990 - val_accuracy: 0.6389 - val_loss: 1.1847\n",
      "Epoch 15/20\n",
      "\u001b[1m193/193\u001b[0m \u001b[32m━━━━━━━━━━━━━━━━━━━━\u001b[0m\u001b[37m\u001b[0m \u001b[1m0s\u001b[0m 1ms/step - accuracy: 0.7295 - loss: 0.8324 - val_accuracy: 0.6594 - val_loss: 1.1534\n",
      "Epoch 16/20\n",
      "\u001b[1m193/193\u001b[0m \u001b[32m━━━━━━━━━━━━━━━━━━━━\u001b[0m\u001b[37m\u001b[0m \u001b[1m0s\u001b[0m 1ms/step - accuracy: 0.7444 - loss: 0.8021 - val_accuracy: 0.6316 - val_loss: 1.2095\n",
      "Epoch 17/20\n",
      "\u001b[1m193/193\u001b[0m \u001b[32m━━━━━━━━━━━━━━━━━━━━\u001b[0m\u001b[37m\u001b[0m \u001b[1m0s\u001b[0m 1ms/step - accuracy: 0.7383 - loss: 0.8084 - val_accuracy: 0.6360 - val_loss: 1.2117\n",
      "Epoch 18/20\n",
      "\u001b[1m193/193\u001b[0m \u001b[32m━━━━━━━━━━━━━━━━━━━━\u001b[0m\u001b[37m\u001b[0m \u001b[1m0s\u001b[0m 1ms/step - accuracy: 0.7461 - loss: 0.7827 - val_accuracy: 0.6477 - val_loss: 1.1748\n",
      "Epoch 19/20\n",
      "\u001b[1m193/193\u001b[0m \u001b[32m━━━━━━━━━━━━━━━━━━━━\u001b[0m\u001b[37m\u001b[0m \u001b[1m0s\u001b[0m 1ms/step - accuracy: 0.7602 - loss: 0.7378 - val_accuracy: 0.6301 - val_loss: 1.2035\n",
      "Epoch 20/20\n",
      "\u001b[1m193/193\u001b[0m \u001b[32m━━━━━━━━━━━━━━━━━━━━\u001b[0m\u001b[37m\u001b[0m \u001b[1m0s\u001b[0m 1ms/step - accuracy: 0.7616 - loss: 0.7344 - val_accuracy: 0.6550 - val_loss: 1.2044\n"
     ]
    },
    {
     "data": {
      "text/html": [
       "<pre style=\"white-space:pre;overflow-x:auto;line-height:normal;font-family:Menlo,'DejaVu Sans Mono',consolas,'Courier New',monospace\"><span style=\"font-weight: bold\">Model: \"sequential_2\"</span>\n",
       "</pre>\n"
      ],
      "text/plain": [
       "\u001b[1mModel: \"sequential_2\"\u001b[0m\n"
      ]
     },
     "metadata": {},
     "output_type": "display_data"
    },
    {
     "data": {
      "text/html": [
       "<pre style=\"white-space:pre;overflow-x:auto;line-height:normal;font-family:Menlo,'DejaVu Sans Mono',consolas,'Courier New',monospace\">┏━━━━━━━━━━━━━━━━━━━━━━━━━━━━━━━━━┳━━━━━━━━━━━━━━━━━━━━━━━━┳━━━━━━━━━━━━━━━┓\n",
       "┃<span style=\"font-weight: bold\"> Layer (type)                    </span>┃<span style=\"font-weight: bold\"> Output Shape           </span>┃<span style=\"font-weight: bold\">       Param # </span>┃\n",
       "┡━━━━━━━━━━━━━━━━━━━━━━━━━━━━━━━━━╇━━━━━━━━━━━━━━━━━━━━━━━━╇━━━━━━━━━━━━━━━┩\n",
       "│ lstm_1 (<span style=\"color: #0087ff; text-decoration-color: #0087ff\">LSTM</span>)                   │ (<span style=\"color: #00d7ff; text-decoration-color: #00d7ff\">None</span>, <span style=\"color: #00af00; text-decoration-color: #00af00\">128</span>)            │        <span style=\"color: #00af00; text-decoration-color: #00af00\">93,696</span> │\n",
       "├─────────────────────────────────┼────────────────────────┼───────────────┤\n",
       "│ dense_2 (<span style=\"color: #0087ff; text-decoration-color: #0087ff\">Dense</span>)                 │ (<span style=\"color: #00d7ff; text-decoration-color: #00d7ff\">None</span>, <span style=\"color: #00af00; text-decoration-color: #00af00\">128</span>)            │        <span style=\"color: #00af00; text-decoration-color: #00af00\">16,512</span> │\n",
       "├─────────────────────────────────┼────────────────────────┼───────────────┤\n",
       "│ dense_4 (<span style=\"color: #0087ff; text-decoration-color: #0087ff\">Dense</span>)                 │ (<span style=\"color: #00d7ff; text-decoration-color: #00d7ff\">None</span>, <span style=\"color: #00af00; text-decoration-color: #00af00\">256</span>)            │        <span style=\"color: #00af00; text-decoration-color: #00af00\">33,024</span> │\n",
       "├─────────────────────────────────┼────────────────────────┼───────────────┤\n",
       "│ dense_5 (<span style=\"color: #0087ff; text-decoration-color: #0087ff\">Dense</span>)                 │ (<span style=\"color: #00d7ff; text-decoration-color: #00d7ff\">None</span>, <span style=\"color: #00af00; text-decoration-color: #00af00\">19</span>)             │         <span style=\"color: #00af00; text-decoration-color: #00af00\">4,883</span> │\n",
       "└─────────────────────────────────┴────────────────────────┴───────────────┘\n",
       "</pre>\n"
      ],
      "text/plain": [
       "┏━━━━━━━━━━━━━━━━━━━━━━━━━━━━━━━━━┳━━━━━━━━━━━━━━━━━━━━━━━━┳━━━━━━━━━━━━━━━┓\n",
       "┃\u001b[1m \u001b[0m\u001b[1mLayer (type)                   \u001b[0m\u001b[1m \u001b[0m┃\u001b[1m \u001b[0m\u001b[1mOutput Shape          \u001b[0m\u001b[1m \u001b[0m┃\u001b[1m \u001b[0m\u001b[1m      Param #\u001b[0m\u001b[1m \u001b[0m┃\n",
       "┡━━━━━━━━━━━━━━━━━━━━━━━━━━━━━━━━━╇━━━━━━━━━━━━━━━━━━━━━━━━╇━━━━━━━━━━━━━━━┩\n",
       "│ lstm_1 (\u001b[38;5;33mLSTM\u001b[0m)                   │ (\u001b[38;5;45mNone\u001b[0m, \u001b[38;5;34m128\u001b[0m)            │        \u001b[38;5;34m93,696\u001b[0m │\n",
       "├─────────────────────────────────┼────────────────────────┼───────────────┤\n",
       "│ dense_2 (\u001b[38;5;33mDense\u001b[0m)                 │ (\u001b[38;5;45mNone\u001b[0m, \u001b[38;5;34m128\u001b[0m)            │        \u001b[38;5;34m16,512\u001b[0m │\n",
       "├─────────────────────────────────┼────────────────────────┼───────────────┤\n",
       "│ dense_4 (\u001b[38;5;33mDense\u001b[0m)                 │ (\u001b[38;5;45mNone\u001b[0m, \u001b[38;5;34m256\u001b[0m)            │        \u001b[38;5;34m33,024\u001b[0m │\n",
       "├─────────────────────────────────┼────────────────────────┼───────────────┤\n",
       "│ dense_5 (\u001b[38;5;33mDense\u001b[0m)                 │ (\u001b[38;5;45mNone\u001b[0m, \u001b[38;5;34m19\u001b[0m)             │         \u001b[38;5;34m4,883\u001b[0m │\n",
       "└─────────────────────────────────┴────────────────────────┴───────────────┘\n"
      ]
     },
     "metadata": {},
     "output_type": "display_data"
    },
    {
     "data": {
      "text/html": [
       "<pre style=\"white-space:pre;overflow-x:auto;line-height:normal;font-family:Menlo,'DejaVu Sans Mono',consolas,'Courier New',monospace\"><span style=\"font-weight: bold\"> Total params: </span><span style=\"color: #00af00; text-decoration-color: #00af00\">223,931</span> (874.73 KB)\n",
       "</pre>\n"
      ],
      "text/plain": [
       "\u001b[1m Total params: \u001b[0m\u001b[38;5;34m223,931\u001b[0m (874.73 KB)\n"
      ]
     },
     "metadata": {},
     "output_type": "display_data"
    },
    {
     "data": {
      "text/html": [
       "<pre style=\"white-space:pre;overflow-x:auto;line-height:normal;font-family:Menlo,'DejaVu Sans Mono',consolas,'Courier New',monospace\"><span style=\"font-weight: bold\"> Trainable params: </span><span style=\"color: #00af00; text-decoration-color: #00af00\">37,907</span> (148.07 KB)\n",
       "</pre>\n"
      ],
      "text/plain": [
       "\u001b[1m Trainable params: \u001b[0m\u001b[38;5;34m37,907\u001b[0m (148.07 KB)\n"
      ]
     },
     "metadata": {},
     "output_type": "display_data"
    },
    {
     "data": {
      "text/html": [
       "<pre style=\"white-space:pre;overflow-x:auto;line-height:normal;font-family:Menlo,'DejaVu Sans Mono',consolas,'Courier New',monospace\"><span style=\"font-weight: bold\"> Non-trainable params: </span><span style=\"color: #00af00; text-decoration-color: #00af00\">110,208</span> (430.50 KB)\n",
       "</pre>\n"
      ],
      "text/plain": [
       "\u001b[1m Non-trainable params: \u001b[0m\u001b[38;5;34m110,208\u001b[0m (430.50 KB)\n"
      ]
     },
     "metadata": {},
     "output_type": "display_data"
    },
    {
     "data": {
      "text/html": [
       "<pre style=\"white-space:pre;overflow-x:auto;line-height:normal;font-family:Menlo,'DejaVu Sans Mono',consolas,'Courier New',monospace\"><span style=\"font-weight: bold\"> Optimizer params: </span><span style=\"color: #00af00; text-decoration-color: #00af00\">75,816</span> (296.16 KB)\n",
       "</pre>\n"
      ],
      "text/plain": [
       "\u001b[1m Optimizer params: \u001b[0m\u001b[38;5;34m75,816\u001b[0m (296.16 KB)\n"
      ]
     },
     "metadata": {},
     "output_type": "display_data"
    }
   ],
   "source": [
    "history3 = new_model.fit(X_train_seq_RA, y_train_seq_RA, epochs = 20, batch_size = 32, validation_split = 0.1, shuffle = True)\n",
    "\n",
    "new_model.summary()"
   ]
  },
  {
   "cell_type": "code",
   "execution_count": 60,
   "id": "bffd4c41",
   "metadata": {},
   "outputs": [
    {
     "name": "stdout",
     "output_type": "stream",
     "text": [
      "\u001b[1m72/72\u001b[0m \u001b[32m━━━━━━━━━━━━━━━━━━━━\u001b[0m\u001b[37m\u001b[0m \u001b[1m0s\u001b[0m 731us/step - accuracy: 0.6258 - loss: 1.2139\n"
     ]
    },
    {
     "data": {
      "text/plain": [
       "[1.2303334474563599, 0.6229148507118225]"
      ]
     },
     "execution_count": 60,
     "metadata": {},
     "output_type": "execute_result"
    }
   ],
   "source": [
    "new_model.evaluate(X_test_seq_RA, y_test_seq_RA)"
   ]
  },
  {
   "cell_type": "markdown",
   "id": "0ed622f0",
   "metadata": {},
   "source": [
    "# 미세조정(fine-tuning)\n",
    "# 전이학습 이후, 특정 층 또는 전체 모델의 가중치를 일부 또는 전체를 다시 학습시키는 과정입니다."
   ]
  },
  {
   "cell_type": "code",
   "execution_count": 61,
   "id": "3ee0dc82",
   "metadata": {},
   "outputs": [],
   "source": [
    "base_model.trainable = True\n",
    "new_model.compile(optimizer='adam', metrics=['accuracy'], loss='categorical_crossentropy')"
   ]
  },
  {
   "cell_type": "markdown",
   "id": "4a60f747",
   "metadata": {},
   "source": [
    "# ↑↑↑↑↑↑\n",
    "일반적으로 전이학습으로 처음에 모델을 미리 훈련한 다음, base_model.trainable = True와 같이 모델의 일부 층을 다시 학습 가능한 상태로 만들어 미세조정합니다."
   ]
  },
  {
   "cell_type": "code",
   "execution_count": 62,
   "id": "c72eca1a",
   "metadata": {},
   "outputs": [
    {
     "data": {
      "text/html": [
       "<div>\n",
       "<style scoped>\n",
       "    .dataframe tbody tr th:only-of-type {\n",
       "        vertical-align: middle;\n",
       "    }\n",
       "\n",
       "    .dataframe tbody tr th {\n",
       "        vertical-align: top;\n",
       "    }\n",
       "\n",
       "    .dataframe thead th {\n",
       "        text-align: right;\n",
       "    }\n",
       "</style>\n",
       "<table border=\"1\" class=\"dataframe\">\n",
       "  <thead>\n",
       "    <tr style=\"text-align: right;\">\n",
       "      <th></th>\n",
       "      <th>Layer Type</th>\n",
       "      <th>Layer Name</th>\n",
       "      <th>Layer Trainable</th>\n",
       "    </tr>\n",
       "  </thead>\n",
       "  <tbody>\n",
       "    <tr>\n",
       "      <th>0</th>\n",
       "      <td>&lt;LSTM name=lstm_1, built=True&gt;</td>\n",
       "      <td>lstm_1</td>\n",
       "      <td>True</td>\n",
       "    </tr>\n",
       "    <tr>\n",
       "      <th>1</th>\n",
       "      <td>&lt;Dense name=dense_2, built=True&gt;</td>\n",
       "      <td>dense_2</td>\n",
       "      <td>True</td>\n",
       "    </tr>\n",
       "    <tr>\n",
       "      <th>2</th>\n",
       "      <td>&lt;Dense name=dense_4, built=True&gt;</td>\n",
       "      <td>dense_4</td>\n",
       "      <td>True</td>\n",
       "    </tr>\n",
       "    <tr>\n",
       "      <th>3</th>\n",
       "      <td>&lt;Dense name=dense_5, built=True&gt;</td>\n",
       "      <td>dense_5</td>\n",
       "      <td>True</td>\n",
       "    </tr>\n",
       "  </tbody>\n",
       "</table>\n",
       "</div>"
      ],
      "text/plain": [
       "                         Layer Type Layer Name  Layer Trainable\n",
       "0    <LSTM name=lstm_1, built=True>     lstm_1             True\n",
       "1  <Dense name=dense_2, built=True>    dense_2             True\n",
       "2  <Dense name=dense_4, built=True>    dense_4             True\n",
       "3  <Dense name=dense_5, built=True>    dense_5             True"
      ]
     },
     "execution_count": 62,
     "metadata": {},
     "output_type": "execute_result"
    }
   ],
   "source": [
    "import pandas as pd\n",
    "display_layers = [(layer, layer.name, layer.trainable) for layer in new_model.layers]\n",
    "pd.DataFrame(display_layers, columns=['Layer Type', 'Layer Name', 'Layer Trainable'])"
   ]
  },
  {
   "cell_type": "code",
   "execution_count": 63,
   "id": "2b74b348",
   "metadata": {},
   "outputs": [
    {
     "name": "stdout",
     "output_type": "stream",
     "text": [
      "Epoch 1/20\n",
      "\u001b[1m193/193\u001b[0m \u001b[32m━━━━━━━━━━━━━━━━━━━━\u001b[0m\u001b[37m\u001b[0m \u001b[1m1s\u001b[0m 3ms/step - accuracy: 0.7523 - loss: 0.7815 - val_accuracy: 0.7354 - val_loss: 0.8654\n",
      "Epoch 2/20\n",
      "\u001b[1m193/193\u001b[0m \u001b[32m━━━━━━━━━━━━━━━━━━━━\u001b[0m\u001b[37m\u001b[0m \u001b[1m1s\u001b[0m 3ms/step - accuracy: 0.8597 - loss: 0.4769 - val_accuracy: 0.7573 - val_loss: 0.8009\n",
      "Epoch 3/20\n",
      "\u001b[1m193/193\u001b[0m \u001b[32m━━━━━━━━━━━━━━━━━━━━\u001b[0m\u001b[37m\u001b[0m \u001b[1m0s\u001b[0m 2ms/step - accuracy: 0.8848 - loss: 0.3714 - val_accuracy: 0.7588 - val_loss: 0.8178\n",
      "Epoch 4/20\n",
      "\u001b[1m193/193\u001b[0m \u001b[32m━━━━━━━━━━━━━━━━━━━━\u001b[0m\u001b[37m\u001b[0m \u001b[1m0s\u001b[0m 2ms/step - accuracy: 0.9155 - loss: 0.2785 - val_accuracy: 0.8056 - val_loss: 0.7219\n",
      "Epoch 5/20\n",
      "\u001b[1m193/193\u001b[0m \u001b[32m━━━━━━━━━━━━━━━━━━━━\u001b[0m\u001b[37m\u001b[0m \u001b[1m0s\u001b[0m 2ms/step - accuracy: 0.9282 - loss: 0.2306 - val_accuracy: 0.8158 - val_loss: 0.7762\n",
      "Epoch 6/20\n",
      "\u001b[1m193/193\u001b[0m \u001b[32m━━━━━━━━━━━━━━━━━━━━\u001b[0m\u001b[37m\u001b[0m \u001b[1m0s\u001b[0m 2ms/step - accuracy: 0.9428 - loss: 0.1928 - val_accuracy: 0.8158 - val_loss: 0.7390\n",
      "Epoch 7/20\n",
      "\u001b[1m193/193\u001b[0m \u001b[32m━━━━━━━━━━━━━━━━━━━━\u001b[0m\u001b[37m\u001b[0m \u001b[1m0s\u001b[0m 2ms/step - accuracy: 0.9589 - loss: 0.1431 - val_accuracy: 0.8114 - val_loss: 0.7305\n",
      "Epoch 8/20\n",
      "\u001b[1m193/193\u001b[0m \u001b[32m━━━━━━━━━━━━━━━━━━━━\u001b[0m\u001b[37m\u001b[0m \u001b[1m0s\u001b[0m 2ms/step - accuracy: 0.9727 - loss: 0.1028 - val_accuracy: 0.8202 - val_loss: 0.7473\n",
      "Epoch 9/20\n",
      "\u001b[1m193/193\u001b[0m \u001b[32m━━━━━━━━━━━━━━━━━━━━\u001b[0m\u001b[37m\u001b[0m \u001b[1m1s\u001b[0m 3ms/step - accuracy: 0.9747 - loss: 0.0940 - val_accuracy: 0.7851 - val_loss: 0.8317\n",
      "Epoch 10/20\n",
      "\u001b[1m193/193\u001b[0m \u001b[32m━━━━━━━━━━━━━━━━━━━━\u001b[0m\u001b[37m\u001b[0m \u001b[1m0s\u001b[0m 2ms/step - accuracy: 0.9778 - loss: 0.0761 - val_accuracy: 0.7982 - val_loss: 0.8300\n",
      "Epoch 11/20\n",
      "\u001b[1m193/193\u001b[0m \u001b[32m━━━━━━━━━━━━━━━━━━━━\u001b[0m\u001b[37m\u001b[0m \u001b[1m0s\u001b[0m 2ms/step - accuracy: 0.9849 - loss: 0.0638 - val_accuracy: 0.8319 - val_loss: 0.7699\n",
      "Epoch 12/20\n",
      "\u001b[1m193/193\u001b[0m \u001b[32m━━━━━━━━━━━━━━━━━━━━\u001b[0m\u001b[37m\u001b[0m \u001b[1m0s\u001b[0m 2ms/step - accuracy: 0.9821 - loss: 0.0649 - val_accuracy: 0.7909 - val_loss: 0.9456\n",
      "Epoch 13/20\n",
      "\u001b[1m193/193\u001b[0m \u001b[32m━━━━━━━━━━━━━━━━━━━━\u001b[0m\u001b[37m\u001b[0m \u001b[1m0s\u001b[0m 2ms/step - accuracy: 0.9815 - loss: 0.0601 - val_accuracy: 0.8041 - val_loss: 0.9674\n",
      "Epoch 14/20\n",
      "\u001b[1m193/193\u001b[0m \u001b[32m━━━━━━━━━━━━━━━━━━━━\u001b[0m\u001b[37m\u001b[0m \u001b[1m0s\u001b[0m 2ms/step - accuracy: 0.9672 - loss: 0.0927 - val_accuracy: 0.8187 - val_loss: 0.9416\n",
      "Epoch 15/20\n",
      "\u001b[1m193/193\u001b[0m \u001b[32m━━━━━━━━━━━━━━━━━━━━\u001b[0m\u001b[37m\u001b[0m \u001b[1m0s\u001b[0m 2ms/step - accuracy: 0.9877 - loss: 0.0427 - val_accuracy: 0.8348 - val_loss: 0.9043\n",
      "Epoch 16/20\n",
      "\u001b[1m193/193\u001b[0m \u001b[32m━━━━━━━━━━━━━━━━━━━━\u001b[0m\u001b[37m\u001b[0m \u001b[1m0s\u001b[0m 3ms/step - accuracy: 0.9909 - loss: 0.0376 - val_accuracy: 0.8348 - val_loss: 0.9089\n",
      "Epoch 17/20\n",
      "\u001b[1m193/193\u001b[0m \u001b[32m━━━━━━━━━━━━━━━━━━━━\u001b[0m\u001b[37m\u001b[0m \u001b[1m0s\u001b[0m 2ms/step - accuracy: 0.9836 - loss: 0.0520 - val_accuracy: 0.7836 - val_loss: 1.1912\n",
      "Epoch 18/20\n",
      "\u001b[1m193/193\u001b[0m \u001b[32m━━━━━━━━━━━━━━━━━━━━\u001b[0m\u001b[37m\u001b[0m \u001b[1m0s\u001b[0m 3ms/step - accuracy: 0.9688 - loss: 0.0890 - val_accuracy: 0.8333 - val_loss: 0.9008\n",
      "Epoch 19/20\n",
      "\u001b[1m193/193\u001b[0m \u001b[32m━━━━━━━━━━━━━━━━━━━━\u001b[0m\u001b[37m\u001b[0m \u001b[1m0s\u001b[0m 2ms/step - accuracy: 0.9877 - loss: 0.0426 - val_accuracy: 0.8289 - val_loss: 0.9384\n",
      "Epoch 20/20\n",
      "\u001b[1m193/193\u001b[0m \u001b[32m━━━━━━━━━━━━━━━━━━━━\u001b[0m\u001b[37m\u001b[0m \u001b[1m0s\u001b[0m 2ms/step - accuracy: 0.9914 - loss: 0.0310 - val_accuracy: 0.8216 - val_loss: 0.9820\n"
     ]
    },
    {
     "data": {
      "text/html": [
       "<pre style=\"white-space:pre;overflow-x:auto;line-height:normal;font-family:Menlo,'DejaVu Sans Mono',consolas,'Courier New',monospace\"><span style=\"font-weight: bold\">Model: \"sequential_2\"</span>\n",
       "</pre>\n"
      ],
      "text/plain": [
       "\u001b[1mModel: \"sequential_2\"\u001b[0m\n"
      ]
     },
     "metadata": {},
     "output_type": "display_data"
    },
    {
     "data": {
      "text/html": [
       "<pre style=\"white-space:pre;overflow-x:auto;line-height:normal;font-family:Menlo,'DejaVu Sans Mono',consolas,'Courier New',monospace\">┏━━━━━━━━━━━━━━━━━━━━━━━━━━━━━━━━━┳━━━━━━━━━━━━━━━━━━━━━━━━┳━━━━━━━━━━━━━━━┓\n",
       "┃<span style=\"font-weight: bold\"> Layer (type)                    </span>┃<span style=\"font-weight: bold\"> Output Shape           </span>┃<span style=\"font-weight: bold\">       Param # </span>┃\n",
       "┡━━━━━━━━━━━━━━━━━━━━━━━━━━━━━━━━━╇━━━━━━━━━━━━━━━━━━━━━━━━╇━━━━━━━━━━━━━━━┩\n",
       "│ lstm_1 (<span style=\"color: #0087ff; text-decoration-color: #0087ff\">LSTM</span>)                   │ (<span style=\"color: #00d7ff; text-decoration-color: #00d7ff\">None</span>, <span style=\"color: #00af00; text-decoration-color: #00af00\">128</span>)            │        <span style=\"color: #00af00; text-decoration-color: #00af00\">93,696</span> │\n",
       "├─────────────────────────────────┼────────────────────────┼───────────────┤\n",
       "│ dense_2 (<span style=\"color: #0087ff; text-decoration-color: #0087ff\">Dense</span>)                 │ (<span style=\"color: #00d7ff; text-decoration-color: #00d7ff\">None</span>, <span style=\"color: #00af00; text-decoration-color: #00af00\">128</span>)            │        <span style=\"color: #00af00; text-decoration-color: #00af00\">16,512</span> │\n",
       "├─────────────────────────────────┼────────────────────────┼───────────────┤\n",
       "│ dense_4 (<span style=\"color: #0087ff; text-decoration-color: #0087ff\">Dense</span>)                 │ (<span style=\"color: #00d7ff; text-decoration-color: #00d7ff\">None</span>, <span style=\"color: #00af00; text-decoration-color: #00af00\">256</span>)            │        <span style=\"color: #00af00; text-decoration-color: #00af00\">33,024</span> │\n",
       "├─────────────────────────────────┼────────────────────────┼───────────────┤\n",
       "│ dense_5 (<span style=\"color: #0087ff; text-decoration-color: #0087ff\">Dense</span>)                 │ (<span style=\"color: #00d7ff; text-decoration-color: #00d7ff\">None</span>, <span style=\"color: #00af00; text-decoration-color: #00af00\">19</span>)             │         <span style=\"color: #00af00; text-decoration-color: #00af00\">4,883</span> │\n",
       "└─────────────────────────────────┴────────────────────────┴───────────────┘\n",
       "</pre>\n"
      ],
      "text/plain": [
       "┏━━━━━━━━━━━━━━━━━━━━━━━━━━━━━━━━━┳━━━━━━━━━━━━━━━━━━━━━━━━┳━━━━━━━━━━━━━━━┓\n",
       "┃\u001b[1m \u001b[0m\u001b[1mLayer (type)                   \u001b[0m\u001b[1m \u001b[0m┃\u001b[1m \u001b[0m\u001b[1mOutput Shape          \u001b[0m\u001b[1m \u001b[0m┃\u001b[1m \u001b[0m\u001b[1m      Param #\u001b[0m\u001b[1m \u001b[0m┃\n",
       "┡━━━━━━━━━━━━━━━━━━━━━━━━━━━━━━━━━╇━━━━━━━━━━━━━━━━━━━━━━━━╇━━━━━━━━━━━━━━━┩\n",
       "│ lstm_1 (\u001b[38;5;33mLSTM\u001b[0m)                   │ (\u001b[38;5;45mNone\u001b[0m, \u001b[38;5;34m128\u001b[0m)            │        \u001b[38;5;34m93,696\u001b[0m │\n",
       "├─────────────────────────────────┼────────────────────────┼───────────────┤\n",
       "│ dense_2 (\u001b[38;5;33mDense\u001b[0m)                 │ (\u001b[38;5;45mNone\u001b[0m, \u001b[38;5;34m128\u001b[0m)            │        \u001b[38;5;34m16,512\u001b[0m │\n",
       "├─────────────────────────────────┼────────────────────────┼───────────────┤\n",
       "│ dense_4 (\u001b[38;5;33mDense\u001b[0m)                 │ (\u001b[38;5;45mNone\u001b[0m, \u001b[38;5;34m256\u001b[0m)            │        \u001b[38;5;34m33,024\u001b[0m │\n",
       "├─────────────────────────────────┼────────────────────────┼───────────────┤\n",
       "│ dense_5 (\u001b[38;5;33mDense\u001b[0m)                 │ (\u001b[38;5;45mNone\u001b[0m, \u001b[38;5;34m19\u001b[0m)             │         \u001b[38;5;34m4,883\u001b[0m │\n",
       "└─────────────────────────────────┴────────────────────────┴───────────────┘\n"
      ]
     },
     "metadata": {},
     "output_type": "display_data"
    },
    {
     "data": {
      "text/html": [
       "<pre style=\"white-space:pre;overflow-x:auto;line-height:normal;font-family:Menlo,'DejaVu Sans Mono',consolas,'Courier New',monospace\"><span style=\"font-weight: bold\"> Total params: </span><span style=\"color: #00af00; text-decoration-color: #00af00\">444,347</span> (1.70 MB)\n",
       "</pre>\n"
      ],
      "text/plain": [
       "\u001b[1m Total params: \u001b[0m\u001b[38;5;34m444,347\u001b[0m (1.70 MB)\n"
      ]
     },
     "metadata": {},
     "output_type": "display_data"
    },
    {
     "data": {
      "text/html": [
       "<pre style=\"white-space:pre;overflow-x:auto;line-height:normal;font-family:Menlo,'DejaVu Sans Mono',consolas,'Courier New',monospace\"><span style=\"font-weight: bold\"> Trainable params: </span><span style=\"color: #00af00; text-decoration-color: #00af00\">148,115</span> (578.57 KB)\n",
       "</pre>\n"
      ],
      "text/plain": [
       "\u001b[1m Trainable params: \u001b[0m\u001b[38;5;34m148,115\u001b[0m (578.57 KB)\n"
      ]
     },
     "metadata": {},
     "output_type": "display_data"
    },
    {
     "data": {
      "text/html": [
       "<pre style=\"white-space:pre;overflow-x:auto;line-height:normal;font-family:Menlo,'DejaVu Sans Mono',consolas,'Courier New',monospace\"><span style=\"font-weight: bold\"> Non-trainable params: </span><span style=\"color: #00af00; text-decoration-color: #00af00\">0</span> (0.00 B)\n",
       "</pre>\n"
      ],
      "text/plain": [
       "\u001b[1m Non-trainable params: \u001b[0m\u001b[38;5;34m0\u001b[0m (0.00 B)\n"
      ]
     },
     "metadata": {},
     "output_type": "display_data"
    },
    {
     "data": {
      "text/html": [
       "<pre style=\"white-space:pre;overflow-x:auto;line-height:normal;font-family:Menlo,'DejaVu Sans Mono',consolas,'Courier New',monospace\"><span style=\"font-weight: bold\"> Optimizer params: </span><span style=\"color: #00af00; text-decoration-color: #00af00\">296,232</span> (1.13 MB)\n",
       "</pre>\n"
      ],
      "text/plain": [
       "\u001b[1m Optimizer params: \u001b[0m\u001b[38;5;34m296,232\u001b[0m (1.13 MB)\n"
      ]
     },
     "metadata": {},
     "output_type": "display_data"
    }
   ],
   "source": [
    "history3 = new_model.fit(X_train_seq_RA, y_train_seq_RA, epochs = 20, batch_size = 32, validation_split = 0.1, shuffle = True)\n",
    "\n",
    "new_model.summary()"
   ]
  },
  {
   "cell_type": "code",
   "execution_count": 64,
   "id": "dddaeb6f",
   "metadata": {},
   "outputs": [
    {
     "name": "stdout",
     "output_type": "stream",
     "text": [
      "\u001b[1m72/72\u001b[0m \u001b[32m━━━━━━━━━━━━━━━━━━━━\u001b[0m\u001b[37m\u001b[0m \u001b[1m0s\u001b[0m 698us/step - accuracy: 0.8356 - loss: 1.0114\n"
     ]
    },
    {
     "data": {
      "text/plain": [
       "[0.9681646227836609, 0.8362599015235901]"
      ]
     },
     "execution_count": 64,
     "metadata": {},
     "output_type": "execute_result"
    }
   ],
   "source": [
    "new_model.evaluate(X_test_seq_RA, y_test_seq_RA)"
   ]
  },
  {
   "cell_type": "markdown",
   "id": "b97a0fab",
   "metadata": {},
   "source": [
    "# 2. RA를 LA에 맞추기"
   ]
  },
  {
   "cell_type": "code",
   "execution_count": 65,
   "id": "1daf4027",
   "metadata": {},
   "outputs": [
    {
     "name": "stderr",
     "output_type": "stream",
     "text": [
      "WARNING:absl:No training configuration found in the save file, so the model was *not* compiled. Compile it manually.\n"
     ]
    }
   ],
   "source": [
    "# Base 모델을 로드 (LA_Model.h5)\n",
    "from tensorflow.keras.models import load_model\n",
    "\n",
    "base_model = load_model(model_file)"
   ]
  },
  {
   "cell_type": "code",
   "execution_count": 66,
   "id": "009ffdda",
   "metadata": {},
   "outputs": [
    {
     "name": "stdout",
     "output_type": "stream",
     "text": [
      "\u001b[1m72/72\u001b[0m \u001b[32m━━━━━━━━━━━━━━━━━━━━\u001b[0m\u001b[37m\u001b[0m \u001b[1m0s\u001b[0m 703us/step - accuracy: 0.8500 - loss: 0.7309 \n"
     ]
    },
    {
     "data": {
      "text/plain": [
       "[0.6954575181007385, 0.854258120059967]"
      ]
     },
     "execution_count": 66,
     "metadata": {},
     "output_type": "execute_result"
    }
   ],
   "source": [
    "base_model.compile(optimizer='adam', metrics=['accuracy'], loss='categorical_crossentropy')\n",
    "base_model.evaluate(X_test_seq_RA, y_test_seq_RA)"
   ]
  },
  {
   "cell_type": "code",
   "execution_count": 67,
   "id": "fb765547",
   "metadata": {},
   "outputs": [
    {
     "name": "stdout",
     "output_type": "stream",
     "text": [
      "\u001b[1m72/72\u001b[0m \u001b[32m━━━━━━━━━━━━━━━━━━━━\u001b[0m\u001b[37m\u001b[0m \u001b[1m0s\u001b[0m 668us/step - accuracy: 0.2309 - loss: 6.9115\n"
     ]
    },
    {
     "data": {
      "text/plain": [
       "[6.900171279907227, 0.2256365269422531]"
      ]
     },
     "execution_count": 67,
     "metadata": {},
     "output_type": "execute_result"
    }
   ],
   "source": [
    "base_model.evaluate(X_test_seq_LA, y_test_seq_LA)"
   ]
  },
  {
   "cell_type": "code",
   "execution_count": 68,
   "id": "1109c2ff",
   "metadata": {},
   "outputs": [
    {
     "name": "stdout",
     "output_type": "stream",
     "text": [
      "Number of layers in the base model:  3\n"
     ]
    }
   ],
   "source": [
    "print(\"Number of layers in the base model: \", len(base_model.layers))"
   ]
  },
  {
   "cell_type": "code",
   "execution_count": 69,
   "id": "f98dae5a",
   "metadata": {},
   "outputs": [],
   "source": [
    "# 기존 모델의 층을 동결 (학습되지 않도록 설정)\n",
    "base_model.trainable = False"
   ]
  },
  {
   "cell_type": "code",
   "execution_count": 70,
   "id": "ca33ba46",
   "metadata": {},
   "outputs": [
    {
     "data": {
      "text/html": [
       "<pre style=\"white-space:pre;overflow-x:auto;line-height:normal;font-family:Menlo,'DejaVu Sans Mono',consolas,'Courier New',monospace\"><span style=\"font-weight: bold\">Model: \"sequential_3\"</span>\n",
       "</pre>\n"
      ],
      "text/plain": [
       "\u001b[1mModel: \"sequential_3\"\u001b[0m\n"
      ]
     },
     "metadata": {},
     "output_type": "display_data"
    },
    {
     "data": {
      "text/html": [
       "<pre style=\"white-space:pre;overflow-x:auto;line-height:normal;font-family:Menlo,'DejaVu Sans Mono',consolas,'Courier New',monospace\">┏━━━━━━━━━━━━━━━━━━━━━━━━━━━━━━━━━┳━━━━━━━━━━━━━━━━━━━━━━━━┳━━━━━━━━━━━━━━━┓\n",
       "┃<span style=\"font-weight: bold\"> Layer (type)                    </span>┃<span style=\"font-weight: bold\"> Output Shape           </span>┃<span style=\"font-weight: bold\">       Param # </span>┃\n",
       "┡━━━━━━━━━━━━━━━━━━━━━━━━━━━━━━━━━╇━━━━━━━━━━━━━━━━━━━━━━━━╇━━━━━━━━━━━━━━━┩\n",
       "│ lstm (<span style=\"color: #0087ff; text-decoration-color: #0087ff\">LSTM</span>)                     │ (<span style=\"color: #00d7ff; text-decoration-color: #00d7ff\">None</span>, <span style=\"color: #00af00; text-decoration-color: #00af00\">128</span>)            │        <span style=\"color: #00af00; text-decoration-color: #00af00\">93,696</span> │\n",
       "├─────────────────────────────────┼────────────────────────┼───────────────┤\n",
       "│ dense (<span style=\"color: #0087ff; text-decoration-color: #0087ff\">Dense</span>)                   │ (<span style=\"color: #00d7ff; text-decoration-color: #00d7ff\">None</span>, <span style=\"color: #00af00; text-decoration-color: #00af00\">128</span>)            │        <span style=\"color: #00af00; text-decoration-color: #00af00\">16,512</span> │\n",
       "├─────────────────────────────────┼────────────────────────┼───────────────┤\n",
       "│ dense_6 (<span style=\"color: #0087ff; text-decoration-color: #0087ff\">Dense</span>)                 │ ?                      │   <span style=\"color: #00af00; text-decoration-color: #00af00\">0</span> (unbuilt) │\n",
       "├─────────────────────────────────┼────────────────────────┼───────────────┤\n",
       "│ dense_7 (<span style=\"color: #0087ff; text-decoration-color: #0087ff\">Dense</span>)                 │ ?                      │   <span style=\"color: #00af00; text-decoration-color: #00af00\">0</span> (unbuilt) │\n",
       "└─────────────────────────────────┴────────────────────────┴───────────────┘\n",
       "</pre>\n"
      ],
      "text/plain": [
       "┏━━━━━━━━━━━━━━━━━━━━━━━━━━━━━━━━━┳━━━━━━━━━━━━━━━━━━━━━━━━┳━━━━━━━━━━━━━━━┓\n",
       "┃\u001b[1m \u001b[0m\u001b[1mLayer (type)                   \u001b[0m\u001b[1m \u001b[0m┃\u001b[1m \u001b[0m\u001b[1mOutput Shape          \u001b[0m\u001b[1m \u001b[0m┃\u001b[1m \u001b[0m\u001b[1m      Param #\u001b[0m\u001b[1m \u001b[0m┃\n",
       "┡━━━━━━━━━━━━━━━━━━━━━━━━━━━━━━━━━╇━━━━━━━━━━━━━━━━━━━━━━━━╇━━━━━━━━━━━━━━━┩\n",
       "│ lstm (\u001b[38;5;33mLSTM\u001b[0m)                     │ (\u001b[38;5;45mNone\u001b[0m, \u001b[38;5;34m128\u001b[0m)            │        \u001b[38;5;34m93,696\u001b[0m │\n",
       "├─────────────────────────────────┼────────────────────────┼───────────────┤\n",
       "│ dense (\u001b[38;5;33mDense\u001b[0m)                   │ (\u001b[38;5;45mNone\u001b[0m, \u001b[38;5;34m128\u001b[0m)            │        \u001b[38;5;34m16,512\u001b[0m │\n",
       "├─────────────────────────────────┼────────────────────────┼───────────────┤\n",
       "│ dense_6 (\u001b[38;5;33mDense\u001b[0m)                 │ ?                      │   \u001b[38;5;34m0\u001b[0m (unbuilt) │\n",
       "├─────────────────────────────────┼────────────────────────┼───────────────┤\n",
       "│ dense_7 (\u001b[38;5;33mDense\u001b[0m)                 │ ?                      │   \u001b[38;5;34m0\u001b[0m (unbuilt) │\n",
       "└─────────────────────────────────┴────────────────────────┴───────────────┘\n"
      ]
     },
     "metadata": {},
     "output_type": "display_data"
    },
    {
     "data": {
      "text/html": [
       "<pre style=\"white-space:pre;overflow-x:auto;line-height:normal;font-family:Menlo,'DejaVu Sans Mono',consolas,'Courier New',monospace\"><span style=\"font-weight: bold\"> Total params: </span><span style=\"color: #00af00; text-decoration-color: #00af00\">110,208</span> (430.50 KB)\n",
       "</pre>\n"
      ],
      "text/plain": [
       "\u001b[1m Total params: \u001b[0m\u001b[38;5;34m110,208\u001b[0m (430.50 KB)\n"
      ]
     },
     "metadata": {},
     "output_type": "display_data"
    },
    {
     "data": {
      "text/html": [
       "<pre style=\"white-space:pre;overflow-x:auto;line-height:normal;font-family:Menlo,'DejaVu Sans Mono',consolas,'Courier New',monospace\"><span style=\"font-weight: bold\"> Trainable params: </span><span style=\"color: #00af00; text-decoration-color: #00af00\">0</span> (0.00 B)\n",
       "</pre>\n"
      ],
      "text/plain": [
       "\u001b[1m Trainable params: \u001b[0m\u001b[38;5;34m0\u001b[0m (0.00 B)\n"
      ]
     },
     "metadata": {},
     "output_type": "display_data"
    },
    {
     "data": {
      "text/html": [
       "<pre style=\"white-space:pre;overflow-x:auto;line-height:normal;font-family:Menlo,'DejaVu Sans Mono',consolas,'Courier New',monospace\"><span style=\"font-weight: bold\"> Non-trainable params: </span><span style=\"color: #00af00; text-decoration-color: #00af00\">110,208</span> (430.50 KB)\n",
       "</pre>\n"
      ],
      "text/plain": [
       "\u001b[1m Non-trainable params: \u001b[0m\u001b[38;5;34m110,208\u001b[0m (430.50 KB)\n"
      ]
     },
     "metadata": {},
     "output_type": "display_data"
    }
   ],
   "source": [
    "# 기존 모델의 층을 동결 (학습되지 않도록 설정)\n",
    "base_model.trainable = False\n",
    "\n",
    "from tensorflow.keras.applications import VGG16\n",
    "from tensorflow.keras import layers, models\n",
    "\n",
    "def remove_last_layers(model, num_layers_to_remove):\n",
    "    # 모델의 레이어를 하나씩 슬라이스해서 앞의 레이어만 가져옴\n",
    "    model_layers = model.layers[:-num_layers_to_remove]  # 마지막 레이어부터 지정된 갯수만큼 제외\n",
    "    new_model = models.Sequential(model_layers)  # 새로운 모델에 해당 레이어들만 추가\n",
    "    return new_model\n",
    "\n",
    "\n",
    "# 출력층부터 1개의 레이어를 삭제\n",
    "new_model = remove_last_layers(base_model, 1)\n",
    "\n",
    "# 새로운 출력층 추가\n",
    "new_model.add(layers.Dense(256, activation='relu'))\n",
    "new_model.add(layers.Dense(19, activation='softmax'))  # 예: 10개의 클래스\n",
    "new_model.compile(optimizer='adam', metrics=['accuracy'], loss='categorical_crossentropy')\n",
    "\n",
    "# 모델 요약 출력\n",
    "new_model.summary()"
   ]
  },
  {
   "cell_type": "code",
   "execution_count": 71,
   "id": "aeab3cc0",
   "metadata": {},
   "outputs": [
    {
     "data": {
      "text/html": [
       "<div>\n",
       "<style scoped>\n",
       "    .dataframe tbody tr th:only-of-type {\n",
       "        vertical-align: middle;\n",
       "    }\n",
       "\n",
       "    .dataframe tbody tr th {\n",
       "        vertical-align: top;\n",
       "    }\n",
       "\n",
       "    .dataframe thead th {\n",
       "        text-align: right;\n",
       "    }\n",
       "</style>\n",
       "<table border=\"1\" class=\"dataframe\">\n",
       "  <thead>\n",
       "    <tr style=\"text-align: right;\">\n",
       "      <th></th>\n",
       "      <th>Layer Type</th>\n",
       "      <th>Layer Name</th>\n",
       "      <th>Layer Trainable</th>\n",
       "    </tr>\n",
       "  </thead>\n",
       "  <tbody>\n",
       "    <tr>\n",
       "      <th>0</th>\n",
       "      <td>&lt;LSTM name=lstm, built=True&gt;</td>\n",
       "      <td>lstm</td>\n",
       "      <td>False</td>\n",
       "    </tr>\n",
       "    <tr>\n",
       "      <th>1</th>\n",
       "      <td>&lt;Dense name=dense, built=True&gt;</td>\n",
       "      <td>dense</td>\n",
       "      <td>False</td>\n",
       "    </tr>\n",
       "    <tr>\n",
       "      <th>2</th>\n",
       "      <td>&lt;Dense name=dense_6, built=False&gt;</td>\n",
       "      <td>dense_6</td>\n",
       "      <td>True</td>\n",
       "    </tr>\n",
       "    <tr>\n",
       "      <th>3</th>\n",
       "      <td>&lt;Dense name=dense_7, built=False&gt;</td>\n",
       "      <td>dense_7</td>\n",
       "      <td>True</td>\n",
       "    </tr>\n",
       "  </tbody>\n",
       "</table>\n",
       "</div>"
      ],
      "text/plain": [
       "                          Layer Type Layer Name  Layer Trainable\n",
       "0       <LSTM name=lstm, built=True>       lstm            False\n",
       "1     <Dense name=dense, built=True>      dense            False\n",
       "2  <Dense name=dense_6, built=False>    dense_6             True\n",
       "3  <Dense name=dense_7, built=False>    dense_7             True"
      ]
     },
     "execution_count": 71,
     "metadata": {},
     "output_type": "execute_result"
    }
   ],
   "source": [
    "import pandas as pd\n",
    "display_layers = [(layer, layer.name, layer.trainable) for layer in new_model.layers]\n",
    "pd.DataFrame(display_layers, columns=['Layer Type', 'Layer Name', 'Layer Trainable'])"
   ]
  },
  {
   "cell_type": "code",
   "execution_count": 72,
   "id": "f90f6bfb",
   "metadata": {},
   "outputs": [
    {
     "name": "stdout",
     "output_type": "stream",
     "text": [
      "Epoch 1/20\n",
      "\u001b[1m193/193\u001b[0m \u001b[32m━━━━━━━━━━━━━━━━━━━━\u001b[0m\u001b[37m\u001b[0m \u001b[1m1s\u001b[0m 3ms/step - accuracy: 0.7390 - loss: 0.9784 - val_accuracy: 0.8436 - val_loss: 0.6254\n",
      "Epoch 2/20\n",
      "\u001b[1m193/193\u001b[0m \u001b[32m━━━━━━━━━━━━━━━━━━━━\u001b[0m\u001b[37m\u001b[0m \u001b[1m0s\u001b[0m 1ms/step - accuracy: 0.9789 - loss: 0.0931 - val_accuracy: 0.8465 - val_loss: 0.6827\n",
      "Epoch 3/20\n",
      "\u001b[1m193/193\u001b[0m \u001b[32m━━━━━━━━━━━━━━━━━━━━\u001b[0m\u001b[37m\u001b[0m \u001b[1m0s\u001b[0m 1ms/step - accuracy: 0.9925 - loss: 0.0450 - val_accuracy: 0.8567 - val_loss: 0.7307\n",
      "Epoch 4/20\n",
      "\u001b[1m193/193\u001b[0m \u001b[32m━━━━━━━━━━━━━━━━━━━━\u001b[0m\u001b[37m\u001b[0m \u001b[1m0s\u001b[0m 1ms/step - accuracy: 0.9922 - loss: 0.0360 - val_accuracy: 0.8465 - val_loss: 0.8062\n",
      "Epoch 5/20\n",
      "\u001b[1m193/193\u001b[0m \u001b[32m━━━━━━━━━━━━━━━━━━━━\u001b[0m\u001b[37m\u001b[0m \u001b[1m0s\u001b[0m 1ms/step - accuracy: 0.9942 - loss: 0.0278 - val_accuracy: 0.8436 - val_loss: 0.8254\n",
      "Epoch 6/20\n",
      "\u001b[1m193/193\u001b[0m \u001b[32m━━━━━━━━━━━━━━━━━━━━\u001b[0m\u001b[37m\u001b[0m \u001b[1m0s\u001b[0m 1ms/step - accuracy: 0.9976 - loss: 0.0182 - val_accuracy: 0.8436 - val_loss: 0.9135\n",
      "Epoch 7/20\n",
      "\u001b[1m193/193\u001b[0m \u001b[32m━━━━━━━━━━━━━━━━━━━━\u001b[0m\u001b[37m\u001b[0m \u001b[1m0s\u001b[0m 1ms/step - accuracy: 0.9929 - loss: 0.0297 - val_accuracy: 0.8319 - val_loss: 0.8740\n",
      "Epoch 8/20\n",
      "\u001b[1m193/193\u001b[0m \u001b[32m━━━━━━━━━━━━━━━━━━━━\u001b[0m\u001b[37m\u001b[0m \u001b[1m0s\u001b[0m 1ms/step - accuracy: 0.9953 - loss: 0.0181 - val_accuracy: 0.8436 - val_loss: 0.9484\n",
      "Epoch 9/20\n",
      "\u001b[1m193/193\u001b[0m \u001b[32m━━━━━━━━━━━━━━━━━━━━\u001b[0m\u001b[37m\u001b[0m \u001b[1m0s\u001b[0m 1ms/step - accuracy: 0.9973 - loss: 0.0140 - val_accuracy: 0.8436 - val_loss: 0.9730\n",
      "Epoch 10/20\n",
      "\u001b[1m193/193\u001b[0m \u001b[32m━━━━━━━━━━━━━━━━━━━━\u001b[0m\u001b[37m\u001b[0m \u001b[1m0s\u001b[0m 1ms/step - accuracy: 0.9918 - loss: 0.0254 - val_accuracy: 0.8392 - val_loss: 1.0467\n",
      "Epoch 11/20\n",
      "\u001b[1m193/193\u001b[0m \u001b[32m━━━━━━━━━━━━━━━━━━━━\u001b[0m\u001b[37m\u001b[0m \u001b[1m0s\u001b[0m 1ms/step - accuracy: 0.9973 - loss: 0.0113 - val_accuracy: 0.8553 - val_loss: 1.0289\n",
      "Epoch 12/20\n",
      "\u001b[1m193/193\u001b[0m \u001b[32m━━━━━━━━━━━━━━━━━━━━\u001b[0m\u001b[37m\u001b[0m \u001b[1m0s\u001b[0m 1ms/step - accuracy: 0.9979 - loss: 0.0076 - val_accuracy: 0.8436 - val_loss: 1.0913\n",
      "Epoch 13/20\n",
      "\u001b[1m193/193\u001b[0m \u001b[32m━━━━━━━━━━━━━━━━━━━━\u001b[0m\u001b[37m\u001b[0m \u001b[1m0s\u001b[0m 1ms/step - accuracy: 0.9915 - loss: 0.0313 - val_accuracy: 0.8333 - val_loss: 1.1459\n",
      "Epoch 14/20\n",
      "\u001b[1m193/193\u001b[0m \u001b[32m━━━━━━━━━━━━━━━━━━━━\u001b[0m\u001b[37m\u001b[0m \u001b[1m0s\u001b[0m 1ms/step - accuracy: 0.9979 - loss: 0.0095 - val_accuracy: 0.8494 - val_loss: 1.0858\n",
      "Epoch 15/20\n",
      "\u001b[1m193/193\u001b[0m \u001b[32m━━━━━━━━━━━━━━━━━━━━\u001b[0m\u001b[37m\u001b[0m \u001b[1m0s\u001b[0m 1ms/step - accuracy: 0.9993 - loss: 0.0040 - val_accuracy: 0.8406 - val_loss: 1.1691\n",
      "Epoch 16/20\n",
      "\u001b[1m193/193\u001b[0m \u001b[32m━━━━━━━━━━━━━━━━━━━━\u001b[0m\u001b[37m\u001b[0m \u001b[1m0s\u001b[0m 1ms/step - accuracy: 0.9978 - loss: 0.0090 - val_accuracy: 0.8436 - val_loss: 1.1807\n",
      "Epoch 17/20\n",
      "\u001b[1m193/193\u001b[0m \u001b[32m━━━━━━━━━━━━━━━━━━━━\u001b[0m\u001b[37m\u001b[0m \u001b[1m0s\u001b[0m 1ms/step - accuracy: 0.9985 - loss: 0.0078 - val_accuracy: 0.8553 - val_loss: 1.1822\n",
      "Epoch 18/20\n",
      "\u001b[1m193/193\u001b[0m \u001b[32m━━━━━━━━━━━━━━━━━━━━\u001b[0m\u001b[37m\u001b[0m \u001b[1m0s\u001b[0m 1ms/step - accuracy: 0.9989 - loss: 0.0054 - val_accuracy: 0.8494 - val_loss: 1.2130\n",
      "Epoch 19/20\n",
      "\u001b[1m193/193\u001b[0m \u001b[32m━━━━━━━━━━━━━━━━━━━━\u001b[0m\u001b[37m\u001b[0m \u001b[1m0s\u001b[0m 1ms/step - accuracy: 0.9980 - loss: 0.0077 - val_accuracy: 0.8523 - val_loss: 1.2128\n",
      "Epoch 20/20\n",
      "\u001b[1m193/193\u001b[0m \u001b[32m━━━━━━━━━━━━━━━━━━━━\u001b[0m\u001b[37m\u001b[0m \u001b[1m0s\u001b[0m 1ms/step - accuracy: 0.9927 - loss: 0.0207 - val_accuracy: 0.8392 - val_loss: 1.2950\n"
     ]
    },
    {
     "data": {
      "text/html": [
       "<pre style=\"white-space:pre;overflow-x:auto;line-height:normal;font-family:Menlo,'DejaVu Sans Mono',consolas,'Courier New',monospace\"><span style=\"font-weight: bold\">Model: \"sequential_3\"</span>\n",
       "</pre>\n"
      ],
      "text/plain": [
       "\u001b[1mModel: \"sequential_3\"\u001b[0m\n"
      ]
     },
     "metadata": {},
     "output_type": "display_data"
    },
    {
     "data": {
      "text/html": [
       "<pre style=\"white-space:pre;overflow-x:auto;line-height:normal;font-family:Menlo,'DejaVu Sans Mono',consolas,'Courier New',monospace\">┏━━━━━━━━━━━━━━━━━━━━━━━━━━━━━━━━━┳━━━━━━━━━━━━━━━━━━━━━━━━┳━━━━━━━━━━━━━━━┓\n",
       "┃<span style=\"font-weight: bold\"> Layer (type)                    </span>┃<span style=\"font-weight: bold\"> Output Shape           </span>┃<span style=\"font-weight: bold\">       Param # </span>┃\n",
       "┡━━━━━━━━━━━━━━━━━━━━━━━━━━━━━━━━━╇━━━━━━━━━━━━━━━━━━━━━━━━╇━━━━━━━━━━━━━━━┩\n",
       "│ lstm (<span style=\"color: #0087ff; text-decoration-color: #0087ff\">LSTM</span>)                     │ (<span style=\"color: #00d7ff; text-decoration-color: #00d7ff\">None</span>, <span style=\"color: #00af00; text-decoration-color: #00af00\">128</span>)            │        <span style=\"color: #00af00; text-decoration-color: #00af00\">93,696</span> │\n",
       "├─────────────────────────────────┼────────────────────────┼───────────────┤\n",
       "│ dense (<span style=\"color: #0087ff; text-decoration-color: #0087ff\">Dense</span>)                   │ (<span style=\"color: #00d7ff; text-decoration-color: #00d7ff\">None</span>, <span style=\"color: #00af00; text-decoration-color: #00af00\">128</span>)            │        <span style=\"color: #00af00; text-decoration-color: #00af00\">16,512</span> │\n",
       "├─────────────────────────────────┼────────────────────────┼───────────────┤\n",
       "│ dense_6 (<span style=\"color: #0087ff; text-decoration-color: #0087ff\">Dense</span>)                 │ (<span style=\"color: #00d7ff; text-decoration-color: #00d7ff\">None</span>, <span style=\"color: #00af00; text-decoration-color: #00af00\">256</span>)            │        <span style=\"color: #00af00; text-decoration-color: #00af00\">33,024</span> │\n",
       "├─────────────────────────────────┼────────────────────────┼───────────────┤\n",
       "│ dense_7 (<span style=\"color: #0087ff; text-decoration-color: #0087ff\">Dense</span>)                 │ (<span style=\"color: #00d7ff; text-decoration-color: #00d7ff\">None</span>, <span style=\"color: #00af00; text-decoration-color: #00af00\">19</span>)             │         <span style=\"color: #00af00; text-decoration-color: #00af00\">4,883</span> │\n",
       "└─────────────────────────────────┴────────────────────────┴───────────────┘\n",
       "</pre>\n"
      ],
      "text/plain": [
       "┏━━━━━━━━━━━━━━━━━━━━━━━━━━━━━━━━━┳━━━━━━━━━━━━━━━━━━━━━━━━┳━━━━━━━━━━━━━━━┓\n",
       "┃\u001b[1m \u001b[0m\u001b[1mLayer (type)                   \u001b[0m\u001b[1m \u001b[0m┃\u001b[1m \u001b[0m\u001b[1mOutput Shape          \u001b[0m\u001b[1m \u001b[0m┃\u001b[1m \u001b[0m\u001b[1m      Param #\u001b[0m\u001b[1m \u001b[0m┃\n",
       "┡━━━━━━━━━━━━━━━━━━━━━━━━━━━━━━━━━╇━━━━━━━━━━━━━━━━━━━━━━━━╇━━━━━━━━━━━━━━━┩\n",
       "│ lstm (\u001b[38;5;33mLSTM\u001b[0m)                     │ (\u001b[38;5;45mNone\u001b[0m, \u001b[38;5;34m128\u001b[0m)            │        \u001b[38;5;34m93,696\u001b[0m │\n",
       "├─────────────────────────────────┼────────────────────────┼───────────────┤\n",
       "│ dense (\u001b[38;5;33mDense\u001b[0m)                   │ (\u001b[38;5;45mNone\u001b[0m, \u001b[38;5;34m128\u001b[0m)            │        \u001b[38;5;34m16,512\u001b[0m │\n",
       "├─────────────────────────────────┼────────────────────────┼───────────────┤\n",
       "│ dense_6 (\u001b[38;5;33mDense\u001b[0m)                 │ (\u001b[38;5;45mNone\u001b[0m, \u001b[38;5;34m256\u001b[0m)            │        \u001b[38;5;34m33,024\u001b[0m │\n",
       "├─────────────────────────────────┼────────────────────────┼───────────────┤\n",
       "│ dense_7 (\u001b[38;5;33mDense\u001b[0m)                 │ (\u001b[38;5;45mNone\u001b[0m, \u001b[38;5;34m19\u001b[0m)             │         \u001b[38;5;34m4,883\u001b[0m │\n",
       "└─────────────────────────────────┴────────────────────────┴───────────────┘\n"
      ]
     },
     "metadata": {},
     "output_type": "display_data"
    },
    {
     "data": {
      "text/html": [
       "<pre style=\"white-space:pre;overflow-x:auto;line-height:normal;font-family:Menlo,'DejaVu Sans Mono',consolas,'Courier New',monospace\"><span style=\"font-weight: bold\"> Total params: </span><span style=\"color: #00af00; text-decoration-color: #00af00\">223,931</span> (874.73 KB)\n",
       "</pre>\n"
      ],
      "text/plain": [
       "\u001b[1m Total params: \u001b[0m\u001b[38;5;34m223,931\u001b[0m (874.73 KB)\n"
      ]
     },
     "metadata": {},
     "output_type": "display_data"
    },
    {
     "data": {
      "text/html": [
       "<pre style=\"white-space:pre;overflow-x:auto;line-height:normal;font-family:Menlo,'DejaVu Sans Mono',consolas,'Courier New',monospace\"><span style=\"font-weight: bold\"> Trainable params: </span><span style=\"color: #00af00; text-decoration-color: #00af00\">37,907</span> (148.07 KB)\n",
       "</pre>\n"
      ],
      "text/plain": [
       "\u001b[1m Trainable params: \u001b[0m\u001b[38;5;34m37,907\u001b[0m (148.07 KB)\n"
      ]
     },
     "metadata": {},
     "output_type": "display_data"
    },
    {
     "data": {
      "text/html": [
       "<pre style=\"white-space:pre;overflow-x:auto;line-height:normal;font-family:Menlo,'DejaVu Sans Mono',consolas,'Courier New',monospace\"><span style=\"font-weight: bold\"> Non-trainable params: </span><span style=\"color: #00af00; text-decoration-color: #00af00\">110,208</span> (430.50 KB)\n",
       "</pre>\n"
      ],
      "text/plain": [
       "\u001b[1m Non-trainable params: \u001b[0m\u001b[38;5;34m110,208\u001b[0m (430.50 KB)\n"
      ]
     },
     "metadata": {},
     "output_type": "display_data"
    },
    {
     "data": {
      "text/html": [
       "<pre style=\"white-space:pre;overflow-x:auto;line-height:normal;font-family:Menlo,'DejaVu Sans Mono',consolas,'Courier New',monospace\"><span style=\"font-weight: bold\"> Optimizer params: </span><span style=\"color: #00af00; text-decoration-color: #00af00\">75,816</span> (296.16 KB)\n",
       "</pre>\n"
      ],
      "text/plain": [
       "\u001b[1m Optimizer params: \u001b[0m\u001b[38;5;34m75,816\u001b[0m (296.16 KB)\n"
      ]
     },
     "metadata": {},
     "output_type": "display_data"
    }
   ],
   "source": [
    "history3 = new_model.fit(X_train_seq_RA, y_train_seq_RA, epochs = 20, batch_size = 32, validation_split = 0.1, shuffle = True)\n",
    "\n",
    "new_model.summary()"
   ]
  },
  {
   "cell_type": "code",
   "execution_count": 73,
   "id": "03da2f42",
   "metadata": {},
   "outputs": [
    {
     "name": "stdout",
     "output_type": "stream",
     "text": [
      "\u001b[1m72/72\u001b[0m \u001b[32m━━━━━━━━━━━━━━━━━━━━\u001b[0m\u001b[37m\u001b[0m \u001b[1m0s\u001b[0m 740us/step - accuracy: 0.2577 - loss: 10.9999\n"
     ]
    },
    {
     "data": {
      "text/plain": [
       "[10.981653213500977, 0.24758559465408325]"
      ]
     },
     "execution_count": 73,
     "metadata": {},
     "output_type": "execute_result"
    }
   ],
   "source": [
    "new_model.evaluate(X_test_seq_LA, y_test_seq_LA)"
   ]
  },
  {
   "cell_type": "code",
   "execution_count": 74,
   "id": "d3e15881",
   "metadata": {},
   "outputs": [],
   "source": [
    "base_model.trainable = True\n",
    "new_model.compile(optimizer='adam', metrics=['accuracy'], loss='categorical_crossentropy')"
   ]
  },
  {
   "cell_type": "code",
   "execution_count": 75,
   "id": "36373964",
   "metadata": {},
   "outputs": [
    {
     "data": {
      "text/html": [
       "<div>\n",
       "<style scoped>\n",
       "    .dataframe tbody tr th:only-of-type {\n",
       "        vertical-align: middle;\n",
       "    }\n",
       "\n",
       "    .dataframe tbody tr th {\n",
       "        vertical-align: top;\n",
       "    }\n",
       "\n",
       "    .dataframe thead th {\n",
       "        text-align: right;\n",
       "    }\n",
       "</style>\n",
       "<table border=\"1\" class=\"dataframe\">\n",
       "  <thead>\n",
       "    <tr style=\"text-align: right;\">\n",
       "      <th></th>\n",
       "      <th>Layer Type</th>\n",
       "      <th>Layer Name</th>\n",
       "      <th>Layer Trainable</th>\n",
       "    </tr>\n",
       "  </thead>\n",
       "  <tbody>\n",
       "    <tr>\n",
       "      <th>0</th>\n",
       "      <td>&lt;LSTM name=lstm, built=True&gt;</td>\n",
       "      <td>lstm</td>\n",
       "      <td>True</td>\n",
       "    </tr>\n",
       "    <tr>\n",
       "      <th>1</th>\n",
       "      <td>&lt;Dense name=dense, built=True&gt;</td>\n",
       "      <td>dense</td>\n",
       "      <td>True</td>\n",
       "    </tr>\n",
       "    <tr>\n",
       "      <th>2</th>\n",
       "      <td>&lt;Dense name=dense_6, built=True&gt;</td>\n",
       "      <td>dense_6</td>\n",
       "      <td>True</td>\n",
       "    </tr>\n",
       "    <tr>\n",
       "      <th>3</th>\n",
       "      <td>&lt;Dense name=dense_7, built=True&gt;</td>\n",
       "      <td>dense_7</td>\n",
       "      <td>True</td>\n",
       "    </tr>\n",
       "  </tbody>\n",
       "</table>\n",
       "</div>"
      ],
      "text/plain": [
       "                         Layer Type Layer Name  Layer Trainable\n",
       "0      <LSTM name=lstm, built=True>       lstm             True\n",
       "1    <Dense name=dense, built=True>      dense             True\n",
       "2  <Dense name=dense_6, built=True>    dense_6             True\n",
       "3  <Dense name=dense_7, built=True>    dense_7             True"
      ]
     },
     "execution_count": 75,
     "metadata": {},
     "output_type": "execute_result"
    }
   ],
   "source": [
    "import pandas as pd\n",
    "display_layers = [(layer, layer.name, layer.trainable) for layer in new_model.layers]\n",
    "pd.DataFrame(display_layers, columns=['Layer Type', 'Layer Name', 'Layer Trainable'])"
   ]
  },
  {
   "cell_type": "code",
   "execution_count": 76,
   "id": "ed0e5dd7",
   "metadata": {},
   "outputs": [
    {
     "name": "stdout",
     "output_type": "stream",
     "text": [
      "Epoch 1/20\n",
      "\u001b[1m193/193\u001b[0m \u001b[32m━━━━━━━━━━━━━━━━━━━━\u001b[0m\u001b[37m\u001b[0m \u001b[1m1s\u001b[0m 3ms/step - accuracy: 0.4611 - loss: 2.9006 - val_accuracy: 0.6711 - val_loss: 1.0509\n",
      "Epoch 2/20\n",
      "\u001b[1m193/193\u001b[0m \u001b[32m━━━━━━━━━━━━━━━━━━━━\u001b[0m\u001b[37m\u001b[0m \u001b[1m0s\u001b[0m 2ms/step - accuracy: 0.7585 - loss: 0.7541 - val_accuracy: 0.7705 - val_loss: 0.7932\n",
      "Epoch 3/20\n",
      "\u001b[1m193/193\u001b[0m \u001b[32m━━━━━━━━━━━━━━━━━━━━\u001b[0m\u001b[37m\u001b[0m \u001b[1m0s\u001b[0m 2ms/step - accuracy: 0.8384 - loss: 0.5278 - val_accuracy: 0.7997 - val_loss: 0.6997\n",
      "Epoch 4/20\n",
      "\u001b[1m193/193\u001b[0m \u001b[32m━━━━━━━━━━━━━━━━━━━━\u001b[0m\u001b[37m\u001b[0m \u001b[1m0s\u001b[0m 2ms/step - accuracy: 0.8761 - loss: 0.4078 - val_accuracy: 0.8041 - val_loss: 0.7187\n",
      "Epoch 5/20\n",
      "\u001b[1m193/193\u001b[0m \u001b[32m━━━━━━━━━━━━━━━━━━━━\u001b[0m\u001b[37m\u001b[0m \u001b[1m0s\u001b[0m 2ms/step - accuracy: 0.9078 - loss: 0.3167 - val_accuracy: 0.8202 - val_loss: 0.6238\n",
      "Epoch 6/20\n",
      "\u001b[1m193/193\u001b[0m \u001b[32m━━━━━━━━━━━━━━━━━━━━\u001b[0m\u001b[37m\u001b[0m \u001b[1m0s\u001b[0m 2ms/step - accuracy: 0.9226 - loss: 0.2546 - val_accuracy: 0.8187 - val_loss: 0.7028\n",
      "Epoch 7/20\n",
      "\u001b[1m193/193\u001b[0m \u001b[32m━━━━━━━━━━━━━━━━━━━━\u001b[0m\u001b[37m\u001b[0m \u001b[1m0s\u001b[0m 3ms/step - accuracy: 0.9420 - loss: 0.1833 - val_accuracy: 0.8392 - val_loss: 0.6753\n",
      "Epoch 8/20\n",
      "\u001b[1m193/193\u001b[0m \u001b[32m━━━━━━━━━━━━━━━━━━━━\u001b[0m\u001b[37m\u001b[0m \u001b[1m0s\u001b[0m 2ms/step - accuracy: 0.9472 - loss: 0.1706 - val_accuracy: 0.8333 - val_loss: 0.6972\n",
      "Epoch 9/20\n",
      "\u001b[1m193/193\u001b[0m \u001b[32m━━━━━━━━━━━━━━━━━━━━\u001b[0m\u001b[37m\u001b[0m \u001b[1m0s\u001b[0m 2ms/step - accuracy: 0.9546 - loss: 0.1402 - val_accuracy: 0.8348 - val_loss: 0.7041\n",
      "Epoch 10/20\n",
      "\u001b[1m193/193\u001b[0m \u001b[32m━━━━━━━━━━━━━━━━━━━━\u001b[0m\u001b[37m\u001b[0m \u001b[1m0s\u001b[0m 2ms/step - accuracy: 0.9745 - loss: 0.0886 - val_accuracy: 0.8363 - val_loss: 0.7425\n",
      "Epoch 11/20\n",
      "\u001b[1m193/193\u001b[0m \u001b[32m━━━━━━━━━━━━━━━━━━━━\u001b[0m\u001b[37m\u001b[0m \u001b[1m0s\u001b[0m 2ms/step - accuracy: 0.9776 - loss: 0.0744 - val_accuracy: 0.8348 - val_loss: 0.7716\n",
      "Epoch 12/20\n",
      "\u001b[1m193/193\u001b[0m \u001b[32m━━━━━━━━━━━━━━━━━━━━\u001b[0m\u001b[37m\u001b[0m \u001b[1m0s\u001b[0m 3ms/step - accuracy: 0.9730 - loss: 0.0856 - val_accuracy: 0.8216 - val_loss: 0.7807\n",
      "Epoch 13/20\n",
      "\u001b[1m193/193\u001b[0m \u001b[32m━━━━━━━━━━━━━━━━━━━━\u001b[0m\u001b[37m\u001b[0m \u001b[1m0s\u001b[0m 2ms/step - accuracy: 0.9748 - loss: 0.0818 - val_accuracy: 0.8260 - val_loss: 0.7993\n",
      "Epoch 14/20\n",
      "\u001b[1m193/193\u001b[0m \u001b[32m━━━━━━━━━━━━━━━━━━━━\u001b[0m\u001b[37m\u001b[0m \u001b[1m0s\u001b[0m 2ms/step - accuracy: 0.9782 - loss: 0.0662 - val_accuracy: 0.8377 - val_loss: 0.7502\n",
      "Epoch 15/20\n",
      "\u001b[1m193/193\u001b[0m \u001b[32m━━━━━━━━━━━━━━━━━━━━\u001b[0m\u001b[37m\u001b[0m \u001b[1m0s\u001b[0m 2ms/step - accuracy: 0.9868 - loss: 0.0463 - val_accuracy: 0.8465 - val_loss: 0.8547\n",
      "Epoch 16/20\n",
      "\u001b[1m193/193\u001b[0m \u001b[32m━━━━━━━━━━━━━━━━━━━━\u001b[0m\u001b[37m\u001b[0m \u001b[1m0s\u001b[0m 2ms/step - accuracy: 0.9827 - loss: 0.0561 - val_accuracy: 0.8450 - val_loss: 0.9380\n",
      "Epoch 17/20\n",
      "\u001b[1m193/193\u001b[0m \u001b[32m━━━━━━━━━━━━━━━━━━━━\u001b[0m\u001b[37m\u001b[0m \u001b[1m0s\u001b[0m 2ms/step - accuracy: 0.9776 - loss: 0.0648 - val_accuracy: 0.8129 - val_loss: 0.9914\n",
      "Epoch 18/20\n",
      "\u001b[1m193/193\u001b[0m \u001b[32m━━━━━━━━━━━━━━━━━━━━\u001b[0m\u001b[37m\u001b[0m \u001b[1m0s\u001b[0m 2ms/step - accuracy: 0.9805 - loss: 0.0533 - val_accuracy: 0.8421 - val_loss: 0.8392\n",
      "Epoch 19/20\n",
      "\u001b[1m193/193\u001b[0m \u001b[32m━━━━━━━━━━━━━━━━━━━━\u001b[0m\u001b[37m\u001b[0m \u001b[1m0s\u001b[0m 2ms/step - accuracy: 0.9905 - loss: 0.0300 - val_accuracy: 0.8538 - val_loss: 0.8294\n",
      "Epoch 20/20\n",
      "\u001b[1m193/193\u001b[0m \u001b[32m━━━━━━━━━━━━━━━━━━━━\u001b[0m\u001b[37m\u001b[0m \u001b[1m0s\u001b[0m 2ms/step - accuracy: 0.9787 - loss: 0.0647 - val_accuracy: 0.8450 - val_loss: 0.8533\n"
     ]
    },
    {
     "data": {
      "text/html": [
       "<pre style=\"white-space:pre;overflow-x:auto;line-height:normal;font-family:Menlo,'DejaVu Sans Mono',consolas,'Courier New',monospace\"><span style=\"font-weight: bold\">Model: \"sequential_3\"</span>\n",
       "</pre>\n"
      ],
      "text/plain": [
       "\u001b[1mModel: \"sequential_3\"\u001b[0m\n"
      ]
     },
     "metadata": {},
     "output_type": "display_data"
    },
    {
     "data": {
      "text/html": [
       "<pre style=\"white-space:pre;overflow-x:auto;line-height:normal;font-family:Menlo,'DejaVu Sans Mono',consolas,'Courier New',monospace\">┏━━━━━━━━━━━━━━━━━━━━━━━━━━━━━━━━━┳━━━━━━━━━━━━━━━━━━━━━━━━┳━━━━━━━━━━━━━━━┓\n",
       "┃<span style=\"font-weight: bold\"> Layer (type)                    </span>┃<span style=\"font-weight: bold\"> Output Shape           </span>┃<span style=\"font-weight: bold\">       Param # </span>┃\n",
       "┡━━━━━━━━━━━━━━━━━━━━━━━━━━━━━━━━━╇━━━━━━━━━━━━━━━━━━━━━━━━╇━━━━━━━━━━━━━━━┩\n",
       "│ lstm (<span style=\"color: #0087ff; text-decoration-color: #0087ff\">LSTM</span>)                     │ (<span style=\"color: #00d7ff; text-decoration-color: #00d7ff\">None</span>, <span style=\"color: #00af00; text-decoration-color: #00af00\">128</span>)            │        <span style=\"color: #00af00; text-decoration-color: #00af00\">93,696</span> │\n",
       "├─────────────────────────────────┼────────────────────────┼───────────────┤\n",
       "│ dense (<span style=\"color: #0087ff; text-decoration-color: #0087ff\">Dense</span>)                   │ (<span style=\"color: #00d7ff; text-decoration-color: #00d7ff\">None</span>, <span style=\"color: #00af00; text-decoration-color: #00af00\">128</span>)            │        <span style=\"color: #00af00; text-decoration-color: #00af00\">16,512</span> │\n",
       "├─────────────────────────────────┼────────────────────────┼───────────────┤\n",
       "│ dense_6 (<span style=\"color: #0087ff; text-decoration-color: #0087ff\">Dense</span>)                 │ (<span style=\"color: #00d7ff; text-decoration-color: #00d7ff\">None</span>, <span style=\"color: #00af00; text-decoration-color: #00af00\">256</span>)            │        <span style=\"color: #00af00; text-decoration-color: #00af00\">33,024</span> │\n",
       "├─────────────────────────────────┼────────────────────────┼───────────────┤\n",
       "│ dense_7 (<span style=\"color: #0087ff; text-decoration-color: #0087ff\">Dense</span>)                 │ (<span style=\"color: #00d7ff; text-decoration-color: #00d7ff\">None</span>, <span style=\"color: #00af00; text-decoration-color: #00af00\">19</span>)             │         <span style=\"color: #00af00; text-decoration-color: #00af00\">4,883</span> │\n",
       "└─────────────────────────────────┴────────────────────────┴───────────────┘\n",
       "</pre>\n"
      ],
      "text/plain": [
       "┏━━━━━━━━━━━━━━━━━━━━━━━━━━━━━━━━━┳━━━━━━━━━━━━━━━━━━━━━━━━┳━━━━━━━━━━━━━━━┓\n",
       "┃\u001b[1m \u001b[0m\u001b[1mLayer (type)                   \u001b[0m\u001b[1m \u001b[0m┃\u001b[1m \u001b[0m\u001b[1mOutput Shape          \u001b[0m\u001b[1m \u001b[0m┃\u001b[1m \u001b[0m\u001b[1m      Param #\u001b[0m\u001b[1m \u001b[0m┃\n",
       "┡━━━━━━━━━━━━━━━━━━━━━━━━━━━━━━━━━╇━━━━━━━━━━━━━━━━━━━━━━━━╇━━━━━━━━━━━━━━━┩\n",
       "│ lstm (\u001b[38;5;33mLSTM\u001b[0m)                     │ (\u001b[38;5;45mNone\u001b[0m, \u001b[38;5;34m128\u001b[0m)            │        \u001b[38;5;34m93,696\u001b[0m │\n",
       "├─────────────────────────────────┼────────────────────────┼───────────────┤\n",
       "│ dense (\u001b[38;5;33mDense\u001b[0m)                   │ (\u001b[38;5;45mNone\u001b[0m, \u001b[38;5;34m128\u001b[0m)            │        \u001b[38;5;34m16,512\u001b[0m │\n",
       "├─────────────────────────────────┼────────────────────────┼───────────────┤\n",
       "│ dense_6 (\u001b[38;5;33mDense\u001b[0m)                 │ (\u001b[38;5;45mNone\u001b[0m, \u001b[38;5;34m256\u001b[0m)            │        \u001b[38;5;34m33,024\u001b[0m │\n",
       "├─────────────────────────────────┼────────────────────────┼───────────────┤\n",
       "│ dense_7 (\u001b[38;5;33mDense\u001b[0m)                 │ (\u001b[38;5;45mNone\u001b[0m, \u001b[38;5;34m19\u001b[0m)             │         \u001b[38;5;34m4,883\u001b[0m │\n",
       "└─────────────────────────────────┴────────────────────────┴───────────────┘\n"
      ]
     },
     "metadata": {},
     "output_type": "display_data"
    },
    {
     "data": {
      "text/html": [
       "<pre style=\"white-space:pre;overflow-x:auto;line-height:normal;font-family:Menlo,'DejaVu Sans Mono',consolas,'Courier New',monospace\"><span style=\"font-weight: bold\"> Total params: </span><span style=\"color: #00af00; text-decoration-color: #00af00\">444,347</span> (1.70 MB)\n",
       "</pre>\n"
      ],
      "text/plain": [
       "\u001b[1m Total params: \u001b[0m\u001b[38;5;34m444,347\u001b[0m (1.70 MB)\n"
      ]
     },
     "metadata": {},
     "output_type": "display_data"
    },
    {
     "data": {
      "text/html": [
       "<pre style=\"white-space:pre;overflow-x:auto;line-height:normal;font-family:Menlo,'DejaVu Sans Mono',consolas,'Courier New',monospace\"><span style=\"font-weight: bold\"> Trainable params: </span><span style=\"color: #00af00; text-decoration-color: #00af00\">148,115</span> (578.57 KB)\n",
       "</pre>\n"
      ],
      "text/plain": [
       "\u001b[1m Trainable params: \u001b[0m\u001b[38;5;34m148,115\u001b[0m (578.57 KB)\n"
      ]
     },
     "metadata": {},
     "output_type": "display_data"
    },
    {
     "data": {
      "text/html": [
       "<pre style=\"white-space:pre;overflow-x:auto;line-height:normal;font-family:Menlo,'DejaVu Sans Mono',consolas,'Courier New',monospace\"><span style=\"font-weight: bold\"> Non-trainable params: </span><span style=\"color: #00af00; text-decoration-color: #00af00\">0</span> (0.00 B)\n",
       "</pre>\n"
      ],
      "text/plain": [
       "\u001b[1m Non-trainable params: \u001b[0m\u001b[38;5;34m0\u001b[0m (0.00 B)\n"
      ]
     },
     "metadata": {},
     "output_type": "display_data"
    },
    {
     "data": {
      "text/html": [
       "<pre style=\"white-space:pre;overflow-x:auto;line-height:normal;font-family:Menlo,'DejaVu Sans Mono',consolas,'Courier New',monospace\"><span style=\"font-weight: bold\"> Optimizer params: </span><span style=\"color: #00af00; text-decoration-color: #00af00\">296,232</span> (1.13 MB)\n",
       "</pre>\n"
      ],
      "text/plain": [
       "\u001b[1m Optimizer params: \u001b[0m\u001b[38;5;34m296,232\u001b[0m (1.13 MB)\n"
      ]
     },
     "metadata": {},
     "output_type": "display_data"
    }
   ],
   "source": [
    "history3 = new_model.fit(X_train_seq_LA, y_train_seq_LA, epochs = 20, batch_size = 32, validation_split = 0.1, shuffle = True)\n",
    "\n",
    "new_model.summary()"
   ]
  },
  {
   "cell_type": "code",
   "execution_count": 77,
   "id": "f300cf69",
   "metadata": {},
   "outputs": [
    {
     "name": "stdout",
     "output_type": "stream",
     "text": [
      "\u001b[1m72/72\u001b[0m \u001b[32m━━━━━━━━━━━━━━━━━━━━\u001b[0m\u001b[37m\u001b[0m \u001b[1m0s\u001b[0m 705us/step - accuracy: 0.8502 - loss: 0.8367\n"
     ]
    },
    {
     "data": {
      "text/plain": [
       "[0.8964892029762268, 0.8467954397201538]"
      ]
     },
     "execution_count": 77,
     "metadata": {},
     "output_type": "execute_result"
    }
   ],
   "source": [
    "new_model.evaluate(X_test_seq_LA, y_test_seq_LA)"
   ]
  }
 ],
 "metadata": {
  "kernelspec": {
   "display_name": "Python 3 (ipykernel)",
   "language": "python",
   "name": "python3"
  },
  "language_info": {
   "codemirror_mode": {
    "name": "ipython",
    "version": 3
   },
   "file_extension": ".py",
   "mimetype": "text/x-python",
   "name": "python",
   "nbconvert_exporter": "python",
   "pygments_lexer": "ipython3",
   "version": "3.11.7"
  }
 },
 "nbformat": 4,
 "nbformat_minor": 5
}
